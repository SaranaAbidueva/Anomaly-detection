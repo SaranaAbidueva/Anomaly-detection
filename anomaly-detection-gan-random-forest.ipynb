{
  "nbformat": 4,
  "nbformat_minor": 0,
  "metadata": {
    "colab": {
      "name": "Копия блокнота \"Lab 3-1.ipynb\"",
      "provenance": [],
      "collapsed_sections": []
    },
    "kernelspec": {
      "name": "python3",
      "display_name": "Python 3"
    },
    "language_info": {
      "name": "python"
    }
  },
  "cells": [
    {
      "cell_type": "markdown",
      "metadata": {
        "id": "KgRptHrNLwhf"
      },
      "source": [
        "#Anomaly Detection of Network Packets\n",
        "\n",
        "This is a task from http://kdd.ics.uci.edu/databases/kddcup99/kddcup99.html about network traffic packets. There are several kinds of preclassified packets: normal, trojans, viruses, etc.\n",
        "\n",
        "The goal of this work to implement a detector of no normal = anomaly packets.\n",
        "\n"
      ]
    },
    {
      "cell_type": "markdown",
      "metadata": {
        "id": "q1cF2lhsYkkL"
      },
      "source": [
        "## Preparing data"
      ]
    },
    {
      "cell_type": "code",
      "metadata": {
        "colab": {
          "base_uri": "https://localhost:8080/"
        },
        "id": "gFdui3XYVVyd",
        "outputId": "fec298f6-a8ca-4583-b076-c487641b2695"
      },
      "source": [
        "  !wget http://kdd.ics.uci.edu/databases/kddcup99/kddcup.data_10_percent.gz"
      ],
      "execution_count": null,
      "outputs": [
        {
          "output_type": "stream",
          "name": "stdout",
          "text": [
            "--2021-11-20 08:18:50--  http://kdd.ics.uci.edu/databases/kddcup99/kddcup.data_10_percent.gz\n",
            "Resolving kdd.ics.uci.edu (kdd.ics.uci.edu)... 128.195.1.86\n",
            "Connecting to kdd.ics.uci.edu (kdd.ics.uci.edu)|128.195.1.86|:80... connected.\n",
            "HTTP request sent, awaiting response... 200 OK\n",
            "Length: 2144903 (2.0M) [application/x-gzip]\n",
            "Saving to: ‘kddcup.data_10_percent.gz’\n",
            "\n",
            "kddcup.data_10_perc 100%[===================>]   2.04M  1.56MB/s    in 1.3s    \n",
            "\n",
            "2021-11-20 08:18:52 (1.56 MB/s) - ‘kddcup.data_10_percent.gz’ saved [2144903/2144903]\n",
            "\n"
          ]
        }
      ]
    },
    {
      "cell_type": "code",
      "metadata": {
        "id": "oKHNil_QVkpL"
      },
      "source": [
        "!gzip -d /content/kddcup.data_10_percent.gz"
      ],
      "execution_count": null,
      "outputs": []
    },
    {
      "cell_type": "code",
      "metadata": {
        "id": "3LHvJvEAXlG-"
      },
      "source": [
        "col_labels = [\n",
        "  'back',\n",
        "  'buffer_overflow',\n",
        "  'ftp_write',\n",
        "  'guess_passwd',\n",
        "  'imap',\n",
        "  'ipsweep',\n",
        "  'land',\n",
        "  'loadmodule',\n",
        "  'multihop',\n",
        "  'neptune',\n",
        "  'nmap',\n",
        "  'normal',\n",
        "  'perl',\n",
        "  'phf',\n",
        "  'pod',\n",
        "  'portsweep',\n",
        "  'rootkit',\n",
        "  'satan',\n",
        "  'smurf',\n",
        "  'spy',\n",
        "  'teardrop',\n",
        "  'warezclient']\n",
        "\n",
        "col_names = [\"duration\",\"protocol_type\",\"service\",\"flag\",\"src_bytes\",\"dst_bytes\",\"land\",\"wrong_fragment\",\"urgent\",\"hot\",\"num_failed_logins\",\"logged_in\",\n",
        "             \"num_compromised\",\"root_shell\",\"su_attempted\",\"num_root\",\"num_file_creations\",\"num_shells\",\"num_access_files\",\"num_outbound_cmds\",\n",
        "             \"is_host_login\",\"is_guest_login\",\"count\",\"srv_count\",\"serror_rate\",\"srv_serror_rate\",\"rerror_rate\",\"srv_rerror_rate\",\"same_srv_rate\",\n",
        "             \"diff_srv_rate\",\"srv_diff_host_rate\",\"dst_host_count\",\"dst_host_srv_count\",\"dst_host_same_srv_rate\",\"dst_host_diff_srv_rate\",\n",
        "             \"dst_host_same_src_port_rate\",\"dst_host_srv_diff_host_rate\",\"dst_host_serror_rate\",\"dst_host_srv_serror_rate\",\"dst_host_rerror_rate\",\n",
        "             \"dst_host_srv_rerror_rate\",\"label\"]"
      ],
      "execution_count": null,
      "outputs": []
    },
    {
      "cell_type": "code",
      "metadata": {
        "id": "9HgTipFuYWqS"
      },
      "source": [
        "import pandas as pd"
      ],
      "execution_count": null,
      "outputs": []
    },
    {
      "cell_type": "code",
      "metadata": {
        "id": "Y2564d9RYcPM",
        "colab": {
          "base_uri": "https://localhost:8080/"
        },
        "outputId": "6688f332-f916-4990-f5ba-1a0e826d0c61"
      },
      "source": [
        "file_path = '/content/kddcup.data_10_percent'\n",
        "df = pd.read_csv(file_path, header=None, names=col_names, index_col=False)\n",
        "df.head"
      ],
      "execution_count": null,
      "outputs": [
        {
          "output_type": "execute_result",
          "data": {
            "text/plain": [
              "<bound method NDFrame.head of         duration protocol_type  ... dst_host_srv_rerror_rate    label\n",
              "0              0           tcp  ...                      0.0  normal.\n",
              "1              0           tcp  ...                      0.0  normal.\n",
              "2              0           tcp  ...                      0.0  normal.\n",
              "3              0           tcp  ...                      0.0  normal.\n",
              "4              0           tcp  ...                      0.0  normal.\n",
              "...          ...           ...  ...                      ...      ...\n",
              "494016         0           tcp  ...                      0.0  normal.\n",
              "494017         0           tcp  ...                      0.0  normal.\n",
              "494018         0           tcp  ...                      0.0  normal.\n",
              "494019         0           tcp  ...                      0.0  normal.\n",
              "494020         0           tcp  ...                      0.0  normal.\n",
              "\n",
              "[494021 rows x 42 columns]>"
            ]
          },
          "metadata": {},
          "execution_count": 5
        }
      ]
    },
    {
      "cell_type": "code",
      "metadata": {
        "colab": {
          "base_uri": "https://localhost:8080/"
        },
        "id": "sq4n094rY14y",
        "outputId": "f8283bb7-8d4d-4c45-9e67-eee0767b32c2"
      },
      "source": [
        "print(df['label'].value_counts())"
      ],
      "execution_count": null,
      "outputs": [
        {
          "output_type": "stream",
          "name": "stdout",
          "text": [
            "smurf.              280790\n",
            "neptune.            107201\n",
            "normal.              97278\n",
            "back.                 2203\n",
            "satan.                1589\n",
            "ipsweep.              1247\n",
            "portsweep.            1040\n",
            "warezclient.          1020\n",
            "teardrop.              979\n",
            "pod.                   264\n",
            "nmap.                  231\n",
            "guess_passwd.           53\n",
            "buffer_overflow.        30\n",
            "land.                   21\n",
            "warezmaster.            20\n",
            "imap.                   12\n",
            "rootkit.                10\n",
            "loadmodule.              9\n",
            "ftp_write.               8\n",
            "multihop.                7\n",
            "phf.                     4\n",
            "perl.                    3\n",
            "spy.                     2\n",
            "Name: label, dtype: int64\n"
          ]
        }
      ]
    },
    {
      "cell_type": "code",
      "metadata": {
        "id": "bAyo5HSpZVYN"
      },
      "source": [
        "from sklearn import preprocessing"
      ],
      "execution_count": null,
      "outputs": []
    },
    {
      "cell_type": "code",
      "metadata": {
        "id": "wiBFpeGOZd2S",
        "colab": {
          "base_uri": "https://localhost:8080/"
        },
        "outputId": "2cc2dd9c-9c12-4e9e-9021-ebf53a9e1b3e"
      },
      "source": [
        "le = preprocessing.LabelEncoder()\n",
        "le.fit(df.label)\n",
        "\n",
        "print(le.classes_)"
      ],
      "execution_count": null,
      "outputs": [
        {
          "output_type": "stream",
          "name": "stdout",
          "text": [
            "['back.' 'buffer_overflow.' 'ftp_write.' 'guess_passwd.' 'imap.'\n",
            " 'ipsweep.' 'land.' 'loadmodule.' 'multihop.' 'neptune.' 'nmap.' 'normal.'\n",
            " 'perl.' 'phf.' 'pod.' 'portsweep.' 'rootkit.' 'satan.' 'smurf.' 'spy.'\n",
            " 'teardrop.' 'warezclient.' 'warezmaster.']\n"
          ]
        }
      ]
    },
    {
      "cell_type": "code",
      "metadata": {
        "id": "VPOyY0IiaEMi"
      },
      "source": [
        "col_categories = ['protocol_type', \n",
        "                  'service', \n",
        "                  'flag', \n",
        "                  'land', \n",
        "                  'logged_in', \n",
        "                  'is_host_login', \n",
        "                  'is_guest_login']"
      ],
      "execution_count": null,
      "outputs": []
    },
    {
      "cell_type": "code",
      "metadata": {
        "id": "YmV4g8kcaeaq",
        "colab": {
          "base_uri": "https://localhost:8080/"
        },
        "outputId": "10a1cf69-7771-4c1c-9ed8-acae4d46a644"
      },
      "source": [
        "# just checking how data looks like\n",
        "print(df['service'].value_counts())"
      ],
      "execution_count": null,
      "outputs": [
        {
          "output_type": "stream",
          "name": "stdout",
          "text": [
            "ecr_i      281400\n",
            "private    110893\n",
            "http        64293\n",
            "smtp         9723\n",
            "other        7237\n",
            "            ...  \n",
            "X11            11\n",
            "tim_i           7\n",
            "pm_dump         1\n",
            "tftp_u          1\n",
            "red_i           1\n",
            "Name: service, Length: 66, dtype: int64\n"
          ]
        }
      ]
    },
    {
      "cell_type": "code",
      "metadata": {
        "id": "xXde7yqEawAw",
        "colab": {
          "base_uri": "https://localhost:8080/",
          "height": 408
        },
        "outputId": "dafd9569-1191-4643-da83-e8bdceae7793"
      },
      "source": [
        "# sample: protocol (\"http\", \"ftp\", \"smtp\")\n",
        "\n",
        "#abc.protocol = \"http\"\n",
        "#edf.protocol = \"smtp\"\n",
        "\n",
        "# sample | is_http | is_ftp | is_smtp\n",
        "#-----------------------------------------\n",
        "# abc.      1.         0.        0 \n",
        "# edf.      0.         0.        1\n",
        "\n",
        "\n",
        "# do one-hot encoding for the symbolic data\n",
        "cat_data = pd.get_dummies(df[col_categories])\n",
        "cat_data.head(10)"
      ],
      "execution_count": null,
      "outputs": [
        {
          "output_type": "execute_result",
          "data": {
            "text/html": [
              "<div>\n",
              "<style scoped>\n",
              "    .dataframe tbody tr th:only-of-type {\n",
              "        vertical-align: middle;\n",
              "    }\n",
              "\n",
              "    .dataframe tbody tr th {\n",
              "        vertical-align: top;\n",
              "    }\n",
              "\n",
              "    .dataframe thead th {\n",
              "        text-align: right;\n",
              "    }\n",
              "</style>\n",
              "<table border=\"1\" class=\"dataframe\">\n",
              "  <thead>\n",
              "    <tr style=\"text-align: right;\">\n",
              "      <th></th>\n",
              "      <th>land</th>\n",
              "      <th>logged_in</th>\n",
              "      <th>is_host_login</th>\n",
              "      <th>is_guest_login</th>\n",
              "      <th>protocol_type_icmp</th>\n",
              "      <th>protocol_type_tcp</th>\n",
              "      <th>protocol_type_udp</th>\n",
              "      <th>service_IRC</th>\n",
              "      <th>service_X11</th>\n",
              "      <th>service_Z39_50</th>\n",
              "      <th>service_aol</th>\n",
              "      <th>service_auth</th>\n",
              "      <th>service_bgp</th>\n",
              "      <th>service_courier</th>\n",
              "      <th>service_csnet_ns</th>\n",
              "      <th>service_ctf</th>\n",
              "      <th>service_daytime</th>\n",
              "      <th>service_discard</th>\n",
              "      <th>service_domain</th>\n",
              "      <th>service_domain_u</th>\n",
              "      <th>service_echo</th>\n",
              "      <th>service_eco_i</th>\n",
              "      <th>service_ecr_i</th>\n",
              "      <th>service_efs</th>\n",
              "      <th>service_exec</th>\n",
              "      <th>service_finger</th>\n",
              "      <th>service_ftp</th>\n",
              "      <th>service_ftp_data</th>\n",
              "      <th>service_gopher</th>\n",
              "      <th>service_harvest</th>\n",
              "      <th>service_hostnames</th>\n",
              "      <th>service_http</th>\n",
              "      <th>service_http_2784</th>\n",
              "      <th>service_http_443</th>\n",
              "      <th>service_http_8001</th>\n",
              "      <th>service_imap4</th>\n",
              "      <th>service_iso_tsap</th>\n",
              "      <th>service_klogin</th>\n",
              "      <th>service_kshell</th>\n",
              "      <th>service_ldap</th>\n",
              "      <th>...</th>\n",
              "      <th>service_nnsp</th>\n",
              "      <th>service_nntp</th>\n",
              "      <th>service_ntp_u</th>\n",
              "      <th>service_other</th>\n",
              "      <th>service_pm_dump</th>\n",
              "      <th>service_pop_2</th>\n",
              "      <th>service_pop_3</th>\n",
              "      <th>service_printer</th>\n",
              "      <th>service_private</th>\n",
              "      <th>service_red_i</th>\n",
              "      <th>service_remote_job</th>\n",
              "      <th>service_rje</th>\n",
              "      <th>service_shell</th>\n",
              "      <th>service_smtp</th>\n",
              "      <th>service_sql_net</th>\n",
              "      <th>service_ssh</th>\n",
              "      <th>service_sunrpc</th>\n",
              "      <th>service_supdup</th>\n",
              "      <th>service_systat</th>\n",
              "      <th>service_telnet</th>\n",
              "      <th>service_tftp_u</th>\n",
              "      <th>service_tim_i</th>\n",
              "      <th>service_time</th>\n",
              "      <th>service_urh_i</th>\n",
              "      <th>service_urp_i</th>\n",
              "      <th>service_uucp</th>\n",
              "      <th>service_uucp_path</th>\n",
              "      <th>service_vmnet</th>\n",
              "      <th>service_whois</th>\n",
              "      <th>flag_OTH</th>\n",
              "      <th>flag_REJ</th>\n",
              "      <th>flag_RSTO</th>\n",
              "      <th>flag_RSTOS0</th>\n",
              "      <th>flag_RSTR</th>\n",
              "      <th>flag_S0</th>\n",
              "      <th>flag_S1</th>\n",
              "      <th>flag_S2</th>\n",
              "      <th>flag_S3</th>\n",
              "      <th>flag_SF</th>\n",
              "      <th>flag_SH</th>\n",
              "    </tr>\n",
              "  </thead>\n",
              "  <tbody>\n",
              "    <tr>\n",
              "      <th>0</th>\n",
              "      <td>0</td>\n",
              "      <td>1</td>\n",
              "      <td>0</td>\n",
              "      <td>0</td>\n",
              "      <td>0</td>\n",
              "      <td>1</td>\n",
              "      <td>0</td>\n",
              "      <td>0</td>\n",
              "      <td>0</td>\n",
              "      <td>0</td>\n",
              "      <td>0</td>\n",
              "      <td>0</td>\n",
              "      <td>0</td>\n",
              "      <td>0</td>\n",
              "      <td>0</td>\n",
              "      <td>0</td>\n",
              "      <td>0</td>\n",
              "      <td>0</td>\n",
              "      <td>0</td>\n",
              "      <td>0</td>\n",
              "      <td>0</td>\n",
              "      <td>0</td>\n",
              "      <td>0</td>\n",
              "      <td>0</td>\n",
              "      <td>0</td>\n",
              "      <td>0</td>\n",
              "      <td>0</td>\n",
              "      <td>0</td>\n",
              "      <td>0</td>\n",
              "      <td>0</td>\n",
              "      <td>0</td>\n",
              "      <td>1</td>\n",
              "      <td>0</td>\n",
              "      <td>0</td>\n",
              "      <td>0</td>\n",
              "      <td>0</td>\n",
              "      <td>0</td>\n",
              "      <td>0</td>\n",
              "      <td>0</td>\n",
              "      <td>0</td>\n",
              "      <td>...</td>\n",
              "      <td>0</td>\n",
              "      <td>0</td>\n",
              "      <td>0</td>\n",
              "      <td>0</td>\n",
              "      <td>0</td>\n",
              "      <td>0</td>\n",
              "      <td>0</td>\n",
              "      <td>0</td>\n",
              "      <td>0</td>\n",
              "      <td>0</td>\n",
              "      <td>0</td>\n",
              "      <td>0</td>\n",
              "      <td>0</td>\n",
              "      <td>0</td>\n",
              "      <td>0</td>\n",
              "      <td>0</td>\n",
              "      <td>0</td>\n",
              "      <td>0</td>\n",
              "      <td>0</td>\n",
              "      <td>0</td>\n",
              "      <td>0</td>\n",
              "      <td>0</td>\n",
              "      <td>0</td>\n",
              "      <td>0</td>\n",
              "      <td>0</td>\n",
              "      <td>0</td>\n",
              "      <td>0</td>\n",
              "      <td>0</td>\n",
              "      <td>0</td>\n",
              "      <td>0</td>\n",
              "      <td>0</td>\n",
              "      <td>0</td>\n",
              "      <td>0</td>\n",
              "      <td>0</td>\n",
              "      <td>0</td>\n",
              "      <td>0</td>\n",
              "      <td>0</td>\n",
              "      <td>0</td>\n",
              "      <td>1</td>\n",
              "      <td>0</td>\n",
              "    </tr>\n",
              "    <tr>\n",
              "      <th>1</th>\n",
              "      <td>0</td>\n",
              "      <td>1</td>\n",
              "      <td>0</td>\n",
              "      <td>0</td>\n",
              "      <td>0</td>\n",
              "      <td>1</td>\n",
              "      <td>0</td>\n",
              "      <td>0</td>\n",
              "      <td>0</td>\n",
              "      <td>0</td>\n",
              "      <td>0</td>\n",
              "      <td>0</td>\n",
              "      <td>0</td>\n",
              "      <td>0</td>\n",
              "      <td>0</td>\n",
              "      <td>0</td>\n",
              "      <td>0</td>\n",
              "      <td>0</td>\n",
              "      <td>0</td>\n",
              "      <td>0</td>\n",
              "      <td>0</td>\n",
              "      <td>0</td>\n",
              "      <td>0</td>\n",
              "      <td>0</td>\n",
              "      <td>0</td>\n",
              "      <td>0</td>\n",
              "      <td>0</td>\n",
              "      <td>0</td>\n",
              "      <td>0</td>\n",
              "      <td>0</td>\n",
              "      <td>0</td>\n",
              "      <td>1</td>\n",
              "      <td>0</td>\n",
              "      <td>0</td>\n",
              "      <td>0</td>\n",
              "      <td>0</td>\n",
              "      <td>0</td>\n",
              "      <td>0</td>\n",
              "      <td>0</td>\n",
              "      <td>0</td>\n",
              "      <td>...</td>\n",
              "      <td>0</td>\n",
              "      <td>0</td>\n",
              "      <td>0</td>\n",
              "      <td>0</td>\n",
              "      <td>0</td>\n",
              "      <td>0</td>\n",
              "      <td>0</td>\n",
              "      <td>0</td>\n",
              "      <td>0</td>\n",
              "      <td>0</td>\n",
              "      <td>0</td>\n",
              "      <td>0</td>\n",
              "      <td>0</td>\n",
              "      <td>0</td>\n",
              "      <td>0</td>\n",
              "      <td>0</td>\n",
              "      <td>0</td>\n",
              "      <td>0</td>\n",
              "      <td>0</td>\n",
              "      <td>0</td>\n",
              "      <td>0</td>\n",
              "      <td>0</td>\n",
              "      <td>0</td>\n",
              "      <td>0</td>\n",
              "      <td>0</td>\n",
              "      <td>0</td>\n",
              "      <td>0</td>\n",
              "      <td>0</td>\n",
              "      <td>0</td>\n",
              "      <td>0</td>\n",
              "      <td>0</td>\n",
              "      <td>0</td>\n",
              "      <td>0</td>\n",
              "      <td>0</td>\n",
              "      <td>0</td>\n",
              "      <td>0</td>\n",
              "      <td>0</td>\n",
              "      <td>0</td>\n",
              "      <td>1</td>\n",
              "      <td>0</td>\n",
              "    </tr>\n",
              "    <tr>\n",
              "      <th>2</th>\n",
              "      <td>0</td>\n",
              "      <td>1</td>\n",
              "      <td>0</td>\n",
              "      <td>0</td>\n",
              "      <td>0</td>\n",
              "      <td>1</td>\n",
              "      <td>0</td>\n",
              "      <td>0</td>\n",
              "      <td>0</td>\n",
              "      <td>0</td>\n",
              "      <td>0</td>\n",
              "      <td>0</td>\n",
              "      <td>0</td>\n",
              "      <td>0</td>\n",
              "      <td>0</td>\n",
              "      <td>0</td>\n",
              "      <td>0</td>\n",
              "      <td>0</td>\n",
              "      <td>0</td>\n",
              "      <td>0</td>\n",
              "      <td>0</td>\n",
              "      <td>0</td>\n",
              "      <td>0</td>\n",
              "      <td>0</td>\n",
              "      <td>0</td>\n",
              "      <td>0</td>\n",
              "      <td>0</td>\n",
              "      <td>0</td>\n",
              "      <td>0</td>\n",
              "      <td>0</td>\n",
              "      <td>0</td>\n",
              "      <td>1</td>\n",
              "      <td>0</td>\n",
              "      <td>0</td>\n",
              "      <td>0</td>\n",
              "      <td>0</td>\n",
              "      <td>0</td>\n",
              "      <td>0</td>\n",
              "      <td>0</td>\n",
              "      <td>0</td>\n",
              "      <td>...</td>\n",
              "      <td>0</td>\n",
              "      <td>0</td>\n",
              "      <td>0</td>\n",
              "      <td>0</td>\n",
              "      <td>0</td>\n",
              "      <td>0</td>\n",
              "      <td>0</td>\n",
              "      <td>0</td>\n",
              "      <td>0</td>\n",
              "      <td>0</td>\n",
              "      <td>0</td>\n",
              "      <td>0</td>\n",
              "      <td>0</td>\n",
              "      <td>0</td>\n",
              "      <td>0</td>\n",
              "      <td>0</td>\n",
              "      <td>0</td>\n",
              "      <td>0</td>\n",
              "      <td>0</td>\n",
              "      <td>0</td>\n",
              "      <td>0</td>\n",
              "      <td>0</td>\n",
              "      <td>0</td>\n",
              "      <td>0</td>\n",
              "      <td>0</td>\n",
              "      <td>0</td>\n",
              "      <td>0</td>\n",
              "      <td>0</td>\n",
              "      <td>0</td>\n",
              "      <td>0</td>\n",
              "      <td>0</td>\n",
              "      <td>0</td>\n",
              "      <td>0</td>\n",
              "      <td>0</td>\n",
              "      <td>0</td>\n",
              "      <td>0</td>\n",
              "      <td>0</td>\n",
              "      <td>0</td>\n",
              "      <td>1</td>\n",
              "      <td>0</td>\n",
              "    </tr>\n",
              "    <tr>\n",
              "      <th>3</th>\n",
              "      <td>0</td>\n",
              "      <td>1</td>\n",
              "      <td>0</td>\n",
              "      <td>0</td>\n",
              "      <td>0</td>\n",
              "      <td>1</td>\n",
              "      <td>0</td>\n",
              "      <td>0</td>\n",
              "      <td>0</td>\n",
              "      <td>0</td>\n",
              "      <td>0</td>\n",
              "      <td>0</td>\n",
              "      <td>0</td>\n",
              "      <td>0</td>\n",
              "      <td>0</td>\n",
              "      <td>0</td>\n",
              "      <td>0</td>\n",
              "      <td>0</td>\n",
              "      <td>0</td>\n",
              "      <td>0</td>\n",
              "      <td>0</td>\n",
              "      <td>0</td>\n",
              "      <td>0</td>\n",
              "      <td>0</td>\n",
              "      <td>0</td>\n",
              "      <td>0</td>\n",
              "      <td>0</td>\n",
              "      <td>0</td>\n",
              "      <td>0</td>\n",
              "      <td>0</td>\n",
              "      <td>0</td>\n",
              "      <td>1</td>\n",
              "      <td>0</td>\n",
              "      <td>0</td>\n",
              "      <td>0</td>\n",
              "      <td>0</td>\n",
              "      <td>0</td>\n",
              "      <td>0</td>\n",
              "      <td>0</td>\n",
              "      <td>0</td>\n",
              "      <td>...</td>\n",
              "      <td>0</td>\n",
              "      <td>0</td>\n",
              "      <td>0</td>\n",
              "      <td>0</td>\n",
              "      <td>0</td>\n",
              "      <td>0</td>\n",
              "      <td>0</td>\n",
              "      <td>0</td>\n",
              "      <td>0</td>\n",
              "      <td>0</td>\n",
              "      <td>0</td>\n",
              "      <td>0</td>\n",
              "      <td>0</td>\n",
              "      <td>0</td>\n",
              "      <td>0</td>\n",
              "      <td>0</td>\n",
              "      <td>0</td>\n",
              "      <td>0</td>\n",
              "      <td>0</td>\n",
              "      <td>0</td>\n",
              "      <td>0</td>\n",
              "      <td>0</td>\n",
              "      <td>0</td>\n",
              "      <td>0</td>\n",
              "      <td>0</td>\n",
              "      <td>0</td>\n",
              "      <td>0</td>\n",
              "      <td>0</td>\n",
              "      <td>0</td>\n",
              "      <td>0</td>\n",
              "      <td>0</td>\n",
              "      <td>0</td>\n",
              "      <td>0</td>\n",
              "      <td>0</td>\n",
              "      <td>0</td>\n",
              "      <td>0</td>\n",
              "      <td>0</td>\n",
              "      <td>0</td>\n",
              "      <td>1</td>\n",
              "      <td>0</td>\n",
              "    </tr>\n",
              "    <tr>\n",
              "      <th>4</th>\n",
              "      <td>0</td>\n",
              "      <td>1</td>\n",
              "      <td>0</td>\n",
              "      <td>0</td>\n",
              "      <td>0</td>\n",
              "      <td>1</td>\n",
              "      <td>0</td>\n",
              "      <td>0</td>\n",
              "      <td>0</td>\n",
              "      <td>0</td>\n",
              "      <td>0</td>\n",
              "      <td>0</td>\n",
              "      <td>0</td>\n",
              "      <td>0</td>\n",
              "      <td>0</td>\n",
              "      <td>0</td>\n",
              "      <td>0</td>\n",
              "      <td>0</td>\n",
              "      <td>0</td>\n",
              "      <td>0</td>\n",
              "      <td>0</td>\n",
              "      <td>0</td>\n",
              "      <td>0</td>\n",
              "      <td>0</td>\n",
              "      <td>0</td>\n",
              "      <td>0</td>\n",
              "      <td>0</td>\n",
              "      <td>0</td>\n",
              "      <td>0</td>\n",
              "      <td>0</td>\n",
              "      <td>0</td>\n",
              "      <td>1</td>\n",
              "      <td>0</td>\n",
              "      <td>0</td>\n",
              "      <td>0</td>\n",
              "      <td>0</td>\n",
              "      <td>0</td>\n",
              "      <td>0</td>\n",
              "      <td>0</td>\n",
              "      <td>0</td>\n",
              "      <td>...</td>\n",
              "      <td>0</td>\n",
              "      <td>0</td>\n",
              "      <td>0</td>\n",
              "      <td>0</td>\n",
              "      <td>0</td>\n",
              "      <td>0</td>\n",
              "      <td>0</td>\n",
              "      <td>0</td>\n",
              "      <td>0</td>\n",
              "      <td>0</td>\n",
              "      <td>0</td>\n",
              "      <td>0</td>\n",
              "      <td>0</td>\n",
              "      <td>0</td>\n",
              "      <td>0</td>\n",
              "      <td>0</td>\n",
              "      <td>0</td>\n",
              "      <td>0</td>\n",
              "      <td>0</td>\n",
              "      <td>0</td>\n",
              "      <td>0</td>\n",
              "      <td>0</td>\n",
              "      <td>0</td>\n",
              "      <td>0</td>\n",
              "      <td>0</td>\n",
              "      <td>0</td>\n",
              "      <td>0</td>\n",
              "      <td>0</td>\n",
              "      <td>0</td>\n",
              "      <td>0</td>\n",
              "      <td>0</td>\n",
              "      <td>0</td>\n",
              "      <td>0</td>\n",
              "      <td>0</td>\n",
              "      <td>0</td>\n",
              "      <td>0</td>\n",
              "      <td>0</td>\n",
              "      <td>0</td>\n",
              "      <td>1</td>\n",
              "      <td>0</td>\n",
              "    </tr>\n",
              "    <tr>\n",
              "      <th>5</th>\n",
              "      <td>0</td>\n",
              "      <td>1</td>\n",
              "      <td>0</td>\n",
              "      <td>0</td>\n",
              "      <td>0</td>\n",
              "      <td>1</td>\n",
              "      <td>0</td>\n",
              "      <td>0</td>\n",
              "      <td>0</td>\n",
              "      <td>0</td>\n",
              "      <td>0</td>\n",
              "      <td>0</td>\n",
              "      <td>0</td>\n",
              "      <td>0</td>\n",
              "      <td>0</td>\n",
              "      <td>0</td>\n",
              "      <td>0</td>\n",
              "      <td>0</td>\n",
              "      <td>0</td>\n",
              "      <td>0</td>\n",
              "      <td>0</td>\n",
              "      <td>0</td>\n",
              "      <td>0</td>\n",
              "      <td>0</td>\n",
              "      <td>0</td>\n",
              "      <td>0</td>\n",
              "      <td>0</td>\n",
              "      <td>0</td>\n",
              "      <td>0</td>\n",
              "      <td>0</td>\n",
              "      <td>0</td>\n",
              "      <td>1</td>\n",
              "      <td>0</td>\n",
              "      <td>0</td>\n",
              "      <td>0</td>\n",
              "      <td>0</td>\n",
              "      <td>0</td>\n",
              "      <td>0</td>\n",
              "      <td>0</td>\n",
              "      <td>0</td>\n",
              "      <td>...</td>\n",
              "      <td>0</td>\n",
              "      <td>0</td>\n",
              "      <td>0</td>\n",
              "      <td>0</td>\n",
              "      <td>0</td>\n",
              "      <td>0</td>\n",
              "      <td>0</td>\n",
              "      <td>0</td>\n",
              "      <td>0</td>\n",
              "      <td>0</td>\n",
              "      <td>0</td>\n",
              "      <td>0</td>\n",
              "      <td>0</td>\n",
              "      <td>0</td>\n",
              "      <td>0</td>\n",
              "      <td>0</td>\n",
              "      <td>0</td>\n",
              "      <td>0</td>\n",
              "      <td>0</td>\n",
              "      <td>0</td>\n",
              "      <td>0</td>\n",
              "      <td>0</td>\n",
              "      <td>0</td>\n",
              "      <td>0</td>\n",
              "      <td>0</td>\n",
              "      <td>0</td>\n",
              "      <td>0</td>\n",
              "      <td>0</td>\n",
              "      <td>0</td>\n",
              "      <td>0</td>\n",
              "      <td>0</td>\n",
              "      <td>0</td>\n",
              "      <td>0</td>\n",
              "      <td>0</td>\n",
              "      <td>0</td>\n",
              "      <td>0</td>\n",
              "      <td>0</td>\n",
              "      <td>0</td>\n",
              "      <td>1</td>\n",
              "      <td>0</td>\n",
              "    </tr>\n",
              "    <tr>\n",
              "      <th>6</th>\n",
              "      <td>0</td>\n",
              "      <td>1</td>\n",
              "      <td>0</td>\n",
              "      <td>0</td>\n",
              "      <td>0</td>\n",
              "      <td>1</td>\n",
              "      <td>0</td>\n",
              "      <td>0</td>\n",
              "      <td>0</td>\n",
              "      <td>0</td>\n",
              "      <td>0</td>\n",
              "      <td>0</td>\n",
              "      <td>0</td>\n",
              "      <td>0</td>\n",
              "      <td>0</td>\n",
              "      <td>0</td>\n",
              "      <td>0</td>\n",
              "      <td>0</td>\n",
              "      <td>0</td>\n",
              "      <td>0</td>\n",
              "      <td>0</td>\n",
              "      <td>0</td>\n",
              "      <td>0</td>\n",
              "      <td>0</td>\n",
              "      <td>0</td>\n",
              "      <td>0</td>\n",
              "      <td>0</td>\n",
              "      <td>0</td>\n",
              "      <td>0</td>\n",
              "      <td>0</td>\n",
              "      <td>0</td>\n",
              "      <td>1</td>\n",
              "      <td>0</td>\n",
              "      <td>0</td>\n",
              "      <td>0</td>\n",
              "      <td>0</td>\n",
              "      <td>0</td>\n",
              "      <td>0</td>\n",
              "      <td>0</td>\n",
              "      <td>0</td>\n",
              "      <td>...</td>\n",
              "      <td>0</td>\n",
              "      <td>0</td>\n",
              "      <td>0</td>\n",
              "      <td>0</td>\n",
              "      <td>0</td>\n",
              "      <td>0</td>\n",
              "      <td>0</td>\n",
              "      <td>0</td>\n",
              "      <td>0</td>\n",
              "      <td>0</td>\n",
              "      <td>0</td>\n",
              "      <td>0</td>\n",
              "      <td>0</td>\n",
              "      <td>0</td>\n",
              "      <td>0</td>\n",
              "      <td>0</td>\n",
              "      <td>0</td>\n",
              "      <td>0</td>\n",
              "      <td>0</td>\n",
              "      <td>0</td>\n",
              "      <td>0</td>\n",
              "      <td>0</td>\n",
              "      <td>0</td>\n",
              "      <td>0</td>\n",
              "      <td>0</td>\n",
              "      <td>0</td>\n",
              "      <td>0</td>\n",
              "      <td>0</td>\n",
              "      <td>0</td>\n",
              "      <td>0</td>\n",
              "      <td>0</td>\n",
              "      <td>0</td>\n",
              "      <td>0</td>\n",
              "      <td>0</td>\n",
              "      <td>0</td>\n",
              "      <td>0</td>\n",
              "      <td>0</td>\n",
              "      <td>0</td>\n",
              "      <td>1</td>\n",
              "      <td>0</td>\n",
              "    </tr>\n",
              "    <tr>\n",
              "      <th>7</th>\n",
              "      <td>0</td>\n",
              "      <td>1</td>\n",
              "      <td>0</td>\n",
              "      <td>0</td>\n",
              "      <td>0</td>\n",
              "      <td>1</td>\n",
              "      <td>0</td>\n",
              "      <td>0</td>\n",
              "      <td>0</td>\n",
              "      <td>0</td>\n",
              "      <td>0</td>\n",
              "      <td>0</td>\n",
              "      <td>0</td>\n",
              "      <td>0</td>\n",
              "      <td>0</td>\n",
              "      <td>0</td>\n",
              "      <td>0</td>\n",
              "      <td>0</td>\n",
              "      <td>0</td>\n",
              "      <td>0</td>\n",
              "      <td>0</td>\n",
              "      <td>0</td>\n",
              "      <td>0</td>\n",
              "      <td>0</td>\n",
              "      <td>0</td>\n",
              "      <td>0</td>\n",
              "      <td>0</td>\n",
              "      <td>0</td>\n",
              "      <td>0</td>\n",
              "      <td>0</td>\n",
              "      <td>0</td>\n",
              "      <td>1</td>\n",
              "      <td>0</td>\n",
              "      <td>0</td>\n",
              "      <td>0</td>\n",
              "      <td>0</td>\n",
              "      <td>0</td>\n",
              "      <td>0</td>\n",
              "      <td>0</td>\n",
              "      <td>0</td>\n",
              "      <td>...</td>\n",
              "      <td>0</td>\n",
              "      <td>0</td>\n",
              "      <td>0</td>\n",
              "      <td>0</td>\n",
              "      <td>0</td>\n",
              "      <td>0</td>\n",
              "      <td>0</td>\n",
              "      <td>0</td>\n",
              "      <td>0</td>\n",
              "      <td>0</td>\n",
              "      <td>0</td>\n",
              "      <td>0</td>\n",
              "      <td>0</td>\n",
              "      <td>0</td>\n",
              "      <td>0</td>\n",
              "      <td>0</td>\n",
              "      <td>0</td>\n",
              "      <td>0</td>\n",
              "      <td>0</td>\n",
              "      <td>0</td>\n",
              "      <td>0</td>\n",
              "      <td>0</td>\n",
              "      <td>0</td>\n",
              "      <td>0</td>\n",
              "      <td>0</td>\n",
              "      <td>0</td>\n",
              "      <td>0</td>\n",
              "      <td>0</td>\n",
              "      <td>0</td>\n",
              "      <td>0</td>\n",
              "      <td>0</td>\n",
              "      <td>0</td>\n",
              "      <td>0</td>\n",
              "      <td>0</td>\n",
              "      <td>0</td>\n",
              "      <td>0</td>\n",
              "      <td>0</td>\n",
              "      <td>0</td>\n",
              "      <td>1</td>\n",
              "      <td>0</td>\n",
              "    </tr>\n",
              "    <tr>\n",
              "      <th>8</th>\n",
              "      <td>0</td>\n",
              "      <td>1</td>\n",
              "      <td>0</td>\n",
              "      <td>0</td>\n",
              "      <td>0</td>\n",
              "      <td>1</td>\n",
              "      <td>0</td>\n",
              "      <td>0</td>\n",
              "      <td>0</td>\n",
              "      <td>0</td>\n",
              "      <td>0</td>\n",
              "      <td>0</td>\n",
              "      <td>0</td>\n",
              "      <td>0</td>\n",
              "      <td>0</td>\n",
              "      <td>0</td>\n",
              "      <td>0</td>\n",
              "      <td>0</td>\n",
              "      <td>0</td>\n",
              "      <td>0</td>\n",
              "      <td>0</td>\n",
              "      <td>0</td>\n",
              "      <td>0</td>\n",
              "      <td>0</td>\n",
              "      <td>0</td>\n",
              "      <td>0</td>\n",
              "      <td>0</td>\n",
              "      <td>0</td>\n",
              "      <td>0</td>\n",
              "      <td>0</td>\n",
              "      <td>0</td>\n",
              "      <td>1</td>\n",
              "      <td>0</td>\n",
              "      <td>0</td>\n",
              "      <td>0</td>\n",
              "      <td>0</td>\n",
              "      <td>0</td>\n",
              "      <td>0</td>\n",
              "      <td>0</td>\n",
              "      <td>0</td>\n",
              "      <td>...</td>\n",
              "      <td>0</td>\n",
              "      <td>0</td>\n",
              "      <td>0</td>\n",
              "      <td>0</td>\n",
              "      <td>0</td>\n",
              "      <td>0</td>\n",
              "      <td>0</td>\n",
              "      <td>0</td>\n",
              "      <td>0</td>\n",
              "      <td>0</td>\n",
              "      <td>0</td>\n",
              "      <td>0</td>\n",
              "      <td>0</td>\n",
              "      <td>0</td>\n",
              "      <td>0</td>\n",
              "      <td>0</td>\n",
              "      <td>0</td>\n",
              "      <td>0</td>\n",
              "      <td>0</td>\n",
              "      <td>0</td>\n",
              "      <td>0</td>\n",
              "      <td>0</td>\n",
              "      <td>0</td>\n",
              "      <td>0</td>\n",
              "      <td>0</td>\n",
              "      <td>0</td>\n",
              "      <td>0</td>\n",
              "      <td>0</td>\n",
              "      <td>0</td>\n",
              "      <td>0</td>\n",
              "      <td>0</td>\n",
              "      <td>0</td>\n",
              "      <td>0</td>\n",
              "      <td>0</td>\n",
              "      <td>0</td>\n",
              "      <td>0</td>\n",
              "      <td>0</td>\n",
              "      <td>0</td>\n",
              "      <td>1</td>\n",
              "      <td>0</td>\n",
              "    </tr>\n",
              "    <tr>\n",
              "      <th>9</th>\n",
              "      <td>0</td>\n",
              "      <td>1</td>\n",
              "      <td>0</td>\n",
              "      <td>0</td>\n",
              "      <td>0</td>\n",
              "      <td>1</td>\n",
              "      <td>0</td>\n",
              "      <td>0</td>\n",
              "      <td>0</td>\n",
              "      <td>0</td>\n",
              "      <td>0</td>\n",
              "      <td>0</td>\n",
              "      <td>0</td>\n",
              "      <td>0</td>\n",
              "      <td>0</td>\n",
              "      <td>0</td>\n",
              "      <td>0</td>\n",
              "      <td>0</td>\n",
              "      <td>0</td>\n",
              "      <td>0</td>\n",
              "      <td>0</td>\n",
              "      <td>0</td>\n",
              "      <td>0</td>\n",
              "      <td>0</td>\n",
              "      <td>0</td>\n",
              "      <td>0</td>\n",
              "      <td>0</td>\n",
              "      <td>0</td>\n",
              "      <td>0</td>\n",
              "      <td>0</td>\n",
              "      <td>0</td>\n",
              "      <td>1</td>\n",
              "      <td>0</td>\n",
              "      <td>0</td>\n",
              "      <td>0</td>\n",
              "      <td>0</td>\n",
              "      <td>0</td>\n",
              "      <td>0</td>\n",
              "      <td>0</td>\n",
              "      <td>0</td>\n",
              "      <td>...</td>\n",
              "      <td>0</td>\n",
              "      <td>0</td>\n",
              "      <td>0</td>\n",
              "      <td>0</td>\n",
              "      <td>0</td>\n",
              "      <td>0</td>\n",
              "      <td>0</td>\n",
              "      <td>0</td>\n",
              "      <td>0</td>\n",
              "      <td>0</td>\n",
              "      <td>0</td>\n",
              "      <td>0</td>\n",
              "      <td>0</td>\n",
              "      <td>0</td>\n",
              "      <td>0</td>\n",
              "      <td>0</td>\n",
              "      <td>0</td>\n",
              "      <td>0</td>\n",
              "      <td>0</td>\n",
              "      <td>0</td>\n",
              "      <td>0</td>\n",
              "      <td>0</td>\n",
              "      <td>0</td>\n",
              "      <td>0</td>\n",
              "      <td>0</td>\n",
              "      <td>0</td>\n",
              "      <td>0</td>\n",
              "      <td>0</td>\n",
              "      <td>0</td>\n",
              "      <td>0</td>\n",
              "      <td>0</td>\n",
              "      <td>0</td>\n",
              "      <td>0</td>\n",
              "      <td>0</td>\n",
              "      <td>0</td>\n",
              "      <td>0</td>\n",
              "      <td>0</td>\n",
              "      <td>0</td>\n",
              "      <td>1</td>\n",
              "      <td>0</td>\n",
              "    </tr>\n",
              "  </tbody>\n",
              "</table>\n",
              "<p>10 rows × 88 columns</p>\n",
              "</div>"
            ],
            "text/plain": [
              "   land  logged_in  is_host_login  ...  flag_S3  flag_SF  flag_SH\n",
              "0     0          1              0  ...        0        1        0\n",
              "1     0          1              0  ...        0        1        0\n",
              "2     0          1              0  ...        0        1        0\n",
              "3     0          1              0  ...        0        1        0\n",
              "4     0          1              0  ...        0        1        0\n",
              "5     0          1              0  ...        0        1        0\n",
              "6     0          1              0  ...        0        1        0\n",
              "7     0          1              0  ...        0        1        0\n",
              "8     0          1              0  ...        0        1        0\n",
              "9     0          1              0  ...        0        1        0\n",
              "\n",
              "[10 rows x 88 columns]"
            ]
          },
          "metadata": {},
          "execution_count": 12
        }
      ]
    },
    {
      "cell_type": "code",
      "metadata": {
        "id": "qW2CSPZ_bbDl"
      },
      "source": [
        "# exclude symbolic columns from the original dataset\n",
        "\n",
        "col_numerics = list(set(df.columns.values) - set(col_categories))"
      ],
      "execution_count": null,
      "outputs": []
    },
    {
      "cell_type": "code",
      "metadata": {
        "colab": {
          "base_uri": "https://localhost:8080/"
        },
        "id": "3_AxGdLIcfyL",
        "outputId": "3bed4d49-218a-4c3f-bae8-af336d5ca433"
      },
      "source": [
        "print(col_numerics)\n",
        "col_numerics.remove('label')"
      ],
      "execution_count": null,
      "outputs": [
        {
          "output_type": "stream",
          "name": "stdout",
          "text": [
            "['dst_host_serror_rate', 'srv_count', 'count', 'num_outbound_cmds', 'dst_host_count', 'num_access_files', 'diff_srv_rate', 'dst_host_srv_count', 'dst_host_rerror_rate', 'num_file_creations', 'urgent', 'dst_host_diff_srv_rate', 'wrong_fragment', 'srv_diff_host_rate', 'same_srv_rate', 'num_shells', 'dst_host_srv_serror_rate', 'dst_host_same_srv_rate', 'dst_host_srv_diff_host_rate', 'srv_serror_rate', 'dst_host_srv_rerror_rate', 'num_compromised', 'su_attempted', 'dst_host_same_src_port_rate', 'hot', 'label', 'dst_bytes', 'serror_rate', 'root_shell', 'num_root', 'src_bytes', 'rerror_rate', 'srv_rerror_rate', 'duration', 'num_failed_logins']\n"
          ]
        }
      ]
    },
    {
      "cell_type": "code",
      "metadata": {
        "id": "XQfnTNK2c2uU"
      },
      "source": [
        "# and add one-hot-encoded columns\n",
        "numerics_data = df[col_numerics].copy()\n",
        "numerics_cat_data = pd.concat([numerics_data, cat_data] ,axis=1)"
      ],
      "execution_count": null,
      "outputs": []
    },
    {
      "cell_type": "code",
      "metadata": {
        "id": "NxkSFwx_dVac"
      },
      "source": [
        "labels = df['label'].copy()\n",
        "transormed_labels = le.transform(labels)"
      ],
      "execution_count": null,
      "outputs": []
    },
    {
      "cell_type": "code",
      "metadata": {
        "id": "C_VCPP6q0L22",
        "colab": {
          "base_uri": "https://localhost:8080/",
          "height": 439
        },
        "outputId": "4c0e2dbf-886b-4cae-95e1-8c1caad812e5"
      },
      "source": [
        "df"
      ],
      "execution_count": null,
      "outputs": [
        {
          "output_type": "execute_result",
          "data": {
            "text/html": [
              "<div>\n",
              "<style scoped>\n",
              "    .dataframe tbody tr th:only-of-type {\n",
              "        vertical-align: middle;\n",
              "    }\n",
              "\n",
              "    .dataframe tbody tr th {\n",
              "        vertical-align: top;\n",
              "    }\n",
              "\n",
              "    .dataframe thead th {\n",
              "        text-align: right;\n",
              "    }\n",
              "</style>\n",
              "<table border=\"1\" class=\"dataframe\">\n",
              "  <thead>\n",
              "    <tr style=\"text-align: right;\">\n",
              "      <th></th>\n",
              "      <th>duration</th>\n",
              "      <th>protocol_type</th>\n",
              "      <th>service</th>\n",
              "      <th>flag</th>\n",
              "      <th>src_bytes</th>\n",
              "      <th>dst_bytes</th>\n",
              "      <th>land</th>\n",
              "      <th>wrong_fragment</th>\n",
              "      <th>urgent</th>\n",
              "      <th>hot</th>\n",
              "      <th>num_failed_logins</th>\n",
              "      <th>logged_in</th>\n",
              "      <th>num_compromised</th>\n",
              "      <th>root_shell</th>\n",
              "      <th>su_attempted</th>\n",
              "      <th>num_root</th>\n",
              "      <th>num_file_creations</th>\n",
              "      <th>num_shells</th>\n",
              "      <th>num_access_files</th>\n",
              "      <th>num_outbound_cmds</th>\n",
              "      <th>is_host_login</th>\n",
              "      <th>is_guest_login</th>\n",
              "      <th>count</th>\n",
              "      <th>srv_count</th>\n",
              "      <th>serror_rate</th>\n",
              "      <th>srv_serror_rate</th>\n",
              "      <th>rerror_rate</th>\n",
              "      <th>srv_rerror_rate</th>\n",
              "      <th>same_srv_rate</th>\n",
              "      <th>diff_srv_rate</th>\n",
              "      <th>srv_diff_host_rate</th>\n",
              "      <th>dst_host_count</th>\n",
              "      <th>dst_host_srv_count</th>\n",
              "      <th>dst_host_same_srv_rate</th>\n",
              "      <th>dst_host_diff_srv_rate</th>\n",
              "      <th>dst_host_same_src_port_rate</th>\n",
              "      <th>dst_host_srv_diff_host_rate</th>\n",
              "      <th>dst_host_serror_rate</th>\n",
              "      <th>dst_host_srv_serror_rate</th>\n",
              "      <th>dst_host_rerror_rate</th>\n",
              "      <th>dst_host_srv_rerror_rate</th>\n",
              "      <th>label</th>\n",
              "    </tr>\n",
              "  </thead>\n",
              "  <tbody>\n",
              "    <tr>\n",
              "      <th>0</th>\n",
              "      <td>0</td>\n",
              "      <td>tcp</td>\n",
              "      <td>http</td>\n",
              "      <td>SF</td>\n",
              "      <td>181</td>\n",
              "      <td>5450</td>\n",
              "      <td>0</td>\n",
              "      <td>0</td>\n",
              "      <td>0</td>\n",
              "      <td>0</td>\n",
              "      <td>0</td>\n",
              "      <td>1</td>\n",
              "      <td>0</td>\n",
              "      <td>0</td>\n",
              "      <td>0</td>\n",
              "      <td>0</td>\n",
              "      <td>0</td>\n",
              "      <td>0</td>\n",
              "      <td>0</td>\n",
              "      <td>0</td>\n",
              "      <td>0</td>\n",
              "      <td>0</td>\n",
              "      <td>8</td>\n",
              "      <td>8</td>\n",
              "      <td>0.00</td>\n",
              "      <td>0.00</td>\n",
              "      <td>0.0</td>\n",
              "      <td>0.0</td>\n",
              "      <td>1.0</td>\n",
              "      <td>0.0</td>\n",
              "      <td>0.00</td>\n",
              "      <td>9</td>\n",
              "      <td>9</td>\n",
              "      <td>1.0</td>\n",
              "      <td>0.0</td>\n",
              "      <td>0.11</td>\n",
              "      <td>0.00</td>\n",
              "      <td>0.00</td>\n",
              "      <td>0.00</td>\n",
              "      <td>0.0</td>\n",
              "      <td>0.0</td>\n",
              "      <td>normal.</td>\n",
              "    </tr>\n",
              "    <tr>\n",
              "      <th>1</th>\n",
              "      <td>0</td>\n",
              "      <td>tcp</td>\n",
              "      <td>http</td>\n",
              "      <td>SF</td>\n",
              "      <td>239</td>\n",
              "      <td>486</td>\n",
              "      <td>0</td>\n",
              "      <td>0</td>\n",
              "      <td>0</td>\n",
              "      <td>0</td>\n",
              "      <td>0</td>\n",
              "      <td>1</td>\n",
              "      <td>0</td>\n",
              "      <td>0</td>\n",
              "      <td>0</td>\n",
              "      <td>0</td>\n",
              "      <td>0</td>\n",
              "      <td>0</td>\n",
              "      <td>0</td>\n",
              "      <td>0</td>\n",
              "      <td>0</td>\n",
              "      <td>0</td>\n",
              "      <td>8</td>\n",
              "      <td>8</td>\n",
              "      <td>0.00</td>\n",
              "      <td>0.00</td>\n",
              "      <td>0.0</td>\n",
              "      <td>0.0</td>\n",
              "      <td>1.0</td>\n",
              "      <td>0.0</td>\n",
              "      <td>0.00</td>\n",
              "      <td>19</td>\n",
              "      <td>19</td>\n",
              "      <td>1.0</td>\n",
              "      <td>0.0</td>\n",
              "      <td>0.05</td>\n",
              "      <td>0.00</td>\n",
              "      <td>0.00</td>\n",
              "      <td>0.00</td>\n",
              "      <td>0.0</td>\n",
              "      <td>0.0</td>\n",
              "      <td>normal.</td>\n",
              "    </tr>\n",
              "    <tr>\n",
              "      <th>2</th>\n",
              "      <td>0</td>\n",
              "      <td>tcp</td>\n",
              "      <td>http</td>\n",
              "      <td>SF</td>\n",
              "      <td>235</td>\n",
              "      <td>1337</td>\n",
              "      <td>0</td>\n",
              "      <td>0</td>\n",
              "      <td>0</td>\n",
              "      <td>0</td>\n",
              "      <td>0</td>\n",
              "      <td>1</td>\n",
              "      <td>0</td>\n",
              "      <td>0</td>\n",
              "      <td>0</td>\n",
              "      <td>0</td>\n",
              "      <td>0</td>\n",
              "      <td>0</td>\n",
              "      <td>0</td>\n",
              "      <td>0</td>\n",
              "      <td>0</td>\n",
              "      <td>0</td>\n",
              "      <td>8</td>\n",
              "      <td>8</td>\n",
              "      <td>0.00</td>\n",
              "      <td>0.00</td>\n",
              "      <td>0.0</td>\n",
              "      <td>0.0</td>\n",
              "      <td>1.0</td>\n",
              "      <td>0.0</td>\n",
              "      <td>0.00</td>\n",
              "      <td>29</td>\n",
              "      <td>29</td>\n",
              "      <td>1.0</td>\n",
              "      <td>0.0</td>\n",
              "      <td>0.03</td>\n",
              "      <td>0.00</td>\n",
              "      <td>0.00</td>\n",
              "      <td>0.00</td>\n",
              "      <td>0.0</td>\n",
              "      <td>0.0</td>\n",
              "      <td>normal.</td>\n",
              "    </tr>\n",
              "    <tr>\n",
              "      <th>3</th>\n",
              "      <td>0</td>\n",
              "      <td>tcp</td>\n",
              "      <td>http</td>\n",
              "      <td>SF</td>\n",
              "      <td>219</td>\n",
              "      <td>1337</td>\n",
              "      <td>0</td>\n",
              "      <td>0</td>\n",
              "      <td>0</td>\n",
              "      <td>0</td>\n",
              "      <td>0</td>\n",
              "      <td>1</td>\n",
              "      <td>0</td>\n",
              "      <td>0</td>\n",
              "      <td>0</td>\n",
              "      <td>0</td>\n",
              "      <td>0</td>\n",
              "      <td>0</td>\n",
              "      <td>0</td>\n",
              "      <td>0</td>\n",
              "      <td>0</td>\n",
              "      <td>0</td>\n",
              "      <td>6</td>\n",
              "      <td>6</td>\n",
              "      <td>0.00</td>\n",
              "      <td>0.00</td>\n",
              "      <td>0.0</td>\n",
              "      <td>0.0</td>\n",
              "      <td>1.0</td>\n",
              "      <td>0.0</td>\n",
              "      <td>0.00</td>\n",
              "      <td>39</td>\n",
              "      <td>39</td>\n",
              "      <td>1.0</td>\n",
              "      <td>0.0</td>\n",
              "      <td>0.03</td>\n",
              "      <td>0.00</td>\n",
              "      <td>0.00</td>\n",
              "      <td>0.00</td>\n",
              "      <td>0.0</td>\n",
              "      <td>0.0</td>\n",
              "      <td>normal.</td>\n",
              "    </tr>\n",
              "    <tr>\n",
              "      <th>4</th>\n",
              "      <td>0</td>\n",
              "      <td>tcp</td>\n",
              "      <td>http</td>\n",
              "      <td>SF</td>\n",
              "      <td>217</td>\n",
              "      <td>2032</td>\n",
              "      <td>0</td>\n",
              "      <td>0</td>\n",
              "      <td>0</td>\n",
              "      <td>0</td>\n",
              "      <td>0</td>\n",
              "      <td>1</td>\n",
              "      <td>0</td>\n",
              "      <td>0</td>\n",
              "      <td>0</td>\n",
              "      <td>0</td>\n",
              "      <td>0</td>\n",
              "      <td>0</td>\n",
              "      <td>0</td>\n",
              "      <td>0</td>\n",
              "      <td>0</td>\n",
              "      <td>0</td>\n",
              "      <td>6</td>\n",
              "      <td>6</td>\n",
              "      <td>0.00</td>\n",
              "      <td>0.00</td>\n",
              "      <td>0.0</td>\n",
              "      <td>0.0</td>\n",
              "      <td>1.0</td>\n",
              "      <td>0.0</td>\n",
              "      <td>0.00</td>\n",
              "      <td>49</td>\n",
              "      <td>49</td>\n",
              "      <td>1.0</td>\n",
              "      <td>0.0</td>\n",
              "      <td>0.02</td>\n",
              "      <td>0.00</td>\n",
              "      <td>0.00</td>\n",
              "      <td>0.00</td>\n",
              "      <td>0.0</td>\n",
              "      <td>0.0</td>\n",
              "      <td>normal.</td>\n",
              "    </tr>\n",
              "    <tr>\n",
              "      <th>...</th>\n",
              "      <td>...</td>\n",
              "      <td>...</td>\n",
              "      <td>...</td>\n",
              "      <td>...</td>\n",
              "      <td>...</td>\n",
              "      <td>...</td>\n",
              "      <td>...</td>\n",
              "      <td>...</td>\n",
              "      <td>...</td>\n",
              "      <td>...</td>\n",
              "      <td>...</td>\n",
              "      <td>...</td>\n",
              "      <td>...</td>\n",
              "      <td>...</td>\n",
              "      <td>...</td>\n",
              "      <td>...</td>\n",
              "      <td>...</td>\n",
              "      <td>...</td>\n",
              "      <td>...</td>\n",
              "      <td>...</td>\n",
              "      <td>...</td>\n",
              "      <td>...</td>\n",
              "      <td>...</td>\n",
              "      <td>...</td>\n",
              "      <td>...</td>\n",
              "      <td>...</td>\n",
              "      <td>...</td>\n",
              "      <td>...</td>\n",
              "      <td>...</td>\n",
              "      <td>...</td>\n",
              "      <td>...</td>\n",
              "      <td>...</td>\n",
              "      <td>...</td>\n",
              "      <td>...</td>\n",
              "      <td>...</td>\n",
              "      <td>...</td>\n",
              "      <td>...</td>\n",
              "      <td>...</td>\n",
              "      <td>...</td>\n",
              "      <td>...</td>\n",
              "      <td>...</td>\n",
              "      <td>...</td>\n",
              "    </tr>\n",
              "    <tr>\n",
              "      <th>494016</th>\n",
              "      <td>0</td>\n",
              "      <td>tcp</td>\n",
              "      <td>http</td>\n",
              "      <td>SF</td>\n",
              "      <td>310</td>\n",
              "      <td>1881</td>\n",
              "      <td>0</td>\n",
              "      <td>0</td>\n",
              "      <td>0</td>\n",
              "      <td>0</td>\n",
              "      <td>0</td>\n",
              "      <td>1</td>\n",
              "      <td>0</td>\n",
              "      <td>0</td>\n",
              "      <td>0</td>\n",
              "      <td>0</td>\n",
              "      <td>0</td>\n",
              "      <td>0</td>\n",
              "      <td>0</td>\n",
              "      <td>0</td>\n",
              "      <td>0</td>\n",
              "      <td>0</td>\n",
              "      <td>4</td>\n",
              "      <td>5</td>\n",
              "      <td>0.00</td>\n",
              "      <td>0.00</td>\n",
              "      <td>0.0</td>\n",
              "      <td>0.0</td>\n",
              "      <td>1.0</td>\n",
              "      <td>0.0</td>\n",
              "      <td>0.40</td>\n",
              "      <td>86</td>\n",
              "      <td>255</td>\n",
              "      <td>1.0</td>\n",
              "      <td>0.0</td>\n",
              "      <td>0.01</td>\n",
              "      <td>0.05</td>\n",
              "      <td>0.00</td>\n",
              "      <td>0.01</td>\n",
              "      <td>0.0</td>\n",
              "      <td>0.0</td>\n",
              "      <td>normal.</td>\n",
              "    </tr>\n",
              "    <tr>\n",
              "      <th>494017</th>\n",
              "      <td>0</td>\n",
              "      <td>tcp</td>\n",
              "      <td>http</td>\n",
              "      <td>SF</td>\n",
              "      <td>282</td>\n",
              "      <td>2286</td>\n",
              "      <td>0</td>\n",
              "      <td>0</td>\n",
              "      <td>0</td>\n",
              "      <td>0</td>\n",
              "      <td>0</td>\n",
              "      <td>1</td>\n",
              "      <td>0</td>\n",
              "      <td>0</td>\n",
              "      <td>0</td>\n",
              "      <td>0</td>\n",
              "      <td>0</td>\n",
              "      <td>0</td>\n",
              "      <td>0</td>\n",
              "      <td>0</td>\n",
              "      <td>0</td>\n",
              "      <td>0</td>\n",
              "      <td>6</td>\n",
              "      <td>6</td>\n",
              "      <td>0.00</td>\n",
              "      <td>0.00</td>\n",
              "      <td>0.0</td>\n",
              "      <td>0.0</td>\n",
              "      <td>1.0</td>\n",
              "      <td>0.0</td>\n",
              "      <td>0.00</td>\n",
              "      <td>6</td>\n",
              "      <td>255</td>\n",
              "      <td>1.0</td>\n",
              "      <td>0.0</td>\n",
              "      <td>0.17</td>\n",
              "      <td>0.05</td>\n",
              "      <td>0.00</td>\n",
              "      <td>0.01</td>\n",
              "      <td>0.0</td>\n",
              "      <td>0.0</td>\n",
              "      <td>normal.</td>\n",
              "    </tr>\n",
              "    <tr>\n",
              "      <th>494018</th>\n",
              "      <td>0</td>\n",
              "      <td>tcp</td>\n",
              "      <td>http</td>\n",
              "      <td>SF</td>\n",
              "      <td>203</td>\n",
              "      <td>1200</td>\n",
              "      <td>0</td>\n",
              "      <td>0</td>\n",
              "      <td>0</td>\n",
              "      <td>0</td>\n",
              "      <td>0</td>\n",
              "      <td>1</td>\n",
              "      <td>0</td>\n",
              "      <td>0</td>\n",
              "      <td>0</td>\n",
              "      <td>0</td>\n",
              "      <td>0</td>\n",
              "      <td>0</td>\n",
              "      <td>0</td>\n",
              "      <td>0</td>\n",
              "      <td>0</td>\n",
              "      <td>0</td>\n",
              "      <td>6</td>\n",
              "      <td>18</td>\n",
              "      <td>0.17</td>\n",
              "      <td>0.11</td>\n",
              "      <td>0.0</td>\n",
              "      <td>0.0</td>\n",
              "      <td>1.0</td>\n",
              "      <td>0.0</td>\n",
              "      <td>0.17</td>\n",
              "      <td>16</td>\n",
              "      <td>255</td>\n",
              "      <td>1.0</td>\n",
              "      <td>0.0</td>\n",
              "      <td>0.06</td>\n",
              "      <td>0.05</td>\n",
              "      <td>0.06</td>\n",
              "      <td>0.01</td>\n",
              "      <td>0.0</td>\n",
              "      <td>0.0</td>\n",
              "      <td>normal.</td>\n",
              "    </tr>\n",
              "    <tr>\n",
              "      <th>494019</th>\n",
              "      <td>0</td>\n",
              "      <td>tcp</td>\n",
              "      <td>http</td>\n",
              "      <td>SF</td>\n",
              "      <td>291</td>\n",
              "      <td>1200</td>\n",
              "      <td>0</td>\n",
              "      <td>0</td>\n",
              "      <td>0</td>\n",
              "      <td>0</td>\n",
              "      <td>0</td>\n",
              "      <td>1</td>\n",
              "      <td>0</td>\n",
              "      <td>0</td>\n",
              "      <td>0</td>\n",
              "      <td>0</td>\n",
              "      <td>0</td>\n",
              "      <td>0</td>\n",
              "      <td>0</td>\n",
              "      <td>0</td>\n",
              "      <td>0</td>\n",
              "      <td>0</td>\n",
              "      <td>6</td>\n",
              "      <td>12</td>\n",
              "      <td>0.00</td>\n",
              "      <td>0.00</td>\n",
              "      <td>0.0</td>\n",
              "      <td>0.0</td>\n",
              "      <td>1.0</td>\n",
              "      <td>0.0</td>\n",
              "      <td>0.17</td>\n",
              "      <td>26</td>\n",
              "      <td>255</td>\n",
              "      <td>1.0</td>\n",
              "      <td>0.0</td>\n",
              "      <td>0.04</td>\n",
              "      <td>0.05</td>\n",
              "      <td>0.04</td>\n",
              "      <td>0.01</td>\n",
              "      <td>0.0</td>\n",
              "      <td>0.0</td>\n",
              "      <td>normal.</td>\n",
              "    </tr>\n",
              "    <tr>\n",
              "      <th>494020</th>\n",
              "      <td>0</td>\n",
              "      <td>tcp</td>\n",
              "      <td>http</td>\n",
              "      <td>SF</td>\n",
              "      <td>219</td>\n",
              "      <td>1234</td>\n",
              "      <td>0</td>\n",
              "      <td>0</td>\n",
              "      <td>0</td>\n",
              "      <td>0</td>\n",
              "      <td>0</td>\n",
              "      <td>1</td>\n",
              "      <td>0</td>\n",
              "      <td>0</td>\n",
              "      <td>0</td>\n",
              "      <td>0</td>\n",
              "      <td>0</td>\n",
              "      <td>0</td>\n",
              "      <td>0</td>\n",
              "      <td>0</td>\n",
              "      <td>0</td>\n",
              "      <td>0</td>\n",
              "      <td>6</td>\n",
              "      <td>35</td>\n",
              "      <td>0.00</td>\n",
              "      <td>0.00</td>\n",
              "      <td>0.0</td>\n",
              "      <td>0.0</td>\n",
              "      <td>1.0</td>\n",
              "      <td>0.0</td>\n",
              "      <td>0.14</td>\n",
              "      <td>6</td>\n",
              "      <td>255</td>\n",
              "      <td>1.0</td>\n",
              "      <td>0.0</td>\n",
              "      <td>0.17</td>\n",
              "      <td>0.05</td>\n",
              "      <td>0.00</td>\n",
              "      <td>0.01</td>\n",
              "      <td>0.0</td>\n",
              "      <td>0.0</td>\n",
              "      <td>normal.</td>\n",
              "    </tr>\n",
              "  </tbody>\n",
              "</table>\n",
              "<p>494021 rows × 42 columns</p>\n",
              "</div>"
            ],
            "text/plain": [
              "        duration protocol_type  ... dst_host_srv_rerror_rate    label\n",
              "0              0           tcp  ...                      0.0  normal.\n",
              "1              0           tcp  ...                      0.0  normal.\n",
              "2              0           tcp  ...                      0.0  normal.\n",
              "3              0           tcp  ...                      0.0  normal.\n",
              "4              0           tcp  ...                      0.0  normal.\n",
              "...          ...           ...  ...                      ...      ...\n",
              "494016         0           tcp  ...                      0.0  normal.\n",
              "494017         0           tcp  ...                      0.0  normal.\n",
              "494018         0           tcp  ...                      0.0  normal.\n",
              "494019         0           tcp  ...                      0.0  normal.\n",
              "494020         0           tcp  ...                      0.0  normal.\n",
              "\n",
              "[494021 rows x 42 columns]"
            ]
          },
          "metadata": {},
          "execution_count": 22
        }
      ]
    },
    {
      "cell_type": "code",
      "metadata": {
        "id": "hKMogz8leOtK"
      },
      "source": [
        "from sklearn.model_selection import train_test_split"
      ],
      "execution_count": null,
      "outputs": []
    },
    {
      "cell_type": "code",
      "metadata": {
        "id": "BDWCCIypeof8"
      },
      "source": [
        "# split dataset (with applied transforms) + labels \n",
        "# into train/test with 75% ratio\n",
        "\n",
        "X_train, X_test, Y_train, Y_test = train_test_split(\n",
        "    numerics_cat_data,\n",
        "    transormed_labels,\n",
        "    test_size = 0.25,\n",
        "    random_state = 42)"
      ],
      "execution_count": null,
      "outputs": []
    },
    {
      "cell_type": "code",
      "metadata": {
        "id": "0B90QKFKfLGq",
        "colab": {
          "base_uri": "https://localhost:8080/"
        },
        "outputId": "dda27d96-73c4-4c9a-a47f-ce3503b66014"
      },
      "source": [
        "print(X_train.shape)\n",
        "print(X_test.shape)\n",
        "print(Y_train.shape)\n",
        "print(Y_test.shape)"
      ],
      "execution_count": null,
      "outputs": [
        {
          "output_type": "stream",
          "name": "stdout",
          "text": [
            "(370515, 118)\n",
            "(123506, 118)\n",
            "(370515,)\n",
            "(123506,)\n"
          ]
        }
      ]
    },
    {
      "cell_type": "code",
      "metadata": {
        "id": "IR1W-9i9fqC5"
      },
      "source": [
        "import pickle"
      ],
      "execution_count": null,
      "outputs": []
    },
    {
      "cell_type": "code",
      "metadata": {
        "id": "Lv8sr8JOfxAC"
      },
      "source": [
        "preprocessed_data = {\n",
        "    'X_train': X_train,\n",
        "    'X_test': X_test,\n",
        "    'Y_train': Y_train,\n",
        "    'Y_test': Y_test,\n",
        "    'le': le\n",
        "}\n",
        "\n",
        "pickle_path = '/content/kddcup.data_10_percent.pkl'\n",
        "with open(pickle_path, 'wb') as f:\n",
        "  pickle.dump(preprocessed_data, f)"
      ],
      "execution_count": null,
      "outputs": []
    },
    {
      "cell_type": "markdown",
      "metadata": {
        "id": "AmWJX555y7vL"
      },
      "source": [
        "## 1. Random Forest (multiclass) approach"
      ]
    },
    {
      "cell_type": "code",
      "metadata": {
        "id": "YwjVpUnwiEW1"
      },
      "source": [
        "from sklearn.ensemble import RandomForestClassifier\n",
        "from sklearn.datasets import make_classification"
      ],
      "execution_count": null,
      "outputs": []
    },
    {
      "cell_type": "code",
      "metadata": {
        "id": "Rp-DVUZ1iSOu",
        "colab": {
          "base_uri": "https://localhost:8080/"
        },
        "outputId": "04605f6b-4daf-42a1-f6ec-30c9f359e858"
      },
      "source": [
        "model = RandomForestClassifier(n_estimators=300) \n",
        "model.fit(X_train, Y_train) "
      ],
      "execution_count": null,
      "outputs": [
        {
          "output_type": "execute_result",
          "data": {
            "text/plain": [
              "RandomForestClassifier(n_estimators=300)"
            ]
          },
          "metadata": {},
          "execution_count": 114
        }
      ]
    },
    {
      "cell_type": "code",
      "metadata": {
        "id": "2G8z5JrqifOs"
      },
      "source": [
        "from sklearn import tree\n",
        "from os import system\n",
        "\n",
        "estimator = model.estimators_[0] \n",
        "feature_names = [i for i in x_train.columns] \n",
        "\n",
        "tree.export_graphviz(estimator, out_file='tree.dot', \n",
        "                feature_names = feature_names, \n",
        "                rounded = True, \n",
        "                filled = True) \n",
        " \n",
        "#system.call(['dot', '-Tpng', 'tree.dot', '-o', 'tree.png', '-Gdpi=600']) \n",
        " \n",
        "#Image(filename = 'tree.png') \n"
      ],
      "execution_count": null,
      "outputs": []
    },
    {
      "cell_type": "code",
      "metadata": {
        "id": "vDzq9OoLjnaB"
      },
      "source": [
        "!dot -Tpng tree.dot -o tree.png"
      ],
      "execution_count": null,
      "outputs": []
    },
    {
      "cell_type": "code",
      "metadata": {
        "id": "TwEaXoXYkG-b",
        "colab": {
          "base_uri": "https://localhost:8080/"
        },
        "outputId": "995335e7-8ed3-4b9a-fa07-c717e7ce372d"
      },
      "source": [
        "y_predict = model.predict(X_test)"
      ],
      "execution_count": null,
      "outputs": [
        {
          "output_type": "stream",
          "name": "stderr",
          "text": [
            "/usr/local/lib/python3.7/dist-packages/sklearn/base.py:446: UserWarning: X does not have valid feature names, but RandomForestClassifier was fitted with feature names\n",
            "  \"X does not have valid feature names, but\"\n"
          ]
        }
      ]
    },
    {
      "cell_type": "code",
      "metadata": {
        "colab": {
          "base_uri": "https://localhost:8080/"
        },
        "id": "Swje7_uQoXDP",
        "outputId": "92c4d67c-d59e-4fb8-ba51-4eb12aea18a9"
      },
      "source": [
        "y_predict"
      ],
      "execution_count": null,
      "outputs": [
        {
          "output_type": "execute_result",
          "data": {
            "text/plain": [
              "array([ 5,  5,  5, ...,  5, 11, 11])"
            ]
          },
          "metadata": {},
          "execution_count": 116
        }
      ]
    },
    {
      "cell_type": "code",
      "metadata": {
        "id": "QpLMZ2t1pQG9"
      },
      "source": [
        "import seaborn as sns"
      ],
      "execution_count": null,
      "outputs": []
    },
    {
      "cell_type": "code",
      "metadata": {
        "colab": {
          "base_uri": "https://localhost:8080/",
          "height": 336
        },
        "id": "PxdJfji9pCd3",
        "outputId": "2ac90733-2ded-4550-aafb-dfd841f2c185"
      },
      "source": [
        "sns.countplot(y_predict)"
      ],
      "execution_count": null,
      "outputs": [
        {
          "output_type": "stream",
          "name": "stderr",
          "text": [
            "/usr/local/lib/python3.7/dist-packages/seaborn/_decorators.py:43: FutureWarning: Pass the following variable as a keyword arg: x. From version 0.12, the only valid positional argument will be `data`, and passing other arguments without an explicit keyword will result in an error or misinterpretation.\n",
            "  FutureWarning\n"
          ]
        },
        {
          "output_type": "execute_result",
          "data": {
            "text/plain": [
              "<matplotlib.axes._subplots.AxesSubplot at 0x7fc944affc10>"
            ]
          },
          "metadata": {},
          "execution_count": 121
        },
        {
          "output_type": "display_data",
          "data": {
            "image/png": "[encoded data removed]",
            "text/plain": [
              "<Figure size 432x288 with 1 Axes>"
            ]
          },
          "metadata": {
            "needs_background": "light"
          }
        }
      ]
    },
    {
      "cell_type": "code",
      "metadata": {
        "id": "wBXQRRvbkUuB"
      },
      "source": [
        "from sklearn.metrics import confusion_matrix\n",
        "import matplotlib.pyplot as plt\n",
        "from sklearn.metrics import plot_confusion_matrix\n",
        "import seaborn as sn"
      ],
      "execution_count": null,
      "outputs": []
    },
    {
      "cell_type": "code",
      "metadata": {
        "colab": {
          "base_uri": "https://localhost:8080/"
        },
        "id": "6skOOLsmpdQs",
        "outputId": "5fb47535-26d1-4ba2-967c-0034d8fb283f"
      },
      "source": [
        "print(matr)"
      ],
      "execution_count": null,
      "outputs": [
        {
          "output_type": "stream",
          "name": "stdout",
          "text": [
            "[[    0     0     0     0     0     0     0     0     0     0     0     0\n",
            "      0     0     0]\n",
            " [    0     0     0     0     0     0     0     0     0     0     0     0\n",
            "      0     0     0]\n",
            " [    0     1     0     0     0     0     0     0     0     0     0     0\n",
            "      0     0     0]\n",
            " [  149 70651     0     0     0     0     0     0     0     0     0     0\n",
            "      0     0     0]\n",
            " [    0     5     0     0     0     0     0     0     0     0     0     0\n",
            "      0     0     0]\n",
            " [    0 26709     0     0     0     0     0     0     0     0     0     0\n",
            "      0     0     0]\n",
            " [    0    21     0     0     0     0     0     0     0     0     0     0\n",
            "      0     0     0]\n",
            " [23599   734     0     0     0     0     0     0     0     0     0     0\n",
            "      0     0     0]\n",
            " [    0    45     0     0     0     0     0     0     0     0     0     0\n",
            "      0     0     0]\n",
            " [    0   285     0     0     0     0     0     0     0     0     0     0\n",
            "      0     0     0]\n",
            " [   14     0     0     0     0     0     0     0     0     0     0     0\n",
            "      0     0     0]\n",
            " [  500   377     0     0     0     0     0     0     0     0     0     0\n",
            "      0     0     0]\n",
            " [    0   240     0     0     0     0     0     0     0     0     0     0\n",
            "      0     0     0]\n",
            " [    5   166     0     0     0     0     0     0     0     0     0     0\n",
            "      0     0     0]\n",
            " [    0     5     0     0     0     0     0     0     0     0     0     0\n",
            "      0     0     0]]\n"
          ]
        }
      ]
    },
    {
      "cell_type": "code",
      "metadata": {
        "colab": {
          "base_uri": "https://localhost:8080/",
          "height": 284
        },
        "id": "KTyrPlAqk15n",
        "outputId": "fc972035-6934-44d2-e82d-61eff269ee05"
      },
      "source": [
        "matr = confusion_matrix(y_predict, y_test)\n",
        "sn.heatmap(matr, annot=True)"
      ],
      "execution_count": null,
      "outputs": [
        {
          "output_type": "execute_result",
          "data": {
            "text/plain": [
              "<matplotlib.axes._subplots.AxesSubplot at 0x7fc945e37510>"
            ]
          },
          "metadata": {},
          "execution_count": 117
        },
        {
          "output_type": "display_data",
          "data": {
            "image/png": "[encoded data removed]",
            "text/plain": [
              "<Figure size 432x288 with 2 Axes>"
            ]
          },
          "metadata": {
            "needs_background": "light"
          }
        }
      ]
    },
    {
      "cell_type": "code",
      "metadata": {
        "id": "3xnXvox_cGB_"
      },
      "source": [
        "from sklearn.metrics import roc_curve, roc_auc_score"
      ],
      "execution_count": null,
      "outputs": []
    },
    {
      "cell_type": "code",
      "metadata": {
        "colab": {
          "base_uri": "https://localhost:8080/",
          "height": 282
        },
        "id": "ZeQCNkXrcIUo",
        "outputId": "cb0b2950-0b39-4abe-ed90-a62334322a3c"
      },
      "source": [
        "roc_auc_score(y_test, y_predict)\n",
        "fpr, tpr, thr = roc_curve(y_test, y_predict)\n",
        "plt.plot(fpr, tpr)"
      ],
      "execution_count": null,
      "outputs": [
        {
          "output_type": "execute_result",
          "data": {
            "text/plain": [
              "[<matplotlib.lines.Line2D at 0x7fc944b2b250>]"
            ]
          },
          "metadata": {},
          "execution_count": 118
        },
        {
          "output_type": "display_data",
          "data": {
            "image/png": "[encoded data removed]",
            "text/plain": [
              "<Figure size 432x288 with 1 Axes>"
            ]
          },
          "metadata": {
            "needs_background": "light"
          }
        }
      ]
    },
    {
      "cell_type": "code",
      "metadata": {
        "colab": {
          "base_uri": "https://localhost:8080/"
        },
        "id": "tCsKweRLgCWu",
        "outputId": "cb6d805a-5c0c-441d-b569-a2aab4768bc1"
      },
      "source": [
        "m = 10\n",
        "temp = 0\n",
        "for i in range(fpr.size):\n",
        "    if (fpr[i] ** 2 + (tpr[i] - 1) ** 2 < m):\n",
        "        m = fpr[i] ** 2 + (tpr[i] - 1) ** 2\n",
        "        temp = i\n",
        "print(\"OPTIMAL POINTS: \",fpr[temp],tpr[temp],thr[temp])"
      ],
      "execution_count": null,
      "outputs": [
        {
          "output_type": "stream",
          "name": "stdout",
          "text": [
            "OPTIMAL POINTS:  0.0 0.7144973246405143 14\n"
          ]
        }
      ]
    },
    {
      "cell_type": "code",
      "metadata": {
        "colab": {
          "base_uri": "https://localhost:8080/"
        },
        "id": "0rFcbH85hb_d",
        "outputId": "ca76d0dd-aef0-44fc-d179-d71286d5c8f5"
      },
      "source": [
        "y_predict"
      ],
      "execution_count": null,
      "outputs": [
        {
          "output_type": "execute_result",
          "data": {
            "text/plain": [
              "array([18, 18, 18, ..., 18, 11, 11])"
            ]
          },
          "metadata": {},
          "execution_count": 71
        }
      ]
    },
    {
      "cell_type": "code",
      "metadata": {
        "colab": {
          "base_uri": "https://localhost:8080/"
        },
        "id": "VBxksx4ljHPN",
        "outputId": "9cb0da07-c3f6-4787-f647-4c338ac3cc6a"
      },
      "source": [
        "print(set(y_predict))"
      ],
      "execution_count": null,
      "outputs": [
        {
          "output_type": "stream",
          "name": "stdout",
          "text": [
            "{0, 5, 9, 11, 14, 15, 17, 18, 20}\n"
          ]
        }
      ]
    },
    {
      "cell_type": "code",
      "metadata": {
        "colab": {
          "base_uri": "https://localhost:8080/"
        },
        "id": "L3ljbnDwiRfc",
        "outputId": "67d65866-6826-4745-e82a-2cc9a6661df3"
      },
      "source": [
        "y_test"
      ],
      "execution_count": null,
      "outputs": [
        {
          "output_type": "execute_result",
          "data": {
            "text/plain": [
              "array([1., 1., 1., ..., 1., 0., 0.], dtype=float32)"
            ]
          },
          "metadata": {},
          "execution_count": 72
        }
      ]
    },
    {
      "cell_type": "markdown",
      "metadata": {
        "id": "kJgzfIOhqmTy"
      },
      "source": [
        "## Random Forest binary classes approach"
      ]
    },
    {
      "cell_type": "code",
      "metadata": {
        "colab": {
          "base_uri": "https://localhost:8080/"
        },
        "id": "bno81HrOrgTW",
        "outputId": "ba9a8b5f-d65a-4c68-8d30-751a44ca521a"
      },
      "source": [
        "y_train"
      ],
      "execution_count": null,
      "outputs": [
        {
          "output_type": "execute_result",
          "data": {
            "text/plain": [
              "array([1., 0., 1., ..., 1., 0., 1.], dtype=float32)"
            ]
          },
          "metadata": {},
          "execution_count": 131
        }
      ]
    },
    {
      "cell_type": "code",
      "metadata": {
        "colab": {
          "base_uri": "https://localhost:8080/"
        },
        "id": "PWJNjkUBrjgV",
        "outputId": "38675507-3fb0-4046-db93-918304905932"
      },
      "source": [
        "y_test"
      ],
      "execution_count": null,
      "outputs": [
        {
          "output_type": "execute_result",
          "data": {
            "text/plain": [
              "array([1., 1., 1., ..., 1., 0., 0.], dtype=float32)"
            ]
          },
          "metadata": {},
          "execution_count": 132
        }
      ]
    },
    {
      "cell_type": "code",
      "metadata": {
        "colab": {
          "base_uri": "https://localhost:8080/"
        },
        "id": "hmSyqhruqshs",
        "outputId": "995e2e84-938c-4118-8e9e-5007cc7125d2"
      },
      "source": [
        "model = RandomForestClassifier(n_estimators=300) \n",
        "model.fit(X_train, y_train)"
      ],
      "execution_count": null,
      "outputs": [
        {
          "output_type": "execute_result",
          "data": {
            "text/plain": [
              "RandomForestClassifier(n_estimators=300)"
            ]
          },
          "metadata": {},
          "execution_count": 126
        }
      ]
    },
    {
      "cell_type": "code",
      "metadata": {
        "colab": {
          "base_uri": "https://localhost:8080/"
        },
        "id": "pT2m0lRorOYA",
        "outputId": "5983fe7e-da86-4358-a85a-8609712245fa"
      },
      "source": [
        "y_predcit = model.predict(x_test)"
      ],
      "execution_count": null,
      "outputs": [
        {
          "output_type": "stream",
          "name": "stderr",
          "text": [
            "/usr/local/lib/python3.7/dist-packages/sklearn/base.py:446: UserWarning: X does not have valid feature names, but RandomForestClassifier was fitted with feature names\n",
            "  \"X does not have valid feature names, but\"\n"
          ]
        }
      ]
    },
    {
      "cell_type": "code",
      "metadata": {
        "colab": {
          "base_uri": "https://localhost:8080/",
          "height": 336
        },
        "id": "3b3N7sMyrIKA",
        "outputId": "a10ff33b-6b5b-48fe-ce27-9c6cba00b01a"
      },
      "source": [
        "sns.countplot(y_predcit)"
      ],
      "execution_count": null,
      "outputs": [
        {
          "output_type": "stream",
          "name": "stderr",
          "text": [
            "/usr/local/lib/python3.7/dist-packages/seaborn/_decorators.py:43: FutureWarning: Pass the following variable as a keyword arg: x. From version 0.12, the only valid positional argument will be `data`, and passing other arguments without an explicit keyword will result in an error or misinterpretation.\n",
            "  FutureWarning\n"
          ]
        },
        {
          "output_type": "execute_result",
          "data": {
            "text/plain": [
              "<matplotlib.axes._subplots.AxesSubplot at 0x7fc94489be50>"
            ]
          },
          "metadata": {},
          "execution_count": 133
        },
        {
          "output_type": "display_data",
          "data": {
            "image/png": "[encoded data removed]",
            "text/plain": [
              "<Figure size 432x288 with 1 Axes>"
            ]
          },
          "metadata": {
            "needs_background": "light"
          }
        }
      ]
    },
    {
      "cell_type": "code",
      "metadata": {
        "colab": {
          "base_uri": "https://localhost:8080/"
        },
        "id": "nvjvnEfYr2Pe",
        "outputId": "47746826-07f4-4adf-a085-b34f51405e10"
      },
      "source": [
        "matr = confusion_matrix(y_predcit, y_test)\n",
        "matr"
      ],
      "execution_count": null,
      "outputs": [
        {
          "output_type": "execute_result",
          "data": {
            "text/plain": [
              "array([[21586,   672],\n",
              "       [ 2681, 98567]])"
            ]
          },
          "metadata": {},
          "execution_count": 135
        }
      ]
    },
    {
      "cell_type": "code",
      "metadata": {
        "colab": {
          "base_uri": "https://localhost:8080/"
        },
        "id": "2EyDU3Dyr7iV",
        "outputId": "178278eb-1973-43ec-d967-665fdd354f02"
      },
      "source": [
        "accuracy_score(y_test, y_predcit)"
      ],
      "execution_count": null,
      "outputs": [
        {
          "output_type": "execute_result",
          "data": {
            "text/plain": [
              "0.9728515213835766"
            ]
          },
          "metadata": {},
          "execution_count": 137
        }
      ]
    },
    {
      "cell_type": "markdown",
      "metadata": {
        "id": "DNbsyJvc0qKd"
      },
      "source": [
        "## 2. GAN approach"
      ]
    },
    {
      "cell_type": "code",
      "metadata": {
        "id": "9EStTuox2E75"
      },
      "source": [
        "import pickle\n",
        "\n",
        "import numpy as np\n",
        "import pandas as pd\n",
        "\n",
        "from sklearn.preprocessing import MinMaxScaler\n",
        "\n",
        "import collections\n",
        "\n",
        "from keras.models import Sequential\n",
        "from keras.layers import Dense, Activation, Input, Dropout\n",
        "from tensorflow.keras.optimizers import Adam\n",
        "from keras import Model\n",
        "\n",
        "# https://github.com/tqdm/tqdm\n",
        "from tqdm import tqdm\n",
        "\n",
        "import matplotlib.pyplot as plt"
      ],
      "execution_count": null,
      "outputs": []
    },
    {
      "cell_type": "code",
      "metadata": {
        "id": "iOHwaF3H0v3y",
        "colab": {
          "base_uri": "https://localhost:8080/"
        },
        "outputId": "43d2bca9-6c9a-4082-9455-bb03ab1a1254"
      },
      "source": [
        "# load data back from pickle file:\n",
        "pickle_file = '/content/kddcup.data_10_percent.pkl'\n",
        "with open(pickle_file, 'rb') as f:\n",
        "    preprocessed_data = pickle.load(f)\n",
        "\n",
        "# check what's inside:\n",
        "for key in preprocessed_data:\n",
        "  print (key)"
      ],
      "execution_count": null,
      "outputs": [
        {
          "output_type": "stream",
          "name": "stdout",
          "text": [
            "x_train\n",
            "x_test\n",
            "y_train\n",
            "y_test\n",
            "le\n"
          ]
        }
      ]
    },
    {
      "cell_type": "code",
      "metadata": {
        "id": "JfnqjBtb1mOm"
      },
      "source": [
        "le = preprocessed_data[\"le\"]\n",
        "x_train = preprocessed_data[\"x_train\"]\n",
        "y_train = preprocessed_data[\"y_train\"]\n",
        "x_test = preprocessed_data[\"x_test\"]\n",
        "y_test = preprocessed_data[\"y_test\"]"
      ],
      "execution_count": null,
      "outputs": []
    },
    {
      "cell_type": "code",
      "metadata": {
        "id": "jd0GHqM419Xw",
        "colab": {
          "base_uri": "https://localhost:8080/"
        },
        "outputId": "5b71d6aa-ceef-48c5-a403-0954ba1dee24"
      },
      "source": [
        "# lets identify what results do we actually have in labels..\n",
        "np.unique(y_test)"
      ],
      "execution_count": null,
      "outputs": [
        {
          "output_type": "execute_result",
          "data": {
            "text/plain": [
              "array([ 0,  1,  2,  3,  4,  5,  6,  7,  8,  9, 10, 11, 12, 14, 15, 16, 17,\n",
              "       18, 20, 21, 22])"
            ]
          },
          "metadata": {},
          "execution_count": 33
        }
      ]
    },
    {
      "cell_type": "markdown",
      "metadata": {
        "id": "EoVYDqaEqSNa"
      },
      "source": [
        "### Casting class labels to 0 or 1"
      ]
    },
    {
      "cell_type": "code",
      "metadata": {
        "id": "0C4wu1nE2g9I",
        "colab": {
          "base_uri": "https://localhost:8080/",
          "height": 762
        },
        "outputId": "0acab2ef-911a-441e-8802-672a9fc6798f"
      },
      "source": [
        "# we need to distinguish 'Normal' vs rest of labels, hence lets preprocess them a bit:\n",
        "\n",
        "# find Normal class label:\n",
        "pd.DataFrame(le.classes_)\n",
        "# normal. == 11"
      ],
      "execution_count": null,
      "outputs": [
        {
          "output_type": "execute_result",
          "data": {
            "text/html": [
              "<div>\n",
              "<style scoped>\n",
              "    .dataframe tbody tr th:only-of-type {\n",
              "        vertical-align: middle;\n",
              "    }\n",
              "\n",
              "    .dataframe tbody tr th {\n",
              "        vertical-align: top;\n",
              "    }\n",
              "\n",
              "    .dataframe thead th {\n",
              "        text-align: right;\n",
              "    }\n",
              "</style>\n",
              "<table border=\"1\" class=\"dataframe\">\n",
              "  <thead>\n",
              "    <tr style=\"text-align: right;\">\n",
              "      <th></th>\n",
              "      <th>0</th>\n",
              "    </tr>\n",
              "  </thead>\n",
              "  <tbody>\n",
              "    <tr>\n",
              "      <th>0</th>\n",
              "      <td>back.</td>\n",
              "    </tr>\n",
              "    <tr>\n",
              "      <th>1</th>\n",
              "      <td>buffer_overflow.</td>\n",
              "    </tr>\n",
              "    <tr>\n",
              "      <th>2</th>\n",
              "      <td>ftp_write.</td>\n",
              "    </tr>\n",
              "    <tr>\n",
              "      <th>3</th>\n",
              "      <td>guess_passwd.</td>\n",
              "    </tr>\n",
              "    <tr>\n",
              "      <th>4</th>\n",
              "      <td>imap.</td>\n",
              "    </tr>\n",
              "    <tr>\n",
              "      <th>5</th>\n",
              "      <td>ipsweep.</td>\n",
              "    </tr>\n",
              "    <tr>\n",
              "      <th>6</th>\n",
              "      <td>land.</td>\n",
              "    </tr>\n",
              "    <tr>\n",
              "      <th>7</th>\n",
              "      <td>loadmodule.</td>\n",
              "    </tr>\n",
              "    <tr>\n",
              "      <th>8</th>\n",
              "      <td>multihop.</td>\n",
              "    </tr>\n",
              "    <tr>\n",
              "      <th>9</th>\n",
              "      <td>neptune.</td>\n",
              "    </tr>\n",
              "    <tr>\n",
              "      <th>10</th>\n",
              "      <td>nmap.</td>\n",
              "    </tr>\n",
              "    <tr>\n",
              "      <th>11</th>\n",
              "      <td>normal.</td>\n",
              "    </tr>\n",
              "    <tr>\n",
              "      <th>12</th>\n",
              "      <td>perl.</td>\n",
              "    </tr>\n",
              "    <tr>\n",
              "      <th>13</th>\n",
              "      <td>phf.</td>\n",
              "    </tr>\n",
              "    <tr>\n",
              "      <th>14</th>\n",
              "      <td>pod.</td>\n",
              "    </tr>\n",
              "    <tr>\n",
              "      <th>15</th>\n",
              "      <td>portsweep.</td>\n",
              "    </tr>\n",
              "    <tr>\n",
              "      <th>16</th>\n",
              "      <td>rootkit.</td>\n",
              "    </tr>\n",
              "    <tr>\n",
              "      <th>17</th>\n",
              "      <td>satan.</td>\n",
              "    </tr>\n",
              "    <tr>\n",
              "      <th>18</th>\n",
              "      <td>smurf.</td>\n",
              "    </tr>\n",
              "    <tr>\n",
              "      <th>19</th>\n",
              "      <td>spy.</td>\n",
              "    </tr>\n",
              "    <tr>\n",
              "      <th>20</th>\n",
              "      <td>teardrop.</td>\n",
              "    </tr>\n",
              "    <tr>\n",
              "      <th>21</th>\n",
              "      <td>warezclient.</td>\n",
              "    </tr>\n",
              "    <tr>\n",
              "      <th>22</th>\n",
              "      <td>warezmaster.</td>\n",
              "    </tr>\n",
              "  </tbody>\n",
              "</table>\n",
              "</div>"
            ],
            "text/plain": [
              "                   0\n",
              "0              back.\n",
              "1   buffer_overflow.\n",
              "2         ftp_write.\n",
              "3      guess_passwd.\n",
              "4              imap.\n",
              "5           ipsweep.\n",
              "6              land.\n",
              "7        loadmodule.\n",
              "8          multihop.\n",
              "9           neptune.\n",
              "10             nmap.\n",
              "11           normal.\n",
              "12             perl.\n",
              "13              phf.\n",
              "14              pod.\n",
              "15        portsweep.\n",
              "16          rootkit.\n",
              "17            satan.\n",
              "18            smurf.\n",
              "19              spy.\n",
              "20         teardrop.\n",
              "21      warezclient.\n",
              "22      warezmaster."
            ]
          },
          "metadata": {},
          "execution_count": 34
        }
      ]
    },
    {
      "cell_type": "code",
      "metadata": {
        "id": "TdmlzkcU27kj"
      },
      "source": [
        "NORMAL_LABEL = 11\n",
        "\n",
        "y_test[y_test != NORMAL_LABEL] = 1\n",
        "y_test[y_test == NORMAL_LABEL] = 0\n",
        "\n",
        "y_train[y_train != NORMAL_LABEL] = 1\n",
        "y_train[y_train == NORMAL_LABEL] = 0"
      ],
      "execution_count": null,
      "outputs": []
    },
    {
      "cell_type": "code",
      "metadata": {
        "id": "Of6QsHyf4ISn"
      },
      "source": [
        "# we want to keep Normal packets for GAN training\n",
        "\n",
        "temp = x_train.copy()\n",
        "temp['label'] = y_train\n",
        "temp = temp.loc[temp['label'] == 0]\n",
        "temp = temp.drop('label', axis = 1)\n",
        "x_train = temp.copy() \n",
        "\n",
        "# as a result:\n",
        "# training dataset - will contain only normal packets\n",
        "# test datatet - will contain both types of data\n"
      ],
      "execution_count": null,
      "outputs": []
    },
    {
      "cell_type": "code",
      "metadata": {
        "id": "xqp4q9EW6KNf"
      },
      "source": [
        "scaler01 = MinMaxScaler()\n",
        "\n",
        "x_train = scaler01.fit_transform(x_train)\n",
        "x_test = scaler01.transform(x_test)"
      ],
      "execution_count": null,
      "outputs": []
    },
    {
      "cell_type": "code",
      "metadata": {
        "id": "8xLR1iTc6gR4"
      },
      "source": [
        "dataset = {\n",
        "    'x_train': x_train.astype(np.float32),\n",
        "    'y_train': y_train.astype(np.float32),\n",
        "    'x_test': x_test.astype(np.float32),\n",
        "    'y_test': y_test.astype(np.float32)\n",
        "}"
      ],
      "execution_count": null,
      "outputs": []
    },
    {
      "cell_type": "code",
      "metadata": {
        "id": "sSd8xWmMB6JP",
        "colab": {
          "base_uri": "https://localhost:8080/"
        },
        "outputId": "11fe8968-b688-4077-f96f-ae78aa5d1108"
      },
      "source": [
        "print('Training set, normal packets = ', x_train.shape[0])\n",
        "print('Testing set, normal packets = ', collections.Counter(y_test)[0])\n",
        "print('Testing set, normal packets = ', collections.Counter(y_test)[1])\n"
      ],
      "execution_count": null,
      "outputs": [
        {
          "output_type": "stream",
          "name": "stdout",
          "text": [
            "Training set, normal packets =  73011\n",
            "Testing set, normal packets =  24267\n",
            "Testing set, normal packets =  99239\n"
          ]
        }
      ]
    },
    {
      "cell_type": "markdown",
      "metadata": {
        "id": "OlwTTBltCrqr"
      },
      "source": [
        "### Gan model to build:\n",
        "\n",
        "\n",
        "![gan.png](data:image/png;base64,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)\n"
      ]
    },
    {
      "cell_type": "code",
      "metadata": {
        "id": "M31jDaI1yU68"
      },
      "source": [
        "from keras.layers import LeakyReLU"
      ],
      "execution_count": null,
      "outputs": []
    },
    {
      "cell_type": "code",
      "metadata": {
        "id": "gXHI3Pj9DHaY"
      },
      "source": [
        "### Lets define Generator network\n",
        "def generator_model(optimizer) : \n",
        "  model = Sequential()\n",
        "  model.add(Dense(128, input_dim = 118))\n",
        "  model.add(Activation('tanh'))\n",
        "\n",
        "  model.add(Dense(128))\n",
        "  model.add(Activation('tanh'))\n",
        "\n",
        "  model.add(Dense(256))\n",
        "  model.add(Activation('tanh'))\n",
        "\n",
        "  model.add(Dense(256))\n",
        "  model.add(Activation('relu'))\n",
        "\n",
        "  model.add(Dense(118))\n",
        "  model.add(Activation('tanh'))\n",
        "\n",
        "  model.compile(loss = 'binary_crossentropy', optimizer=optimizer)\n",
        "\n",
        "  return model"
      ],
      "execution_count": null,
      "outputs": []
    },
    {
      "cell_type": "code",
      "metadata": {
        "id": "BopiiMwdEzeR"
      },
      "source": [
        "### Lets define Descriminator network\n",
        "\n",
        "def discriminator_model(optimizer) : \n",
        "  model = Sequential()\n",
        "  model.add(Dense(256, input_dim = 118))\n",
        "  model.add(LeakyReLU(alpha=0.5))\n",
        "  model.add(Dropout(0.2))\n",
        "\n",
        "  model.add(Dense(256))\n",
        "  model.add(LeakyReLU(alpha=0.5))\n",
        "  model.add(Dropout(0.2))\n",
        "\n",
        "  model.add(Dense(128))\n",
        "  model.add(LeakyReLU(alpha=0.5))\n",
        "  model.add(Dropout(0.2))\n",
        "\n",
        "  model.add(Dense(128))\n",
        "  model.add(LeakyReLU(alpha=0.5))\n",
        "  model.add(Dropout(0.2))\n",
        "\n",
        "  model.add(Dense(1))\n",
        "  model.add(Activation('sigmoid'))\n",
        "\n",
        "  model.compile(loss = 'binary_crossentropy', optimizer=optimizer)\n",
        "\n",
        "  return model"
      ],
      "execution_count": null,
      "outputs": []
    },
    {
      "cell_type": "code",
      "metadata": {
        "id": "rOd-Kv97FFn2"
      },
      "source": [
        "def gan_model(generator, discriminator, optimizer, input_dim=118): \n",
        "  discriminator.trainable = False\n",
        "\n",
        "  inputTensor = Input(shape = (input_dim,))\n",
        "  x = generator(inputTensor)\n",
        "\n",
        "  outTensor = discriminator(x)\n",
        "\n",
        "  model = Model(inputs = inputTensor, outputs = outTensor)\n",
        "  model.compile(loss = 'binary_crossentropy', optimizer=optimizer)\n",
        "\n",
        "  return model"
      ],
      "execution_count": null,
      "outputs": []
    },
    {
      "cell_type": "code",
      "metadata": {
        "colab": {
          "base_uri": "https://localhost:8080/"
        },
        "id": "1kwR8LxHf_8f",
        "outputId": "247418b2-2be1-4e1f-b645-347a2b4a435b"
      },
      "source": [
        "epochs = 4\n",
        "batch_size = 512\n",
        "learning_rate = 0.00001\n",
        "\n",
        "x_train, y_train, x_test, y_test = dataset['x_train'], dataset['y_train'], dataset['x_test'], dataset['y_test']\n",
        "\n",
        "adam = Adam(lr = learning_rate)\n",
        "\n",
        "# create initial models:\n",
        "generator = generator_model(adam)\n",
        "discriminator = discriminator_model(adam)\n",
        "gan = gan_model(generator, discriminator, adam, input_dim = 118)\n",
        "\n",
        "batch_count = x_train.shape[0] // batch_size\n",
        "print('Total batches: ', batch_count)\n",
        "\n",
        "d_history = []\n",
        "gan_history = []\n",
        "\n",
        "\n",
        "for epoch in range(epochs):\n",
        "\n",
        "    pbar = tqdm(total=batch_count)\n",
        "\n",
        "    for index in range(batch_count):\n",
        "\n",
        "      pbar.update(1)\n",
        "\n",
        "      # fake results\n",
        "      noise = np.random.normal(0, 1, size=[batch_size, 118])\n",
        "      generated_batch_result = generator.predict_on_batch(noise)\n",
        "\n",
        "      # normal results\n",
        "      batch_start_index = index * batch_size\n",
        "      batch_end_index = (index + 1) * batch_size\n",
        "      normal_batch = x_train[batch_start_index:batch_end_index]\n",
        "\n",
        "      # [generated_batch_result, normal_batch]\n",
        "      # 0 - normal data\n",
        "      # 1 - anomaly data\n",
        "\n",
        "      y_batch_discriminator = np.ones(2 * batch_size)\n",
        "      y_batch_discriminator[batch_size+1:] = 0\n",
        "      x_batch_discriminator = np.concatenate((generated_batch_result,normal_batch))\n",
        "\n",
        "      # Discriminator train part\n",
        "      discriminator.trainable = True\n",
        "      d_loss = discriminator.train_on_batch(x_batch_discriminator, y_batch_discriminator)\n",
        "\n",
        "      # Generator part\n",
        "      y_batch_generator = np.ones(batch_size)\n",
        "      discriminator.trainable = False\n",
        "      g_loss = gan.train_on_batch(noise, y_batch_generator)\n",
        "\n",
        "      d_history.append(d_loss)\n",
        "      gan_history.append(g_loss)\n",
        "\n",
        "      pbar.set_description(f'[D loss: {d_loss}, G Loss: {g_loss}]');\n",
        "\n",
        "    pbar.close();\n",
        "    print(f'Epoch {epoch} done, [D loss: {d_loss}, G Loss: {g_loss}]');\n",
        "\n"
      ],
      "execution_count": null,
      "outputs": [
        {
          "output_type": "stream",
          "name": "stderr",
          "text": [
            "/usr/local/lib/python3.7/dist-packages/keras/optimizer_v2/adam.py:105: UserWarning: The `lr` argument is deprecated, use `learning_rate` instead.\n",
            "  super(Adam, self).__init__(name, **kwargs)\n"
          ]
        },
        {
          "output_type": "stream",
          "name": "stdout",
          "text": [
            "Total batches:  142\n"
          ]
        },
        {
          "output_type": "stream",
          "name": "stderr",
          "text": [
            "[D loss: 0.29549235105514526, G Loss: 0.2619227170944214]: 100%|██████████| 142/142 [00:13<00:00, 10.67it/s]\n"
          ]
        },
        {
          "output_type": "stream",
          "name": "stdout",
          "text": [
            "Epoch 0 done, [D loss: 0.29549235105514526, G Loss: 0.2619227170944214]\n"
          ]
        },
        {
          "output_type": "stream",
          "name": "stderr",
          "text": [
            "[D loss: 0.07319772243499756, G Loss: 0.03556504845619202]: 100%|██████████| 142/142 [00:11<00:00, 11.88it/s]\n"
          ]
        },
        {
          "output_type": "stream",
          "name": "stdout",
          "text": [
            "Epoch 1 done, [D loss: 0.07319772243499756, G Loss: 0.03556504845619202]\n"
          ]
        },
        {
          "output_type": "stream",
          "name": "stderr",
          "text": [
            "[D loss: 0.02917039394378662, G Loss: 0.009136292152106762]: 100%|██████████| 142/142 [00:12<00:00, 11.82it/s]\n"
          ]
        },
        {
          "output_type": "stream",
          "name": "stdout",
          "text": [
            "Epoch 2 done, [D loss: 0.02917039394378662, G Loss: 0.009136292152106762]\n"
          ]
        },
        {
          "output_type": "stream",
          "name": "stderr",
          "text": [
            "[D loss: 0.017658960074186325, G Loss: 0.0036329664289951324]: 100%|██████████| 142/142 [00:12<00:00, 11.81it/s]"
          ]
        },
        {
          "output_type": "stream",
          "name": "stdout",
          "text": [
            "Epoch 3 done, [D loss: 0.017658960074186325, G Loss: 0.0036329664289951324]\n"
          ]
        },
        {
          "output_type": "stream",
          "name": "stderr",
          "text": [
            "\n"
          ]
        }
      ]
    },
    {
      "cell_type": "code",
      "metadata": {
        "id": "xkUI2oB5ibKj"
      },
      "source": [
        "predicted = discriminator.predict(x_test)"
      ],
      "execution_count": null,
      "outputs": []
    },
    {
      "cell_type": "code",
      "metadata": {
        "colab": {
          "base_uri": "https://localhost:8080/",
          "height": 351
        },
        "id": "4v1f82fcimwt",
        "outputId": "a7ac7f66-1dae-4154-d6aa-88b9ad5f9d69"
      },
      "source": [
        "roc_auc_score(y_test, predicted)\n",
        "fpr, tpr, thr = roc_curve(y_test, predicted)\n",
        "plt.figure(figsize=(5, 5))\n",
        "plt.plot(fpr, tpr)\n",
        "plt.xlabel(\"false positive rate\")\n",
        "plt.ylabel(\"true positive rate\")"
      ],
      "execution_count": null,
      "outputs": [
        {
          "output_type": "execute_result",
          "data": {
            "text/plain": [
              "Text(0, 0.5, 'true positive rate')"
            ]
          },
          "metadata": {},
          "execution_count": 97
        },
        {
          "output_type": "display_data",
          "data": {
            "image/png": "[encoded data removed]",
            "text/plain": [
              "<Figure size 360x360 with 1 Axes>"
            ]
          },
          "metadata": {
            "needs_background": "light"
          }
        }
      ]
    },
    {
      "cell_type": "code",
      "metadata": {
        "colab": {
          "base_uri": "https://localhost:8080/"
        },
        "id": "2tb2X0X6jkoO",
        "outputId": "dc722877-f6e5-48f7-e97c-67e1567f45dd"
      },
      "source": [
        "m = 10\n",
        "temp = 0\n",
        "for i in range(fpr.size):\n",
        "    if (fpr[i] ** 2 + (tpr[i] - 1) ** 2 < m):\n",
        "        m = fpr[i] ** 2 + (tpr[i] - 1) ** 2\n",
        "        temp = i\n",
        "print(\"OPTIMAL POINTS: \",fpr[temp],tpr[temp],thr[temp])"
      ],
      "execution_count": null,
      "outputs": [
        {
          "output_type": "stream",
          "name": "stdout",
          "text": [
            "OPTIMAL POINTS:  0.3232785263938682 0.9910418283134654 0.017265648\n"
          ]
        }
      ]
    },
    {
      "cell_type": "code",
      "metadata": {
        "id": "kuObQerPkf4N"
      },
      "source": [
        "predicted_thr = []\n",
        "threshold1 = 0.030794919\n",
        "threshold2 = 0.017265648\n",
        "for i in range(len(predicted)):\n",
        "  if predicted[i] <= threshold2:\n",
        "    predicted_thr.append(0)\n",
        "  else:\n",
        "    predicted_thr.append(1)\n"
      ],
      "execution_count": null,
      "outputs": []
    },
    {
      "cell_type": "code",
      "metadata": {
        "colab": {
          "base_uri": "https://localhost:8080/"
        },
        "id": "A9-VNOPwlNTU",
        "outputId": "eba4cedf-477a-450e-def5-55a842b054c8"
      },
      "source": [
        "matr = confusion_matrix(predicted_thr, y_test)\n",
        "matr"
      ],
      "execution_count": null,
      "outputs": [
        {
          "output_type": "execute_result",
          "data": {
            "text/plain": [
              "array([[16422,   916],\n",
              "       [ 7845, 98323]])"
            ]
          },
          "metadata": {},
          "execution_count": 103
        }
      ]
    },
    {
      "cell_type": "code",
      "metadata": {
        "colab": {
          "base_uri": "https://localhost:8080/"
        },
        "id": "L3nN7F-jl3cN",
        "outputId": "67f42ec2-1fb6-45ac-f5ba-c813d09fcb5e"
      },
      "source": [
        "(18827 + 97792)/(18827 + 97792+5440+1447)"
      ],
      "execution_count": null,
      "outputs": [
        {
          "output_type": "execute_result",
          "data": {
            "text/plain": [
              "0.944237526921769"
            ]
          },
          "metadata": {},
          "execution_count": 90
        }
      ]
    },
    {
      "cell_type": "code",
      "metadata": {
        "colab": {
          "base_uri": "https://localhost:8080/"
        },
        "id": "AVhIwy8ylpMK",
        "outputId": "18e770eb-ae94-45a6-8d9f-ee04f27b6a47"
      },
      "source": [
        "from sklearn.metrics import accuracy_score\n",
        "accuracy_score(predicted_thr,y_test)"
      ],
      "execution_count": null,
      "outputs": [
        {
          "output_type": "execute_result",
          "data": {
            "text/plain": [
              "0.9290641750198371"
            ]
          },
          "metadata": {},
          "execution_count": 104
        }
      ]
    },
    {
      "cell_type": "code",
      "metadata": {
        "colab": {
          "base_uri": "https://localhost:8080/",
          "height": 282
        },
        "id": "C4eF8UxqpBKY",
        "outputId": "ea5812c9-480b-42f4-8084-cf822011ca3f"
      },
      "source": [
        "plt.plot(d_history, label = 'Discriminator')\n",
        "plt.plot(gan_history, label = 'GAN')\n",
        "plt.legend()\n"
      ],
      "execution_count": null,
      "outputs": [
        {
          "output_type": "execute_result",
          "data": {
            "text/plain": [
              "<matplotlib.legend.Legend at 0x7fc94e5cf510>"
            ]
          },
          "metadata": {},
          "execution_count": 45
        },
        {
          "output_type": "display_data",
          "data": {
            "image/png": "[encoded data removed]",
            "text/plain": [
              "<Figure size 432x288 with 1 Axes>"
            ]
          },
          "metadata": {
            "needs_background": "light"
          }
        }
      ]
    },
    {
      "cell_type": "markdown",
      "metadata": {
        "id": "Zc3OblDLtNJA"
      },
      "source": [
        "Посмотрим что возвращает дискриминатор для noise (по идее он должен возвращать единицу, тк это аномальные данные типо они ничего не значат, но он возвращает 0 почему-то)"
      ]
    },
    {
      "cell_type": "code",
      "metadata": {
        "colab": {
          "base_uri": "https://localhost:8080/"
        },
        "id": "s0VVwM6VqiM-",
        "outputId": "a6beb6fb-626d-4c55-d419-d9cf5f4b9335"
      },
      "source": [
        "noise = np.random.normal(0,1, size=[1,118])\n",
        "discriminator.predict(noise)"
      ],
      "execution_count": null,
      "outputs": [
        {
          "output_type": "execute_result",
          "data": {
            "text/plain": [
              "array([[0.00950775]], dtype=float32)"
            ]
          },
          "metadata": {},
          "execution_count": 46
        }
      ]
    },
    {
      "cell_type": "code",
      "metadata": {
        "id": "bv1gS-YfzWHi",
        "colab": {
          "base_uri": "https://localhost:8080/"
        },
        "outputId": "5d738b21-13cf-442e-9a18-eeae2a63f297"
      },
      "source": [
        "discriminator.predict(x_test[114].reshape(1,118))"
      ],
      "execution_count": null,
      "outputs": [
        {
          "output_type": "execute_result",
          "data": {
            "text/plain": [
              "array([[0.01877502]], dtype=float32)"
            ]
          },
          "metadata": {},
          "execution_count": 47
        }
      ]
    },
    {
      "cell_type": "code",
      "metadata": {
        "id": "0IKKsh98zf_L",
        "colab": {
          "base_uri": "https://localhost:8080/"
        },
        "outputId": "3f9c1e45-15c5-4829-962f-9c0545f58033"
      },
      "source": [
        "y_test[114]"
      ],
      "execution_count": null,
      "outputs": [
        {
          "output_type": "execute_result",
          "data": {
            "text/plain": [
              "0.0"
            ]
          },
          "metadata": {},
          "execution_count": 48
        }
      ]
    },
    {
      "cell_type": "code",
      "metadata": {
        "colab": {
          "base_uri": "https://localhost:8080/"
        },
        "id": "2Qanq2qNqur2",
        "outputId": "7619e942-c077-468b-eda6-0dfc47696865"
      },
      "source": [
        "np.transpose(noise)"
      ],
      "execution_count": null,
      "outputs": [
        {
          "output_type": "execute_result",
          "data": {
            "text/plain": [
              "array([[ 5.02985159e-01],\n",
              "       [ 5.68049059e-01],\n",
              "       [-9.65948150e-01],\n",
              "       [ 5.42641628e-01],\n",
              "       [-4.16325834e-01],\n",
              "       [-1.37917339e+00],\n",
              "       [ 1.68700255e-01],\n",
              "       [ 2.56646357e-01],\n",
              "       [ 1.79144129e+00],\n",
              "       [ 2.71257434e-02],\n",
              "       [-9.40947106e-01],\n",
              "       [-3.89901219e-01],\n",
              "       [ 3.84709314e-01],\n",
              "       [ 6.76537072e-01],\n",
              "       [ 4.36258165e-01],\n",
              "       [-1.34723647e+00],\n",
              "       [ 1.27223502e-01],\n",
              "       [ 4.77294813e-02],\n",
              "       [ 9.57663801e-01],\n",
              "       [ 1.21176154e-01],\n",
              "       [-2.53690538e-01],\n",
              "       [ 9.20279735e-02],\n",
              "       [ 7.18991981e-01],\n",
              "       [-1.59085953e+00],\n",
              "       [ 8.45716346e-01],\n",
              "       [ 3.29960347e-01],\n",
              "       [ 1.45510946e+00],\n",
              "       [ 4.83622821e-01],\n",
              "       [ 2.50099555e-01],\n",
              "       [-3.42162971e-01],\n",
              "       [ 1.96449532e-01],\n",
              "       [-7.19605722e-01],\n",
              "       [-1.01480943e+00],\n",
              "       [-3.62718925e-01],\n",
              "       [ 9.38602471e-01],\n",
              "       [ 2.72045839e-01],\n",
              "       [ 2.81415906e-01],\n",
              "       [ 8.30329782e-01],\n",
              "       [-1.35044136e+00],\n",
              "       [ 2.37096250e-01],\n",
              "       [ 3.51123677e-01],\n",
              "       [ 1.05987408e+00],\n",
              "       [ 9.88560963e-01],\n",
              "       [-9.69575618e-01],\n",
              "       [-1.74640341e+00],\n",
              "       [ 1.94017637e-02],\n",
              "       [-3.87993034e-01],\n",
              "       [-1.18533936e-01],\n",
              "       [-1.32160724e+00],\n",
              "       [-5.81080109e-01],\n",
              "       [ 1.28926616e+00],\n",
              "       [-1.54285171e-01],\n",
              "       [-2.77898191e-01],\n",
              "       [ 3.93254199e-01],\n",
              "       [ 1.20484895e+00],\n",
              "       [ 2.71144894e-01],\n",
              "       [ 5.80939334e-01],\n",
              "       [-3.93349479e-01],\n",
              "       [ 1.82141212e+00],\n",
              "       [-7.38927371e-01],\n",
              "       [-6.78857381e-01],\n",
              "       [-2.21305086e+00],\n",
              "       [-1.28072404e+00],\n",
              "       [-5.55382197e-01],\n",
              "       [-1.64797442e+00],\n",
              "       [ 1.39614296e-01],\n",
              "       [-1.51547060e-01],\n",
              "       [-3.76164356e-01],\n",
              "       [-5.30673241e-01],\n",
              "       [ 5.46228631e-01],\n",
              "       [-9.37284392e-01],\n",
              "       [-1.68365952e+00],\n",
              "       [-6.62656400e-01],\n",
              "       [ 9.11542239e-01],\n",
              "       [ 8.37863663e-01],\n",
              "       [-9.20845828e-02],\n",
              "       [ 1.54033494e+00],\n",
              "       [ 1.58061486e-01],\n",
              "       [ 3.19613132e-01],\n",
              "       [-1.32497033e+00],\n",
              "       [-4.60616401e-01],\n",
              "       [ 7.73303216e-01],\n",
              "       [-1.03116362e+00],\n",
              "       [-8.25023549e-01],\n",
              "       [-4.69559353e-01],\n",
              "       [ 6.07765906e-01],\n",
              "       [-4.97732669e-01],\n",
              "       [ 4.56197175e-01],\n",
              "       [ 7.59319225e-01],\n",
              "       [ 3.66525168e-01],\n",
              "       [ 9.94865800e-01],\n",
              "       [-2.18607159e+00],\n",
              "       [ 8.13289838e-01],\n",
              "       [ 1.73625246e+00],\n",
              "       [ 8.64891638e-01],\n",
              "       [-1.88418690e-01],\n",
              "       [ 8.80845764e-02],\n",
              "       [ 1.26721175e+00],\n",
              "       [-9.50931039e-04],\n",
              "       [ 3.90376004e-02],\n",
              "       [-2.01672364e+00],\n",
              "       [ 5.66896476e-03],\n",
              "       [-1.56405263e+00],\n",
              "       [-4.34524437e-01],\n",
              "       [-1.58360009e-01],\n",
              "       [-1.40935897e+00],\n",
              "       [ 3.09163148e-01],\n",
              "       [-7.90165649e-02],\n",
              "       [-1.68975661e+00],\n",
              "       [ 1.55768011e+00],\n",
              "       [-9.34913334e-01],\n",
              "       [ 4.75574709e-01],\n",
              "       [-2.26102098e+00],\n",
              "       [ 7.21357989e-01],\n",
              "       [ 1.03131179e-01],\n",
              "       [-1.83430801e+00],\n",
              "       [ 1.04118240e+00],\n",
              "       [-4.42003634e-01]])"
            ]
          },
          "metadata": {},
          "execution_count": 49
        }
      ]
    },
    {
      "cell_type": "code",
      "metadata": {
        "colab": {
          "base_uri": "https://localhost:8080/"
        },
        "id": "IRQzVrf1qpqE",
        "outputId": "e444863d-d2f3-41de-985f-a17d31f1a043"
      },
      "source": [
        "noise.shape"
      ],
      "execution_count": null,
      "outputs": [
        {
          "output_type": "execute_result",
          "data": {
            "text/plain": [
              "(1, 118)"
            ]
          },
          "metadata": {},
          "execution_count": 50
        }
      ]
    },
    {
      "cell_type": "code",
      "metadata": {
        "colab": {
          "base_uri": "https://localhost:8080/"
        },
        "id": "5AYVNVf4q0Zm",
        "outputId": "4f5d66b4-7337-483c-f7d0-0f23fb9d74d0"
      },
      "source": [
        "dir(model)"
      ],
      "execution_count": null,
      "outputs": [
        {
          "output_type": "execute_result",
          "data": {
            "text/plain": [
              "['__abstractmethods__',\n",
              " '__annotations__',\n",
              " '__class__',\n",
              " '__delattr__',\n",
              " '__dict__',\n",
              " '__dir__',\n",
              " '__doc__',\n",
              " '__eq__',\n",
              " '__format__',\n",
              " '__ge__',\n",
              " '__getattribute__',\n",
              " '__getitem__',\n",
              " '__getstate__',\n",
              " '__gt__',\n",
              " '__hash__',\n",
              " '__init__',\n",
              " '__init_subclass__',\n",
              " '__iter__',\n",
              " '__le__',\n",
              " '__len__',\n",
              " '__lt__',\n",
              " '__module__',\n",
              " '__ne__',\n",
              " '__new__',\n",
              " '__reduce__',\n",
              " '__reduce_ex__',\n",
              " '__repr__',\n",
              " '__setattr__',\n",
              " '__setstate__',\n",
              " '__sizeof__',\n",
              " '__str__',\n",
              " '__subclasshook__',\n",
              " '__weakref__',\n",
              " '_abc_impl',\n",
              " '_check_feature_names',\n",
              " '_check_n_features',\n",
              " '_compute_oob_predictions',\n",
              " '_estimator_type',\n",
              " '_get_oob_predictions',\n",
              " '_get_param_names',\n",
              " '_get_tags',\n",
              " '_make_estimator',\n",
              " '_more_tags',\n",
              " '_repr_html_',\n",
              " '_repr_html_inner',\n",
              " '_repr_mimebundle_',\n",
              " '_required_parameters',\n",
              " '_set_oob_score_and_attributes',\n",
              " '_validate_X_predict',\n",
              " '_validate_data',\n",
              " '_validate_estimator',\n",
              " '_validate_y_class_weight',\n",
              " 'apply',\n",
              " 'base_estimator',\n",
              " 'base_estimator_',\n",
              " 'bootstrap',\n",
              " 'ccp_alpha',\n",
              " 'class_weight',\n",
              " 'classes_',\n",
              " 'criterion',\n",
              " 'decision_path',\n",
              " 'estimator_params',\n",
              " 'estimators_',\n",
              " 'feature_importances_',\n",
              " 'feature_names_in_',\n",
              " 'fit',\n",
              " 'get_params',\n",
              " 'max_depth',\n",
              " 'max_features',\n",
              " 'max_leaf_nodes',\n",
              " 'max_samples',\n",
              " 'min_impurity_decrease',\n",
              " 'min_samples_leaf',\n",
              " 'min_samples_split',\n",
              " 'min_weight_fraction_leaf',\n",
              " 'n_classes_',\n",
              " 'n_estimators',\n",
              " 'n_features_',\n",
              " 'n_features_in_',\n",
              " 'n_jobs',\n",
              " 'n_outputs_',\n",
              " 'oob_score',\n",
              " 'predict',\n",
              " 'predict_log_proba',\n",
              " 'predict_proba',\n",
              " 'random_state',\n",
              " 'score',\n",
              " 'set_params',\n",
              " 'verbose',\n",
              " 'warm_start']"
            ]
          },
          "metadata": {},
          "execution_count": 51
        }
      ]
    },
    {
      "cell_type": "code",
      "metadata": {
        "id": "PHZJU9RUveCB",
        "colab": {
          "base_uri": "https://localhost:8080/"
        },
        "outputId": "17573653-6175-4caa-a4c0-ae493a3b494f"
      },
      "source": [
        "discriminator.get_weights()"
      ],
      "execution_count": null,
      "outputs": [
        {
          "output_type": "execute_result",
          "data": {
            "text/plain": [
              "[array([[-0.10681897,  0.06509662, -0.12226892, ..., -0.04451396,\n",
              "         -0.02529427,  0.04006506],\n",
              "        [ 0.07050513,  0.12347104, -0.04425992, ..., -0.01481659,\n",
              "          0.11165528,  0.07644892],\n",
              "        [ 0.04147387, -0.07582086,  0.07387277, ...,  0.07798139,\n",
              "         -0.04144698,  0.04582482],\n",
              "        ...,\n",
              "        [ 0.06137419,  0.05749039,  0.02635726, ...,  0.02710763,\n",
              "         -0.06968725,  0.03466322],\n",
              "        [ 0.10916571, -0.04232114, -0.06875012, ..., -0.01516426,\n",
              "          0.08211299, -0.07036979],\n",
              "        [ 0.0293738 ,  0.04752425, -0.06767563, ..., -0.05417005,\n",
              "          0.06817735, -0.02930328]], dtype=float32),\n",
              " array([ 7.6582520e-03,  1.7069288e-03, -5.7584872e-03, -3.8759077e-05,\n",
              "         2.6731866e-03,  6.3898480e-03,  7.0605883e-03,  3.2476922e-03,\n",
              "         1.3035565e-03, -2.6087004e-03,  3.6647462e-03,  4.3059005e-03,\n",
              "         7.8110383e-03,  1.0307337e-03, -5.1831645e-03,  7.5550750e-04,\n",
              "        -2.8100957e-03,  7.3564365e-03, -7.1523516e-03,  1.7025810e-03,\n",
              "         4.8398599e-03,  6.3230004e-03,  5.4635676e-03,  4.3003582e-03,\n",
              "         6.7860633e-03, -2.5616589e-03,  2.3643277e-03, -1.7232132e-03,\n",
              "         6.8656215e-03,  4.0224111e-03,  5.9771305e-03, -2.4198794e-03,\n",
              "         1.8104599e-03,  4.1030820e-05, -1.5696567e-03,  6.9825938e-03,\n",
              "         7.8877239e-03, -8.2643074e-04, -2.9988619e-03,  5.0822627e-03,\n",
              "         3.3792830e-03, -1.2727630e-03,  5.5600591e-03,  1.8167312e-03,\n",
              "         4.8951609e-03,  6.2935096e-03, -3.8904857e-03,  3.7702618e-03,\n",
              "         2.5868942e-03, -6.3828328e-03,  2.1036163e-03,  3.0585830e-03,\n",
              "        -3.8658760e-03, -3.0265751e-03,  6.4686886e-03, -3.4764099e-03,\n",
              "         6.1685191e-03,  4.8992073e-04,  5.2479194e-03, -5.7670348e-03,\n",
              "        -7.9628866e-04,  7.3633716e-03, -2.1653909e-03,  7.8345481e-03,\n",
              "         7.8710550e-03, -2.0728987e-03, -1.6513568e-03, -6.1339856e-04,\n",
              "        -7.5006546e-03,  5.6429426e-03,  3.3032915e-03,  3.2468096e-03,\n",
              "        -4.4215620e-03, -6.5512431e-04,  4.6604830e-03,  8.2883559e-04,\n",
              "        -7.0429216e-03, -4.7203051e-03,  3.3549163e-03,  4.4263559e-03,\n",
              "         5.5523319e-03,  5.2211154e-03, -6.4597195e-03,  3.4939549e-03,\n",
              "         6.2322295e-03,  2.0619468e-03, -3.0990895e-03,  4.2315782e-03,\n",
              "        -2.4108740e-03, -4.1617802e-03,  6.4423424e-03, -5.1081064e-03,\n",
              "        -3.3458825e-03, -3.2379716e-03,  1.7420951e-03,  5.7569873e-03,\n",
              "        -5.1050358e-03, -2.1690021e-03,  4.2370544e-03, -4.7310204e-03,\n",
              "         5.5066007e-03,  4.1248314e-03, -2.0192047e-03,  5.1726718e-03,\n",
              "         4.6835006e-03, -4.5689737e-04, -2.7316778e-03,  7.1358113e-03,\n",
              "         7.5646867e-03,  7.2500873e-03,  5.1765260e-03,  7.2060758e-03,\n",
              "        -6.8288380e-03, -1.7242118e-03, -1.7007603e-03, -4.9970672e-03,\n",
              "         4.9930960e-03, -2.0438277e-03, -4.9354183e-03, -4.3015028e-03,\n",
              "        -3.5562592e-03,  3.7217827e-03,  4.1601392e-03,  2.9754385e-04,\n",
              "         6.9151204e-03,  6.7534088e-03,  3.8762034e-03, -7.1652449e-04,\n",
              "        -5.5924347e-03, -6.2809436e-04, -2.8857749e-03, -5.4375078e-03,\n",
              "         2.6484092e-03, -7.1575451e-03, -5.8689076e-03, -5.4511949e-03,\n",
              "        -4.2233109e-03, -4.3971161e-03,  2.5340402e-03,  1.5879287e-04,\n",
              "        -4.7687362e-03,  9.2609931e-04,  6.2989383e-03, -2.4197740e-03,\n",
              "         4.8258030e-03,  4.4746795e-03,  3.6153041e-03,  6.4937877e-03,\n",
              "        -1.5190383e-04, -3.4103254e-03, -5.2083237e-03,  7.3306547e-03,\n",
              "        -6.3300990e-03, -1.7135025e-03,  2.8070440e-03, -6.4104437e-03,\n",
              "        -5.9436602e-03, -2.6542982e-03,  4.3248958e-03,  7.3482534e-03,\n",
              "        -4.8549930e-03, -3.8853090e-03,  5.3014257e-03,  4.9237269e-03,\n",
              "         7.1650543e-03,  3.7830905e-03,  1.0981086e-03, -3.2331094e-03,\n",
              "         6.2300637e-03,  3.0836600e-03,  6.2425416e-03,  6.0836277e-03,\n",
              "         6.0881185e-03, -5.5412315e-03, -2.5029953e-03, -2.4826622e-03,\n",
              "         4.5075156e-03,  3.3746539e-03, -1.5007074e-04,  6.3444269e-03,\n",
              "         2.3486561e-03, -4.5796228e-03,  7.6410132e-03, -2.9984636e-03,\n",
              "         7.0582354e-03,  7.2381604e-03,  2.5519917e-03,  5.6759310e-03,\n",
              "        -7.0323194e-03,  2.2160211e-03,  6.1985757e-03, -6.4721848e-03,\n",
              "         9.0976205e-04, -2.5699565e-03, -6.9465260e-03, -2.9402215e-03,\n",
              "        -1.3913891e-03, -4.7457837e-03,  4.7089430e-03, -5.5719190e-03,\n",
              "         4.3716915e-03,  3.9349915e-03,  4.6589361e-03,  4.4357320e-03,\n",
              "         7.2961967e-03, -7.0146574e-03,  4.7954055e-03,  1.4153211e-03,\n",
              "        -1.4880677e-03, -3.8067857e-03, -6.5889726e-03,  6.6556348e-03,\n",
              "         5.9252148e-03,  3.6513663e-03,  8.6531142e-04, -6.5101697e-03,\n",
              "        -3.4372229e-03,  6.1026635e-03,  3.0047365e-03,  2.9277524e-03,\n",
              "         2.7581363e-03,  6.1608073e-03, -6.1276094e-03,  4.8934589e-03,\n",
              "        -4.7675096e-03,  3.2236988e-03,  1.0945570e-03,  6.8093524e-03,\n",
              "         6.8648933e-03,  4.4748024e-03, -5.1124911e-03, -2.7550049e-03,\n",
              "         5.6117270e-03, -3.1654425e-03, -4.8885681e-03,  3.2733837e-03,\n",
              "         4.4586458e-03,  1.6710464e-03,  1.8931754e-03,  4.1788281e-03,\n",
              "         6.8627750e-03, -1.9409206e-03,  3.7131202e-03,  6.7019388e-03,\n",
              "        -4.9491799e-03,  7.7102352e-03,  6.3341716e-03,  5.8882930e-03,\n",
              "        -2.2370468e-03, -4.9842983e-03,  5.5996855e-03,  2.6823904e-03,\n",
              "         5.9797592e-03,  6.6304361e-03, -1.9409505e-03, -3.0976967e-03],\n",
              "       dtype=float32),\n",
              " array([[ 0.01902134, -0.02832428,  0.00013675, ...,  0.06005851,\n",
              "         -0.04420251,  0.0450988 ],\n",
              "        [ 0.04098223,  0.03647494, -0.0399567 , ...,  0.05492591,\n",
              "          0.02528002, -0.07752917],\n",
              "        [ 0.09124962, -0.11297677,  0.0260049 , ...,  0.04569204,\n",
              "          0.00645112, -0.08129619],\n",
              "        ...,\n",
              "        [-0.00257001,  0.01448311, -0.10072888, ...,  0.08962553,\n",
              "         -0.020557  ,  0.05372084],\n",
              "        [-0.08466173,  0.0922268 , -0.06164571, ...,  0.08389873,\n",
              "         -0.06234442,  0.01224799],\n",
              "        [-0.04998593,  0.02874506, -0.04119343, ...,  0.06848579,\n",
              "         -0.09706813, -0.09237436]], dtype=float32),\n",
              " array([-4.6470854e-03,  5.6740097e-03, -4.6175453e-03,  3.3043495e-03,\n",
              "         1.3456539e-04,  4.0142415e-03,  2.6736672e-03,  3.6497186e-03,\n",
              "         4.5021004e-03,  5.5878325e-03,  3.1332572e-03, -3.1508352e-03,\n",
              "         2.4018274e-03, -2.8576551e-03, -4.5601185e-03,  1.4522030e-03,\n",
              "         4.9743876e-03,  6.5401206e-03, -3.1870653e-04,  5.8254409e-03,\n",
              "         4.0252646e-03,  1.8187787e-03,  5.1590214e-03,  4.4514313e-03,\n",
              "         5.8662696e-03, -8.8466023e-04,  5.8316360e-03,  1.4652415e-03,\n",
              "         1.7345806e-03,  4.7709923e-03, -1.6506058e-04,  1.9807909e-03,\n",
              "        -2.7297952e-03, -3.1952795e-03,  2.9148071e-04,  1.9219096e-03,\n",
              "         1.4074846e-03,  4.4706645e-03, -5.2299281e-03,  4.1650804e-03,\n",
              "         6.9939378e-03, -2.8004090e-03, -6.2480047e-03,  3.3666552e-03,\n",
              "        -4.7692535e-03, -3.2163565e-03,  3.2934011e-03,  1.9849828e-03,\n",
              "         6.4825560e-03, -4.1600189e-04, -2.7837168e-04, -3.3242907e-03,\n",
              "         1.8034942e-03, -2.4171339e-03,  4.4465680e-03,  3.4605553e-03,\n",
              "         3.6646207e-03,  5.9792772e-03,  2.2251650e-03, -2.5668195e-03,\n",
              "        -5.4775695e-03,  4.6354381e-04, -5.4324092e-03, -2.3388471e-03,\n",
              "         6.7186719e-03,  5.3492053e-03,  3.5634083e-03,  3.4199615e-03,\n",
              "        -5.1143458e-03, -9.0758508e-04, -3.3601553e-03, -2.8985384e-04,\n",
              "        -3.4469033e-03,  6.0726120e-03,  5.0837351e-03,  4.1868514e-03,\n",
              "        -1.6441707e-03,  2.0402893e-03, -4.6401857e-03, -3.3894440e-03,\n",
              "         5.4953229e-03,  4.9430630e-03,  4.2563104e-03, -2.3674124e-03,\n",
              "         4.6967934e-03,  2.3656101e-03, -3.7349504e-03,  7.0010936e-03,\n",
              "         6.1941594e-03,  4.5108106e-03,  2.3414914e-03,  5.4434454e-03,\n",
              "         7.5272694e-03,  3.6905217e-03,  2.6345230e-03,  3.0934142e-03,\n",
              "         6.0944348e-03,  5.3663580e-03,  3.2337261e-03,  5.8237347e-03,\n",
              "         2.3331984e-03,  1.9906242e-03,  2.3600437e-04,  5.0817425e-03,\n",
              "        -4.3256213e-03,  4.7843242e-03, -1.1465983e-03,  5.1775477e-03,\n",
              "        -3.7935458e-03,  3.1076383e-03, -6.8054805e-03, -3.8636192e-03,\n",
              "         2.0687897e-03, -1.5694310e-03,  3.2258802e-03,  6.4830477e-03,\n",
              "         4.7270665e-03,  4.1162292e-03, -3.0131477e-03, -5.2810749e-03,\n",
              "        -2.4668751e-03,  7.4461638e-03,  5.3953365e-03, -4.6678734e-04,\n",
              "        -5.5193589e-03, -4.1330508e-03,  7.0189284e-03,  6.7446539e-03,\n",
              "        -5.4591103e-03,  4.7641736e-03, -3.4618713e-03,  2.9735960e-04,\n",
              "         2.7301849e-03, -2.3676637e-03, -6.5848371e-03,  4.5417086e-03,\n",
              "         6.4915079e-03,  7.4145794e-03, -3.1229027e-03, -4.7108699e-03,\n",
              "         4.8712487e-03,  5.6144735e-03,  3.5478610e-03, -3.9432398e-03,\n",
              "        -6.2143537e-03, -5.6920300e-04, -6.3203699e-03, -5.1580728e-03,\n",
              "        -5.6694020e-03,  4.8579560e-03,  3.6772732e-03,  5.9001236e-03,\n",
              "         4.6749450e-03,  2.1485093e-03,  6.8479534e-03,  4.6254615e-03,\n",
              "         7.3512611e-03,  5.2806181e-03,  3.2021997e-03, -3.3564381e-03,\n",
              "         7.0229503e-03, -3.4003651e-03,  6.0529080e-03, -2.3397647e-03,\n",
              "        -5.8213617e-03, -5.0016269e-03, -3.7470057e-03, -5.4794513e-03,\n",
              "         6.0319612e-03, -3.0780432e-03,  3.3485726e-03,  6.0942085e-03,\n",
              "         4.5063454e-03,  3.1684381e-03, -3.6371569e-03,  5.6880005e-03,\n",
              "        -5.7840892e-03,  4.4869496e-03, -1.0913367e-03,  1.8276936e-04,\n",
              "         3.2451514e-03,  1.8424443e-03,  5.7986481e-03, -2.1190774e-03,\n",
              "         3.6822225e-03,  6.1381478e-03,  4.2491294e-03, -1.5762015e-03,\n",
              "        -3.6488716e-03, -3.8807120e-04, -2.3989510e-03,  6.2551107e-03,\n",
              "        -5.7296823e-03,  4.7820732e-03,  6.8837642e-03, -8.9019501e-05,\n",
              "         3.3306826e-03, -4.5503392e-03,  4.2969207e-03, -4.4521340e-03,\n",
              "         3.2807370e-03, -2.4352944e-03, -1.7607379e-03,  4.9859812e-03,\n",
              "        -5.9315735e-03,  6.0928677e-04,  8.6531451e-05,  6.4528813e-03,\n",
              "         6.1022607e-03,  6.9197156e-03,  7.1179597e-03,  5.8509186e-03,\n",
              "         4.3110382e-03,  5.7867011e-03, -2.6853189e-03,  5.3787166e-03,\n",
              "        -1.4599183e-03, -5.8418284e-03, -4.6036495e-03, -2.7828699e-03,\n",
              "        -6.0048467e-03, -5.9619066e-03, -5.8372424e-04,  3.7806376e-03,\n",
              "        -4.4775521e-03, -2.8928118e-03, -4.9742321e-03,  3.3417607e-03,\n",
              "         6.4650485e-03, -4.0553091e-03,  8.9768774e-04,  9.0933766e-04,\n",
              "         1.5245339e-04,  2.0800934e-03, -3.1831570e-03,  6.9404058e-03,\n",
              "         1.0102039e-03,  3.5608152e-03,  3.1367624e-03,  4.1606645e-03,\n",
              "         3.7998187e-03, -2.8381071e-03,  4.0628240e-03,  5.5921087e-03,\n",
              "         4.7704238e-03,  6.7725484e-03,  5.8133844e-03, -1.0506209e-03,\n",
              "         2.9071108e-03, -2.1813554e-03,  5.0710044e-03,  2.9222572e-03,\n",
              "        -6.1480734e-03,  1.9680317e-03,  2.1946526e-03, -4.0569152e-03],\n",
              "       dtype=float32),\n",
              " array([[ 0.10144048, -0.10555887,  0.06795201, ..., -0.0088305 ,\n",
              "         -0.11920759,  0.04013534],\n",
              "        [-0.03546262,  0.04293354,  0.01341013, ...,  0.10340587,\n",
              "          0.01827063,  0.12007964],\n",
              "        [ 0.052157  ,  0.06730365,  0.11476699, ..., -0.07316668,\n",
              "          0.00106461, -0.00765165],\n",
              "        ...,\n",
              "        [-0.02922943, -0.07450014, -0.06311812, ..., -0.11667415,\n",
              "         -0.08491323,  0.05474247],\n",
              "        [-0.0721647 ,  0.03110491,  0.04617981, ..., -0.09515566,\n",
              "         -0.06915192,  0.10171639],\n",
              "        [-0.00444263,  0.0119705 ,  0.12396185, ..., -0.06160622,\n",
              "          0.10416622,  0.06508067]], dtype=float32),\n",
              " array([ 3.8584184e-03,  6.1405068e-03,  5.4217819e-03, -5.4684910e-03,\n",
              "         5.4150419e-03,  6.8556680e-04,  2.0722190e-03, -5.8211838e-03,\n",
              "         1.8910748e-03,  7.3695350e-03, -3.4528141e-04,  1.1002150e-04,\n",
              "         4.4013653e-03,  2.9487675e-03, -4.1084792e-03,  6.7433831e-03,\n",
              "         6.3026478e-03,  6.7293341e-03,  4.7936109e-03, -4.5321737e-03,\n",
              "         3.6472324e-03,  6.4360765e-03,  1.7686279e-03, -4.9709729e-03,\n",
              "         5.8943452e-03, -3.0858607e-03,  5.8445190e-03, -4.6026381e-03,\n",
              "         6.8518338e-03,  6.4217751e-03, -3.8423834e-04,  6.5924092e-03,\n",
              "        -2.8998039e-03,  4.8149228e-03,  5.3396909e-03, -5.9474721e-03,\n",
              "        -2.5397514e-03,  1.9717785e-03, -4.4871140e-03, -2.8737388e-03,\n",
              "         4.6119830e-03,  2.7396630e-03, -4.2716642e-03,  6.4150672e-03,\n",
              "         6.7853113e-03, -2.1650915e-03, -3.0416916e-03, -1.9265591e-03,\n",
              "        -4.4489149e-03,  2.2971947e-03,  7.3505280e-04, -5.0158040e-03,\n",
              "        -1.3160541e-03,  1.7355495e-03, -2.4278995e-03, -2.8277372e-03,\n",
              "        -3.6714326e-03,  2.9142769e-03, -2.6546805e-03,  6.5622525e-03,\n",
              "         9.3988387e-04, -5.1194998e-03, -4.2768400e-03,  2.1753805e-03,\n",
              "         2.6748017e-03,  6.6269711e-03, -2.5334568e-03,  6.5514189e-03,\n",
              "         2.1740056e-03, -6.6321814e-03, -2.9351837e-03,  2.3317023e-03,\n",
              "        -1.5973334e-03,  8.6765451e-04,  6.3833874e-03,  1.8410899e-03,\n",
              "         6.1446745e-03,  7.2818650e-03, -5.1023095e-04, -2.5533952e-03,\n",
              "         2.3138856e-03,  3.5815622e-04, -1.7680266e-03,  4.4352743e-03,\n",
              "        -3.8538661e-03,  1.8849089e-03,  5.7847858e-03,  3.4518072e-03,\n",
              "        -3.7531846e-03,  2.3938408e-03,  1.6256927e-03, -1.3350764e-03,\n",
              "         4.6696854e-03, -4.3697194e-03, -6.3527408e-03,  7.2166235e-03,\n",
              "         5.1123546e-03, -1.6105520e-03,  4.5682676e-04,  1.0432617e-03,\n",
              "         5.1103742e-03, -3.1912362e-03,  5.3916057e-03, -4.6389964e-03,\n",
              "        -1.9547434e-03, -2.7050381e-03, -6.0860631e-03,  2.1821535e-03,\n",
              "         2.3844177e-03, -3.5990819e-03,  1.6981856e-03, -7.8798842e-04,\n",
              "        -2.1638460e-03,  3.2778454e-03,  2.5130380e-03,  7.4957241e-03,\n",
              "         4.4386699e-05,  6.5395441e-03,  2.0579356e-03,  3.0505925e-03,\n",
              "         5.1226830e-03, -4.1948920e-03,  5.6664483e-04,  7.4819694e-03,\n",
              "         3.2093031e-03,  7.0723975e-03,  1.0863665e-03,  2.5363155e-03],\n",
              "       dtype=float32),\n",
              " array([[-0.03956524,  0.14230184,  0.03019197, ...,  0.03904279,\n",
              "         -0.05457355, -0.00065518],\n",
              "        [-0.10618353,  0.07919486, -0.07413049, ..., -0.045257  ,\n",
              "         -0.01863209, -0.06033893],\n",
              "        [ 0.03030079, -0.0914415 ,  0.0677465 , ...,  0.03455662,\n",
              "          0.08209015, -0.09029587],\n",
              "        ...,\n",
              "        [-0.11368283,  0.02405152, -0.10925805, ...,  0.03186805,\n",
              "         -0.12766889,  0.04688082],\n",
              "        [-0.10234898, -0.14664787,  0.04393998, ..., -0.09319852,\n",
              "          0.09313004, -0.02737706],\n",
              "        [-0.13081738, -0.0209303 ,  0.0146701 , ..., -0.03230629,\n",
              "          0.0436194 ,  0.0472825 ]], dtype=float32),\n",
              " array([-0.00604942,  0.00652685,  0.00684634, -0.00245314, -0.00625665,\n",
              "        -0.00093848,  0.00479553, -0.00132838, -0.00064622,  0.00524616,\n",
              "         0.00659094, -0.0051319 ,  0.00575738,  0.00549748,  0.00179758,\n",
              "         0.00454122,  0.00684955,  0.00530097,  0.00164953, -0.00300417,\n",
              "         0.00229017, -0.00247842,  0.0045322 , -0.00285973,  0.00123601,\n",
              "         0.00068387, -0.00078814, -0.00433611,  0.00238178,  0.00596197,\n",
              "        -0.00447031,  0.00543636, -0.00557882, -0.00542101, -0.00386149,\n",
              "         0.00156188, -0.00490999,  0.00075978,  0.00710396,  0.00452482,\n",
              "         0.00739135,  0.00672765,  0.00345808,  0.00680216,  0.00626509,\n",
              "        -0.00526806,  0.00615096,  0.00583676, -0.00572758,  0.00095067,\n",
              "         0.00456582,  0.00247466,  0.00667488,  0.00536674,  0.0006796 ,\n",
              "         0.00448974,  0.00182851, -0.00507616,  0.00651423,  0.0036538 ,\n",
              "        -0.00235488,  0.00564147,  0.00724618, -0.00359754,  0.00609623,\n",
              "        -0.00015148, -0.00341641,  0.00277653,  0.00249254,  0.00236223,\n",
              "        -0.00339256,  0.00165095, -0.00461885, -0.00286314,  0.00655823,\n",
              "         0.00046906,  0.00503351,  0.00241138,  0.00567883, -0.00452248,\n",
              "        -0.00398925,  0.00497596,  0.00535174,  0.00563701, -0.0044501 ,\n",
              "         0.00525148, -0.00176662, -0.00075809,  0.00525053, -0.00420905,\n",
              "         0.00224376, -0.00558483, -0.00603917, -0.00208698,  0.00651994,\n",
              "         0.00649763, -0.00312062,  0.00609404,  0.00162824, -0.00329914,\n",
              "        -0.00569084,  0.00142386,  0.00659118, -0.00216842,  0.00254699,\n",
              "         0.00624005, -0.00335139,  0.00643301, -0.00567906,  0.00207416,\n",
              "         0.00023156,  0.00562309, -0.0006222 ,  0.00177289, -0.00097735,\n",
              "         0.0023931 ,  0.00310471,  0.00038789,  0.00580236, -0.00433533,\n",
              "         0.00027537, -0.0030073 ,  0.00217481, -0.00371769,  0.00483822,\n",
              "         0.00629359, -0.00678929, -0.00209634], dtype=float32),\n",
              " array([[ 0.03686343],\n",
              "        [-0.09316012],\n",
              "        [-0.03330425],\n",
              "        [ 0.08999414],\n",
              "        [ 0.01844885],\n",
              "        [-0.00557729],\n",
              "        [-0.13754195],\n",
              "        [-0.01568126],\n",
              "        [ 0.07356212],\n",
              "        [-0.01543404],\n",
              "        [-0.17200735],\n",
              "        [ 0.02403663],\n",
              "        [-0.20358317],\n",
              "        [-0.20874098],\n",
              "        [ 0.19412875],\n",
              "        [-0.15096186],\n",
              "        [-0.13339928],\n",
              "        [-0.17385277],\n",
              "        [ 0.06224366],\n",
              "        [ 0.03469659],\n",
              "        [ 0.17523764],\n",
              "        [ 0.21467005],\n",
              "        [-0.06459291],\n",
              "        [ 0.20810595],\n",
              "        [ 0.02390422],\n",
              "        [ 0.1409644 ],\n",
              "        [ 0.02438652],\n",
              "        [ 0.07934622],\n",
              "        [-0.0035936 ],\n",
              "        [-0.07530524],\n",
              "        [ 0.09756403],\n",
              "        [-0.08092988],\n",
              "        [ 0.04788704],\n",
              "        [ 0.14448254],\n",
              "        [ 0.11253101],\n",
              "        [ 0.20377295],\n",
              "        [ 0.19896626],\n",
              "        [ 0.20509157],\n",
              "        [-0.00526349],\n",
              "        [-0.04626762],\n",
              "        [-0.05758264],\n",
              "        [-0.11794744],\n",
              "        [-0.03213762],\n",
              "        [-0.1787365 ],\n",
              "        [-0.1845486 ],\n",
              "        [ 0.12740572],\n",
              "        [-0.04680996],\n",
              "        [-0.10898086],\n",
              "        [ 0.09443071],\n",
              "        [-0.10965104],\n",
              "        [-0.1931846 ],\n",
              "        [ 0.22050485],\n",
              "        [-0.07273141],\n",
              "        [-0.1636646 ],\n",
              "        [ 0.1841657 ],\n",
              "        [-0.08505942],\n",
              "        [-0.00059588],\n",
              "        [ 0.06987409],\n",
              "        [-0.2212602 ],\n",
              "        [-0.18919517],\n",
              "        [-0.02214398],\n",
              "        [-0.18907224],\n",
              "        [-0.05703943],\n",
              "        [ 0.19647238],\n",
              "        [-0.18674493],\n",
              "        [ 0.03793213],\n",
              "        [ 0.01081697],\n",
              "        [ 0.2062343 ],\n",
              "        [ 0.11224154],\n",
              "        [ 0.20986733],\n",
              "        [ 0.01517739],\n",
              "        [ 0.08576398],\n",
              "        [ 0.15777154],\n",
              "        [ 0.0695493 ],\n",
              "        [-0.03916766],\n",
              "        [-0.15782228],\n",
              "        [-0.06908119],\n",
              "        [ 0.11243393],\n",
              "        [-0.17853488],\n",
              "        [ 0.0412379 ],\n",
              "        [ 0.055928  ],\n",
              "        [-0.13627075],\n",
              "        [-0.03626573],\n",
              "        [-0.05421082],\n",
              "        [ 0.04826868],\n",
              "        [-0.09210686],\n",
              "        [-0.07182194],\n",
              "        [ 0.20015134],\n",
              "        [-0.06756093],\n",
              "        [ 0.05901004],\n",
              "        [ 0.19717662],\n",
              "        [ 0.02391187],\n",
              "        [ 0.04207719],\n",
              "        [ 0.14658874],\n",
              "        [-0.17300388],\n",
              "        [-0.10927144],\n",
              "        [ 0.12218977],\n",
              "        [-0.12780818],\n",
              "        [ 0.1588518 ],\n",
              "        [ 0.14985521],\n",
              "        [ 0.131092  ],\n",
              "        [ 0.20172918],\n",
              "        [-0.13759108],\n",
              "        [-0.13911399],\n",
              "        [ 0.13931517],\n",
              "        [-0.05969391],\n",
              "        [ 0.0417425 ],\n",
              "        [-0.12418104],\n",
              "        [ 0.0580778 ],\n",
              "        [ 0.14098883],\n",
              "        [ 0.06068157],\n",
              "        [-0.15230447],\n",
              "        [ 0.09873724],\n",
              "        [-0.12348433],\n",
              "        [-0.02027057],\n",
              "        [ 0.17974712],\n",
              "        [-0.06804192],\n",
              "        [ 0.10828689],\n",
              "        [-0.09533512],\n",
              "        [ 0.1096333 ],\n",
              "        [ 0.15414533],\n",
              "        [ 0.00659367],\n",
              "        [-0.16170172],\n",
              "        [ 0.0394558 ],\n",
              "        [-0.21383658],\n",
              "        [-0.04082703],\n",
              "        [ 0.04622319],\n",
              "        [ 0.2043621 ]], dtype=float32),\n",
              " array([-0.00715309], dtype=float32)]"
            ]
          },
          "metadata": {},
          "execution_count": 52
        }
      ]
    },
    {
      "cell_type": "code",
      "metadata": {
        "id": "CgSeRkeFvnhi",
        "colab": {
          "base_uri": "https://localhost:8080/"
        },
        "outputId": "420f3db4-deec-4e5c-b5d6-849521afa792"
      },
      "source": [
        "for lay in discriminator.layers:\n",
        "    print(lay.name)\n",
        "    print(lay.get_weights())"
      ],
      "execution_count": null,
      "outputs": [
        {
          "output_type": "stream",
          "name": "stdout",
          "text": [
            "dense_5\n",
            "[array([[-0.10681897,  0.06509662, -0.12226892, ..., -0.04451396,\n",
            "        -0.02529427,  0.04006506],\n",
            "       [ 0.07050513,  0.12347104, -0.04425992, ..., -0.01481659,\n",
            "         0.11165528,  0.07644892],\n",
            "       [ 0.04147387, -0.07582086,  0.07387277, ...,  0.07798139,\n",
            "        -0.04144698,  0.04582482],\n",
            "       ...,\n",
            "       [ 0.06137419,  0.05749039,  0.02635726, ...,  0.02710763,\n",
            "        -0.06968725,  0.03466322],\n",
            "       [ 0.10916571, -0.04232114, -0.06875012, ..., -0.01516426,\n",
            "         0.08211299, -0.07036979],\n",
            "       [ 0.0293738 ,  0.04752425, -0.06767563, ..., -0.05417005,\n",
            "         0.06817735, -0.02930328]], dtype=float32), array([ 7.6582520e-03,  1.7069288e-03, -5.7584872e-03, -3.8759077e-05,\n",
            "        2.6731866e-03,  6.3898480e-03,  7.0605883e-03,  3.2476922e-03,\n",
            "        1.3035565e-03, -2.6087004e-03,  3.6647462e-03,  4.3059005e-03,\n",
            "        7.8110383e-03,  1.0307337e-03, -5.1831645e-03,  7.5550750e-04,\n",
            "       -2.8100957e-03,  7.3564365e-03, -7.1523516e-03,  1.7025810e-03,\n",
            "        4.8398599e-03,  6.3230004e-03,  5.4635676e-03,  4.3003582e-03,\n",
            "        6.7860633e-03, -2.5616589e-03,  2.3643277e-03, -1.7232132e-03,\n",
            "        6.8656215e-03,  4.0224111e-03,  5.9771305e-03, -2.4198794e-03,\n",
            "        1.8104599e-03,  4.1030820e-05, -1.5696567e-03,  6.9825938e-03,\n",
            "        7.8877239e-03, -8.2643074e-04, -2.9988619e-03,  5.0822627e-03,\n",
            "        3.3792830e-03, -1.2727630e-03,  5.5600591e-03,  1.8167312e-03,\n",
            "        4.8951609e-03,  6.2935096e-03, -3.8904857e-03,  3.7702618e-03,\n",
            "        2.5868942e-03, -6.3828328e-03,  2.1036163e-03,  3.0585830e-03,\n",
            "       -3.8658760e-03, -3.0265751e-03,  6.4686886e-03, -3.4764099e-03,\n",
            "        6.1685191e-03,  4.8992073e-04,  5.2479194e-03, -5.7670348e-03,\n",
            "       -7.9628866e-04,  7.3633716e-03, -2.1653909e-03,  7.8345481e-03,\n",
            "        7.8710550e-03, -2.0728987e-03, -1.6513568e-03, -6.1339856e-04,\n",
            "       -7.5006546e-03,  5.6429426e-03,  3.3032915e-03,  3.2468096e-03,\n",
            "       -4.4215620e-03, -6.5512431e-04,  4.6604830e-03,  8.2883559e-04,\n",
            "       -7.0429216e-03, -4.7203051e-03,  3.3549163e-03,  4.4263559e-03,\n",
            "        5.5523319e-03,  5.2211154e-03, -6.4597195e-03,  3.4939549e-03,\n",
            "        6.2322295e-03,  2.0619468e-03, -3.0990895e-03,  4.2315782e-03,\n",
            "       -2.4108740e-03, -4.1617802e-03,  6.4423424e-03, -5.1081064e-03,\n",
            "       -3.3458825e-03, -3.2379716e-03,  1.7420951e-03,  5.7569873e-03,\n",
            "       -5.1050358e-03, -2.1690021e-03,  4.2370544e-03, -4.7310204e-03,\n",
            "        5.5066007e-03,  4.1248314e-03, -2.0192047e-03,  5.1726718e-03,\n",
            "        4.6835006e-03, -4.5689737e-04, -2.7316778e-03,  7.1358113e-03,\n",
            "        7.5646867e-03,  7.2500873e-03,  5.1765260e-03,  7.2060758e-03,\n",
            "       -6.8288380e-03, -1.7242118e-03, -1.7007603e-03, -4.9970672e-03,\n",
            "        4.9930960e-03, -2.0438277e-03, -4.9354183e-03, -4.3015028e-03,\n",
            "       -3.5562592e-03,  3.7217827e-03,  4.1601392e-03,  2.9754385e-04,\n",
            "        6.9151204e-03,  6.7534088e-03,  3.8762034e-03, -7.1652449e-04,\n",
            "       -5.5924347e-03, -6.2809436e-04, -2.8857749e-03, -5.4375078e-03,\n",
            "        2.6484092e-03, -7.1575451e-03, -5.8689076e-03, -5.4511949e-03,\n",
            "       -4.2233109e-03, -4.3971161e-03,  2.5340402e-03,  1.5879287e-04,\n",
            "       -4.7687362e-03,  9.2609931e-04,  6.2989383e-03, -2.4197740e-03,\n",
            "        4.8258030e-03,  4.4746795e-03,  3.6153041e-03,  6.4937877e-03,\n",
            "       -1.5190383e-04, -3.4103254e-03, -5.2083237e-03,  7.3306547e-03,\n",
            "       -6.3300990e-03, -1.7135025e-03,  2.8070440e-03, -6.4104437e-03,\n",
            "       -5.9436602e-03, -2.6542982e-03,  4.3248958e-03,  7.3482534e-03,\n",
            "       -4.8549930e-03, -3.8853090e-03,  5.3014257e-03,  4.9237269e-03,\n",
            "        7.1650543e-03,  3.7830905e-03,  1.0981086e-03, -3.2331094e-03,\n",
            "        6.2300637e-03,  3.0836600e-03,  6.2425416e-03,  6.0836277e-03,\n",
            "        6.0881185e-03, -5.5412315e-03, -2.5029953e-03, -2.4826622e-03,\n",
            "        4.5075156e-03,  3.3746539e-03, -1.5007074e-04,  6.3444269e-03,\n",
            "        2.3486561e-03, -4.5796228e-03,  7.6410132e-03, -2.9984636e-03,\n",
            "        7.0582354e-03,  7.2381604e-03,  2.5519917e-03,  5.6759310e-03,\n",
            "       -7.0323194e-03,  2.2160211e-03,  6.1985757e-03, -6.4721848e-03,\n",
            "        9.0976205e-04, -2.5699565e-03, -6.9465260e-03, -2.9402215e-03,\n",
            "       -1.3913891e-03, -4.7457837e-03,  4.7089430e-03, -5.5719190e-03,\n",
            "        4.3716915e-03,  3.9349915e-03,  4.6589361e-03,  4.4357320e-03,\n",
            "        7.2961967e-03, -7.0146574e-03,  4.7954055e-03,  1.4153211e-03,\n",
            "       -1.4880677e-03, -3.8067857e-03, -6.5889726e-03,  6.6556348e-03,\n",
            "        5.9252148e-03,  3.6513663e-03,  8.6531142e-04, -6.5101697e-03,\n",
            "       -3.4372229e-03,  6.1026635e-03,  3.0047365e-03,  2.9277524e-03,\n",
            "        2.7581363e-03,  6.1608073e-03, -6.1276094e-03,  4.8934589e-03,\n",
            "       -4.7675096e-03,  3.2236988e-03,  1.0945570e-03,  6.8093524e-03,\n",
            "        6.8648933e-03,  4.4748024e-03, -5.1124911e-03, -2.7550049e-03,\n",
            "        5.6117270e-03, -3.1654425e-03, -4.8885681e-03,  3.2733837e-03,\n",
            "        4.4586458e-03,  1.6710464e-03,  1.8931754e-03,  4.1788281e-03,\n",
            "        6.8627750e-03, -1.9409206e-03,  3.7131202e-03,  6.7019388e-03,\n",
            "       -4.9491799e-03,  7.7102352e-03,  6.3341716e-03,  5.8882930e-03,\n",
            "       -2.2370468e-03, -4.9842983e-03,  5.5996855e-03,  2.6823904e-03,\n",
            "        5.9797592e-03,  6.6304361e-03, -1.9409505e-03, -3.0976967e-03],\n",
            "      dtype=float32)]\n",
            "leaky_re_lu\n",
            "[]\n",
            "dropout\n",
            "[]\n",
            "dense_6\n",
            "[array([[ 0.01902134, -0.02832428,  0.00013675, ...,  0.06005851,\n",
            "        -0.04420251,  0.0450988 ],\n",
            "       [ 0.04098223,  0.03647494, -0.0399567 , ...,  0.05492591,\n",
            "         0.02528002, -0.07752917],\n",
            "       [ 0.09124962, -0.11297677,  0.0260049 , ...,  0.04569204,\n",
            "         0.00645112, -0.08129619],\n",
            "       ...,\n",
            "       [-0.00257001,  0.01448311, -0.10072888, ...,  0.08962553,\n",
            "        -0.020557  ,  0.05372084],\n",
            "       [-0.08466173,  0.0922268 , -0.06164571, ...,  0.08389873,\n",
            "        -0.06234442,  0.01224799],\n",
            "       [-0.04998593,  0.02874506, -0.04119343, ...,  0.06848579,\n",
            "        -0.09706813, -0.09237436]], dtype=float32), array([-4.6470854e-03,  5.6740097e-03, -4.6175453e-03,  3.3043495e-03,\n",
            "        1.3456539e-04,  4.0142415e-03,  2.6736672e-03,  3.6497186e-03,\n",
            "        4.5021004e-03,  5.5878325e-03,  3.1332572e-03, -3.1508352e-03,\n",
            "        2.4018274e-03, -2.8576551e-03, -4.5601185e-03,  1.4522030e-03,\n",
            "        4.9743876e-03,  6.5401206e-03, -3.1870653e-04,  5.8254409e-03,\n",
            "        4.0252646e-03,  1.8187787e-03,  5.1590214e-03,  4.4514313e-03,\n",
            "        5.8662696e-03, -8.8466023e-04,  5.8316360e-03,  1.4652415e-03,\n",
            "        1.7345806e-03,  4.7709923e-03, -1.6506058e-04,  1.9807909e-03,\n",
            "       -2.7297952e-03, -3.1952795e-03,  2.9148071e-04,  1.9219096e-03,\n",
            "        1.4074846e-03,  4.4706645e-03, -5.2299281e-03,  4.1650804e-03,\n",
            "        6.9939378e-03, -2.8004090e-03, -6.2480047e-03,  3.3666552e-03,\n",
            "       -4.7692535e-03, -3.2163565e-03,  3.2934011e-03,  1.9849828e-03,\n",
            "        6.4825560e-03, -4.1600189e-04, -2.7837168e-04, -3.3242907e-03,\n",
            "        1.8034942e-03, -2.4171339e-03,  4.4465680e-03,  3.4605553e-03,\n",
            "        3.6646207e-03,  5.9792772e-03,  2.2251650e-03, -2.5668195e-03,\n",
            "       -5.4775695e-03,  4.6354381e-04, -5.4324092e-03, -2.3388471e-03,\n",
            "        6.7186719e-03,  5.3492053e-03,  3.5634083e-03,  3.4199615e-03,\n",
            "       -5.1143458e-03, -9.0758508e-04, -3.3601553e-03, -2.8985384e-04,\n",
            "       -3.4469033e-03,  6.0726120e-03,  5.0837351e-03,  4.1868514e-03,\n",
            "       -1.6441707e-03,  2.0402893e-03, -4.6401857e-03, -3.3894440e-03,\n",
            "        5.4953229e-03,  4.9430630e-03,  4.2563104e-03, -2.3674124e-03,\n",
            "        4.6967934e-03,  2.3656101e-03, -3.7349504e-03,  7.0010936e-03,\n",
            "        6.1941594e-03,  4.5108106e-03,  2.3414914e-03,  5.4434454e-03,\n",
            "        7.5272694e-03,  3.6905217e-03,  2.6345230e-03,  3.0934142e-03,\n",
            "        6.0944348e-03,  5.3663580e-03,  3.2337261e-03,  5.8237347e-03,\n",
            "        2.3331984e-03,  1.9906242e-03,  2.3600437e-04,  5.0817425e-03,\n",
            "       -4.3256213e-03,  4.7843242e-03, -1.1465983e-03,  5.1775477e-03,\n",
            "       -3.7935458e-03,  3.1076383e-03, -6.8054805e-03, -3.8636192e-03,\n",
            "        2.0687897e-03, -1.5694310e-03,  3.2258802e-03,  6.4830477e-03,\n",
            "        4.7270665e-03,  4.1162292e-03, -3.0131477e-03, -5.2810749e-03,\n",
            "       -2.4668751e-03,  7.4461638e-03,  5.3953365e-03, -4.6678734e-04,\n",
            "       -5.5193589e-03, -4.1330508e-03,  7.0189284e-03,  6.7446539e-03,\n",
            "       -5.4591103e-03,  4.7641736e-03, -3.4618713e-03,  2.9735960e-04,\n",
            "        2.7301849e-03, -2.3676637e-03, -6.5848371e-03,  4.5417086e-03,\n",
            "        6.4915079e-03,  7.4145794e-03, -3.1229027e-03, -4.7108699e-03,\n",
            "        4.8712487e-03,  5.6144735e-03,  3.5478610e-03, -3.9432398e-03,\n",
            "       -6.2143537e-03, -5.6920300e-04, -6.3203699e-03, -5.1580728e-03,\n",
            "       -5.6694020e-03,  4.8579560e-03,  3.6772732e-03,  5.9001236e-03,\n",
            "        4.6749450e-03,  2.1485093e-03,  6.8479534e-03,  4.6254615e-03,\n",
            "        7.3512611e-03,  5.2806181e-03,  3.2021997e-03, -3.3564381e-03,\n",
            "        7.0229503e-03, -3.4003651e-03,  6.0529080e-03, -2.3397647e-03,\n",
            "       -5.8213617e-03, -5.0016269e-03, -3.7470057e-03, -5.4794513e-03,\n",
            "        6.0319612e-03, -3.0780432e-03,  3.3485726e-03,  6.0942085e-03,\n",
            "        4.5063454e-03,  3.1684381e-03, -3.6371569e-03,  5.6880005e-03,\n",
            "       -5.7840892e-03,  4.4869496e-03, -1.0913367e-03,  1.8276936e-04,\n",
            "        3.2451514e-03,  1.8424443e-03,  5.7986481e-03, -2.1190774e-03,\n",
            "        3.6822225e-03,  6.1381478e-03,  4.2491294e-03, -1.5762015e-03,\n",
            "       -3.6488716e-03, -3.8807120e-04, -2.3989510e-03,  6.2551107e-03,\n",
            "       -5.7296823e-03,  4.7820732e-03,  6.8837642e-03, -8.9019501e-05,\n",
            "        3.3306826e-03, -4.5503392e-03,  4.2969207e-03, -4.4521340e-03,\n",
            "        3.2807370e-03, -2.4352944e-03, -1.7607379e-03,  4.9859812e-03,\n",
            "       -5.9315735e-03,  6.0928677e-04,  8.6531451e-05,  6.4528813e-03,\n",
            "        6.1022607e-03,  6.9197156e-03,  7.1179597e-03,  5.8509186e-03,\n",
            "        4.3110382e-03,  5.7867011e-03, -2.6853189e-03,  5.3787166e-03,\n",
            "       -1.4599183e-03, -5.8418284e-03, -4.6036495e-03, -2.7828699e-03,\n",
            "       -6.0048467e-03, -5.9619066e-03, -5.8372424e-04,  3.7806376e-03,\n",
            "       -4.4775521e-03, -2.8928118e-03, -4.9742321e-03,  3.3417607e-03,\n",
            "        6.4650485e-03, -4.0553091e-03,  8.9768774e-04,  9.0933766e-04,\n",
            "        1.5245339e-04,  2.0800934e-03, -3.1831570e-03,  6.9404058e-03,\n",
            "        1.0102039e-03,  3.5608152e-03,  3.1367624e-03,  4.1606645e-03,\n",
            "        3.7998187e-03, -2.8381071e-03,  4.0628240e-03,  5.5921087e-03,\n",
            "        4.7704238e-03,  6.7725484e-03,  5.8133844e-03, -1.0506209e-03,\n",
            "        2.9071108e-03, -2.1813554e-03,  5.0710044e-03,  2.9222572e-03,\n",
            "       -6.1480734e-03,  1.9680317e-03,  2.1946526e-03, -4.0569152e-03],\n",
            "      dtype=float32)]\n",
            "leaky_re_lu_1\n",
            "[]\n",
            "dropout_1\n",
            "[]\n",
            "dense_7\n",
            "[array([[ 0.10144048, -0.10555887,  0.06795201, ..., -0.0088305 ,\n",
            "        -0.11920759,  0.04013534],\n",
            "       [-0.03546262,  0.04293354,  0.01341013, ...,  0.10340587,\n",
            "         0.01827063,  0.12007964],\n",
            "       [ 0.052157  ,  0.06730365,  0.11476699, ..., -0.07316668,\n",
            "         0.00106461, -0.00765165],\n",
            "       ...,\n",
            "       [-0.02922943, -0.07450014, -0.06311812, ..., -0.11667415,\n",
            "        -0.08491323,  0.05474247],\n",
            "       [-0.0721647 ,  0.03110491,  0.04617981, ..., -0.09515566,\n",
            "        -0.06915192,  0.10171639],\n",
            "       [-0.00444263,  0.0119705 ,  0.12396185, ..., -0.06160622,\n",
            "         0.10416622,  0.06508067]], dtype=float32), array([ 3.8584184e-03,  6.1405068e-03,  5.4217819e-03, -5.4684910e-03,\n",
            "        5.4150419e-03,  6.8556680e-04,  2.0722190e-03, -5.8211838e-03,\n",
            "        1.8910748e-03,  7.3695350e-03, -3.4528141e-04,  1.1002150e-04,\n",
            "        4.4013653e-03,  2.9487675e-03, -4.1084792e-03,  6.7433831e-03,\n",
            "        6.3026478e-03,  6.7293341e-03,  4.7936109e-03, -4.5321737e-03,\n",
            "        3.6472324e-03,  6.4360765e-03,  1.7686279e-03, -4.9709729e-03,\n",
            "        5.8943452e-03, -3.0858607e-03,  5.8445190e-03, -4.6026381e-03,\n",
            "        6.8518338e-03,  6.4217751e-03, -3.8423834e-04,  6.5924092e-03,\n",
            "       -2.8998039e-03,  4.8149228e-03,  5.3396909e-03, -5.9474721e-03,\n",
            "       -2.5397514e-03,  1.9717785e-03, -4.4871140e-03, -2.8737388e-03,\n",
            "        4.6119830e-03,  2.7396630e-03, -4.2716642e-03,  6.4150672e-03,\n",
            "        6.7853113e-03, -2.1650915e-03, -3.0416916e-03, -1.9265591e-03,\n",
            "       -4.4489149e-03,  2.2971947e-03,  7.3505280e-04, -5.0158040e-03,\n",
            "       -1.3160541e-03,  1.7355495e-03, -2.4278995e-03, -2.8277372e-03,\n",
            "       -3.6714326e-03,  2.9142769e-03, -2.6546805e-03,  6.5622525e-03,\n",
            "        9.3988387e-04, -5.1194998e-03, -4.2768400e-03,  2.1753805e-03,\n",
            "        2.6748017e-03,  6.6269711e-03, -2.5334568e-03,  6.5514189e-03,\n",
            "        2.1740056e-03, -6.6321814e-03, -2.9351837e-03,  2.3317023e-03,\n",
            "       -1.5973334e-03,  8.6765451e-04,  6.3833874e-03,  1.8410899e-03,\n",
            "        6.1446745e-03,  7.2818650e-03, -5.1023095e-04, -2.5533952e-03,\n",
            "        2.3138856e-03,  3.5815622e-04, -1.7680266e-03,  4.4352743e-03,\n",
            "       -3.8538661e-03,  1.8849089e-03,  5.7847858e-03,  3.4518072e-03,\n",
            "       -3.7531846e-03,  2.3938408e-03,  1.6256927e-03, -1.3350764e-03,\n",
            "        4.6696854e-03, -4.3697194e-03, -6.3527408e-03,  7.2166235e-03,\n",
            "        5.1123546e-03, -1.6105520e-03,  4.5682676e-04,  1.0432617e-03,\n",
            "        5.1103742e-03, -3.1912362e-03,  5.3916057e-03, -4.6389964e-03,\n",
            "       -1.9547434e-03, -2.7050381e-03, -6.0860631e-03,  2.1821535e-03,\n",
            "        2.3844177e-03, -3.5990819e-03,  1.6981856e-03, -7.8798842e-04,\n",
            "       -2.1638460e-03,  3.2778454e-03,  2.5130380e-03,  7.4957241e-03,\n",
            "        4.4386699e-05,  6.5395441e-03,  2.0579356e-03,  3.0505925e-03,\n",
            "        5.1226830e-03, -4.1948920e-03,  5.6664483e-04,  7.4819694e-03,\n",
            "        3.2093031e-03,  7.0723975e-03,  1.0863665e-03,  2.5363155e-03],\n",
            "      dtype=float32)]\n",
            "leaky_re_lu_2\n",
            "[]\n",
            "dropout_2\n",
            "[]\n",
            "dense_8\n",
            "[array([[-0.03956524,  0.14230184,  0.03019197, ...,  0.03904279,\n",
            "        -0.05457355, -0.00065518],\n",
            "       [-0.10618353,  0.07919486, -0.07413049, ..., -0.045257  ,\n",
            "        -0.01863209, -0.06033893],\n",
            "       [ 0.03030079, -0.0914415 ,  0.0677465 , ...,  0.03455662,\n",
            "         0.08209015, -0.09029587],\n",
            "       ...,\n",
            "       [-0.11368283,  0.02405152, -0.10925805, ...,  0.03186805,\n",
            "        -0.12766889,  0.04688082],\n",
            "       [-0.10234898, -0.14664787,  0.04393998, ..., -0.09319852,\n",
            "         0.09313004, -0.02737706],\n",
            "       [-0.13081738, -0.0209303 ,  0.0146701 , ..., -0.03230629,\n",
            "         0.0436194 ,  0.0472825 ]], dtype=float32), array([-0.00604942,  0.00652685,  0.00684634, -0.00245314, -0.00625665,\n",
            "       -0.00093848,  0.00479553, -0.00132838, -0.00064622,  0.00524616,\n",
            "        0.00659094, -0.0051319 ,  0.00575738,  0.00549748,  0.00179758,\n",
            "        0.00454122,  0.00684955,  0.00530097,  0.00164953, -0.00300417,\n",
            "        0.00229017, -0.00247842,  0.0045322 , -0.00285973,  0.00123601,\n",
            "        0.00068387, -0.00078814, -0.00433611,  0.00238178,  0.00596197,\n",
            "       -0.00447031,  0.00543636, -0.00557882, -0.00542101, -0.00386149,\n",
            "        0.00156188, -0.00490999,  0.00075978,  0.00710396,  0.00452482,\n",
            "        0.00739135,  0.00672765,  0.00345808,  0.00680216,  0.00626509,\n",
            "       -0.00526806,  0.00615096,  0.00583676, -0.00572758,  0.00095067,\n",
            "        0.00456582,  0.00247466,  0.00667488,  0.00536674,  0.0006796 ,\n",
            "        0.00448974,  0.00182851, -0.00507616,  0.00651423,  0.0036538 ,\n",
            "       -0.00235488,  0.00564147,  0.00724618, -0.00359754,  0.00609623,\n",
            "       -0.00015148, -0.00341641,  0.00277653,  0.00249254,  0.00236223,\n",
            "       -0.00339256,  0.00165095, -0.00461885, -0.00286314,  0.00655823,\n",
            "        0.00046906,  0.00503351,  0.00241138,  0.00567883, -0.00452248,\n",
            "       -0.00398925,  0.00497596,  0.00535174,  0.00563701, -0.0044501 ,\n",
            "        0.00525148, -0.00176662, -0.00075809,  0.00525053, -0.00420905,\n",
            "        0.00224376, -0.00558483, -0.00603917, -0.00208698,  0.00651994,\n",
            "        0.00649763, -0.00312062,  0.00609404,  0.00162824, -0.00329914,\n",
            "       -0.00569084,  0.00142386,  0.00659118, -0.00216842,  0.00254699,\n",
            "        0.00624005, -0.00335139,  0.00643301, -0.00567906,  0.00207416,\n",
            "        0.00023156,  0.00562309, -0.0006222 ,  0.00177289, -0.00097735,\n",
            "        0.0023931 ,  0.00310471,  0.00038789,  0.00580236, -0.00433533,\n",
            "        0.00027537, -0.0030073 ,  0.00217481, -0.00371769,  0.00483822,\n",
            "        0.00629359, -0.00678929, -0.00209634], dtype=float32)]\n",
            "leaky_re_lu_3\n",
            "[]\n",
            "dropout_3\n",
            "[]\n",
            "dense_9\n",
            "[array([[ 0.03686343],\n",
            "       [-0.09316012],\n",
            "       [-0.03330425],\n",
            "       [ 0.08999414],\n",
            "       [ 0.01844885],\n",
            "       [-0.00557729],\n",
            "       [-0.13754195],\n",
            "       [-0.01568126],\n",
            "       [ 0.07356212],\n",
            "       [-0.01543404],\n",
            "       [-0.17200735],\n",
            "       [ 0.02403663],\n",
            "       [-0.20358317],\n",
            "       [-0.20874098],\n",
            "       [ 0.19412875],\n",
            "       [-0.15096186],\n",
            "       [-0.13339928],\n",
            "       [-0.17385277],\n",
            "       [ 0.06224366],\n",
            "       [ 0.03469659],\n",
            "       [ 0.17523764],\n",
            "       [ 0.21467005],\n",
            "       [-0.06459291],\n",
            "       [ 0.20810595],\n",
            "       [ 0.02390422],\n",
            "       [ 0.1409644 ],\n",
            "       [ 0.02438652],\n",
            "       [ 0.07934622],\n",
            "       [-0.0035936 ],\n",
            "       [-0.07530524],\n",
            "       [ 0.09756403],\n",
            "       [-0.08092988],\n",
            "       [ 0.04788704],\n",
            "       [ 0.14448254],\n",
            "       [ 0.11253101],\n",
            "       [ 0.20377295],\n",
            "       [ 0.19896626],\n",
            "       [ 0.20509157],\n",
            "       [-0.00526349],\n",
            "       [-0.04626762],\n",
            "       [-0.05758264],\n",
            "       [-0.11794744],\n",
            "       [-0.03213762],\n",
            "       [-0.1787365 ],\n",
            "       [-0.1845486 ],\n",
            "       [ 0.12740572],\n",
            "       [-0.04680996],\n",
            "       [-0.10898086],\n",
            "       [ 0.09443071],\n",
            "       [-0.10965104],\n",
            "       [-0.1931846 ],\n",
            "       [ 0.22050485],\n",
            "       [-0.07273141],\n",
            "       [-0.1636646 ],\n",
            "       [ 0.1841657 ],\n",
            "       [-0.08505942],\n",
            "       [-0.00059588],\n",
            "       [ 0.06987409],\n",
            "       [-0.2212602 ],\n",
            "       [-0.18919517],\n",
            "       [-0.02214398],\n",
            "       [-0.18907224],\n",
            "       [-0.05703943],\n",
            "       [ 0.19647238],\n",
            "       [-0.18674493],\n",
            "       [ 0.03793213],\n",
            "       [ 0.01081697],\n",
            "       [ 0.2062343 ],\n",
            "       [ 0.11224154],\n",
            "       [ 0.20986733],\n",
            "       [ 0.01517739],\n",
            "       [ 0.08576398],\n",
            "       [ 0.15777154],\n",
            "       [ 0.0695493 ],\n",
            "       [-0.03916766],\n",
            "       [-0.15782228],\n",
            "       [-0.06908119],\n",
            "       [ 0.11243393],\n",
            "       [-0.17853488],\n",
            "       [ 0.0412379 ],\n",
            "       [ 0.055928  ],\n",
            "       [-0.13627075],\n",
            "       [-0.03626573],\n",
            "       [-0.05421082],\n",
            "       [ 0.04826868],\n",
            "       [-0.09210686],\n",
            "       [-0.07182194],\n",
            "       [ 0.20015134],\n",
            "       [-0.06756093],\n",
            "       [ 0.05901004],\n",
            "       [ 0.19717662],\n",
            "       [ 0.02391187],\n",
            "       [ 0.04207719],\n",
            "       [ 0.14658874],\n",
            "       [-0.17300388],\n",
            "       [-0.10927144],\n",
            "       [ 0.12218977],\n",
            "       [-0.12780818],\n",
            "       [ 0.1588518 ],\n",
            "       [ 0.14985521],\n",
            "       [ 0.131092  ],\n",
            "       [ 0.20172918],\n",
            "       [-0.13759108],\n",
            "       [-0.13911399],\n",
            "       [ 0.13931517],\n",
            "       [-0.05969391],\n",
            "       [ 0.0417425 ],\n",
            "       [-0.12418104],\n",
            "       [ 0.0580778 ],\n",
            "       [ 0.14098883],\n",
            "       [ 0.06068157],\n",
            "       [-0.15230447],\n",
            "       [ 0.09873724],\n",
            "       [-0.12348433],\n",
            "       [-0.02027057],\n",
            "       [ 0.17974712],\n",
            "       [-0.06804192],\n",
            "       [ 0.10828689],\n",
            "       [-0.09533512],\n",
            "       [ 0.1096333 ],\n",
            "       [ 0.15414533],\n",
            "       [ 0.00659367],\n",
            "       [-0.16170172],\n",
            "       [ 0.0394558 ],\n",
            "       [-0.21383658],\n",
            "       [-0.04082703],\n",
            "       [ 0.04622319],\n",
            "       [ 0.2043621 ]], dtype=float32), array([-0.00715309], dtype=float32)]\n",
            "activation_5\n",
            "[]\n"
          ]
        }
      ]
    },
    {
      "cell_type": "markdown",
      "metadata": {
        "id": "h54w7bxMs9DV"
      },
      "source": [
        "## Using whole dataset"
      ]
    },
    {
      "cell_type": "code",
      "metadata": {
        "id": "j3rxpHC3wu2F",
        "colab": {
          "base_uri": "https://localhost:8080/"
        },
        "outputId": "b57041e9-4d2e-4ca7-a251-cf2caa751d19"
      },
      "source": [
        "!wget http://kdd.ics.uci.edu/databases/kddcup99/kddcup.data.gz"
      ],
      "execution_count": null,
      "outputs": [
        {
          "output_type": "stream",
          "name": "stdout",
          "text": [
            "--2021-11-20 09:44:44--  http://kdd.ics.uci.edu/databases/kddcup99/kddcup.data.gz\n",
            "Resolving kdd.ics.uci.edu (kdd.ics.uci.edu)... 128.195.1.86\n",
            "Connecting to kdd.ics.uci.edu (kdd.ics.uci.edu)|128.195.1.86|:80... connected.\n",
            "HTTP request sent, awaiting response... 200 OK\n",
            "Length: 18115902 (17M) [application/x-gzip]\n",
            "Saving to: ‘kddcup.data.gz.1’\n",
            "\n",
            "kddcup.data.gz.1    100%[===================>]  17.28M  2.96MB/s    in 6.9s    \n",
            "\n",
            "2021-11-20 09:44:51 (2.50 MB/s) - ‘kddcup.data.gz.1’ saved [18115902/18115902]\n",
            "\n"
          ]
        }
      ]
    },
    {
      "cell_type": "code",
      "metadata": {
        "colab": {
          "base_uri": "https://localhost:8080/"
        },
        "id": "hmNop5thtGTN",
        "outputId": "c734c446-6ea7-4cf0-8bd8-d200be220df8"
      },
      "source": [
        "!gzip -d /content/kddcup.data.gz"
      ],
      "execution_count": null,
      "outputs": [
        {
          "output_type": "stream",
          "name": "stdout",
          "text": [
            "gzip: /content/kddcup.data already exists; do you wish to overwrite (y or n)? n\n",
            "\tnot overwritten\n"
          ]
        }
      ]
    },
    {
      "cell_type": "code",
      "metadata": {
        "colab": {
          "base_uri": "https://localhost:8080/"
        },
        "id": "rCU1pcCXtKC_",
        "outputId": "abe299ae-f32a-47f8-92c9-15e4a276f235"
      },
      "source": [
        "file_path = '/content/kddcup.data'\n",
        "df = pd.read_csv(file_path, header=None, names=col_names, index_col=False)\n",
        "df.head"
      ],
      "execution_count": null,
      "outputs": [
        {
          "output_type": "execute_result",
          "data": {
            "text/plain": [
              "<bound method NDFrame.head of          duration protocol_type  ... dst_host_srv_rerror_rate    label\n",
              "0               0           tcp  ...                      0.0  normal.\n",
              "1               0           tcp  ...                      0.0  normal.\n",
              "2               0           tcp  ...                      0.0  normal.\n",
              "3               0           tcp  ...                      0.0  normal.\n",
              "4               0           tcp  ...                      0.0  normal.\n",
              "...           ...           ...  ...                      ...      ...\n",
              "4898426         0           tcp  ...                      0.0  normal.\n",
              "4898427         0           tcp  ...                      0.0  normal.\n",
              "4898428         0           tcp  ...                      0.0  normal.\n",
              "4898429         0           tcp  ...                      0.0  normal.\n",
              "4898430         0           tcp  ...                      0.0  normal.\n",
              "\n",
              "[4898431 rows x 42 columns]>"
            ]
          },
          "metadata": {},
          "execution_count": 8
        }
      ]
    },
    {
      "cell_type": "code",
      "metadata": {
        "id": "QV0wfPyjtTeW"
      },
      "source": [
        "# and add one-hot-encoded columns\n",
        "numerics_data = df[col_numerics].copy()\n",
        "numerics_cat_data = pd.concat([numerics_data, cat_data] ,axis=1)"
      ],
      "execution_count": null,
      "outputs": []
    },
    {
      "cell_type": "code",
      "metadata": {
        "id": "zRnUUhw1tk5A"
      },
      "source": [
        "labels = df['label'].copy()\n",
        "transormed_labels = le.transform(labels)"
      ],
      "execution_count": null,
      "outputs": []
    },
    {
      "cell_type": "code",
      "metadata": {
        "colab": {
          "base_uri": "https://localhost:8080/",
          "height": 439
        },
        "id": "4CHLNfJfto8e",
        "outputId": "a0dd80bf-8edb-4c5d-f7e6-7ac9d024bafa"
      },
      "source": [
        "df"
      ],
      "execution_count": null,
      "outputs": [
        {
          "output_type": "execute_result",
          "data": {
            "text/html": [
              "<div>\n",
              "<style scoped>\n",
              "    .dataframe tbody tr th:only-of-type {\n",
              "        vertical-align: middle;\n",
              "    }\n",
              "\n",
              "    .dataframe tbody tr th {\n",
              "        vertical-align: top;\n",
              "    }\n",
              "\n",
              "    .dataframe thead th {\n",
              "        text-align: right;\n",
              "    }\n",
              "</style>\n",
              "<table border=\"1\" class=\"dataframe\">\n",
              "  <thead>\n",
              "    <tr style=\"text-align: right;\">\n",
              "      <th></th>\n",
              "      <th>duration</th>\n",
              "      <th>protocol_type</th>\n",
              "      <th>service</th>\n",
              "      <th>flag</th>\n",
              "      <th>src_bytes</th>\n",
              "      <th>dst_bytes</th>\n",
              "      <th>land</th>\n",
              "      <th>wrong_fragment</th>\n",
              "      <th>urgent</th>\n",
              "      <th>hot</th>\n",
              "      <th>num_failed_logins</th>\n",
              "      <th>logged_in</th>\n",
              "      <th>num_compromised</th>\n",
              "      <th>root_shell</th>\n",
              "      <th>su_attempted</th>\n",
              "      <th>num_root</th>\n",
              "      <th>num_file_creations</th>\n",
              "      <th>num_shells</th>\n",
              "      <th>num_access_files</th>\n",
              "      <th>num_outbound_cmds</th>\n",
              "      <th>is_host_login</th>\n",
              "      <th>is_guest_login</th>\n",
              "      <th>count</th>\n",
              "      <th>srv_count</th>\n",
              "      <th>serror_rate</th>\n",
              "      <th>srv_serror_rate</th>\n",
              "      <th>rerror_rate</th>\n",
              "      <th>srv_rerror_rate</th>\n",
              "      <th>same_srv_rate</th>\n",
              "      <th>diff_srv_rate</th>\n",
              "      <th>srv_diff_host_rate</th>\n",
              "      <th>dst_host_count</th>\n",
              "      <th>dst_host_srv_count</th>\n",
              "      <th>dst_host_same_srv_rate</th>\n",
              "      <th>dst_host_diff_srv_rate</th>\n",
              "      <th>dst_host_same_src_port_rate</th>\n",
              "      <th>dst_host_srv_diff_host_rate</th>\n",
              "      <th>dst_host_serror_rate</th>\n",
              "      <th>dst_host_srv_serror_rate</th>\n",
              "      <th>dst_host_rerror_rate</th>\n",
              "      <th>dst_host_srv_rerror_rate</th>\n",
              "      <th>label</th>\n",
              "    </tr>\n",
              "  </thead>\n",
              "  <tbody>\n",
              "    <tr>\n",
              "      <th>0</th>\n",
              "      <td>0</td>\n",
              "      <td>tcp</td>\n",
              "      <td>http</td>\n",
              "      <td>SF</td>\n",
              "      <td>215</td>\n",
              "      <td>45076</td>\n",
              "      <td>0</td>\n",
              "      <td>0</td>\n",
              "      <td>0</td>\n",
              "      <td>0</td>\n",
              "      <td>0</td>\n",
              "      <td>1</td>\n",
              "      <td>0</td>\n",
              "      <td>0</td>\n",
              "      <td>0</td>\n",
              "      <td>0</td>\n",
              "      <td>0</td>\n",
              "      <td>0</td>\n",
              "      <td>0</td>\n",
              "      <td>0</td>\n",
              "      <td>0</td>\n",
              "      <td>0</td>\n",
              "      <td>1</td>\n",
              "      <td>1</td>\n",
              "      <td>0.0</td>\n",
              "      <td>0.0</td>\n",
              "      <td>0.0</td>\n",
              "      <td>0.0</td>\n",
              "      <td>1.0</td>\n",
              "      <td>0.0</td>\n",
              "      <td>0.00</td>\n",
              "      <td>0</td>\n",
              "      <td>0</td>\n",
              "      <td>0.0</td>\n",
              "      <td>0.0</td>\n",
              "      <td>0.00</td>\n",
              "      <td>0.00</td>\n",
              "      <td>0.0</td>\n",
              "      <td>0.00</td>\n",
              "      <td>0.0</td>\n",
              "      <td>0.0</td>\n",
              "      <td>normal.</td>\n",
              "    </tr>\n",
              "    <tr>\n",
              "      <th>1</th>\n",
              "      <td>0</td>\n",
              "      <td>tcp</td>\n",
              "      <td>http</td>\n",
              "      <td>SF</td>\n",
              "      <td>162</td>\n",
              "      <td>4528</td>\n",
              "      <td>0</td>\n",
              "      <td>0</td>\n",
              "      <td>0</td>\n",
              "      <td>0</td>\n",
              "      <td>0</td>\n",
              "      <td>1</td>\n",
              "      <td>0</td>\n",
              "      <td>0</td>\n",
              "      <td>0</td>\n",
              "      <td>0</td>\n",
              "      <td>0</td>\n",
              "      <td>0</td>\n",
              "      <td>0</td>\n",
              "      <td>0</td>\n",
              "      <td>0</td>\n",
              "      <td>0</td>\n",
              "      <td>2</td>\n",
              "      <td>2</td>\n",
              "      <td>0.0</td>\n",
              "      <td>0.0</td>\n",
              "      <td>0.0</td>\n",
              "      <td>0.0</td>\n",
              "      <td>1.0</td>\n",
              "      <td>0.0</td>\n",
              "      <td>0.00</td>\n",
              "      <td>1</td>\n",
              "      <td>1</td>\n",
              "      <td>1.0</td>\n",
              "      <td>0.0</td>\n",
              "      <td>1.00</td>\n",
              "      <td>0.00</td>\n",
              "      <td>0.0</td>\n",
              "      <td>0.00</td>\n",
              "      <td>0.0</td>\n",
              "      <td>0.0</td>\n",
              "      <td>normal.</td>\n",
              "    </tr>\n",
              "    <tr>\n",
              "      <th>2</th>\n",
              "      <td>0</td>\n",
              "      <td>tcp</td>\n",
              "      <td>http</td>\n",
              "      <td>SF</td>\n",
              "      <td>236</td>\n",
              "      <td>1228</td>\n",
              "      <td>0</td>\n",
              "      <td>0</td>\n",
              "      <td>0</td>\n",
              "      <td>0</td>\n",
              "      <td>0</td>\n",
              "      <td>1</td>\n",
              "      <td>0</td>\n",
              "      <td>0</td>\n",
              "      <td>0</td>\n",
              "      <td>0</td>\n",
              "      <td>0</td>\n",
              "      <td>0</td>\n",
              "      <td>0</td>\n",
              "      <td>0</td>\n",
              "      <td>0</td>\n",
              "      <td>0</td>\n",
              "      <td>1</td>\n",
              "      <td>1</td>\n",
              "      <td>0.0</td>\n",
              "      <td>0.0</td>\n",
              "      <td>0.0</td>\n",
              "      <td>0.0</td>\n",
              "      <td>1.0</td>\n",
              "      <td>0.0</td>\n",
              "      <td>0.00</td>\n",
              "      <td>2</td>\n",
              "      <td>2</td>\n",
              "      <td>1.0</td>\n",
              "      <td>0.0</td>\n",
              "      <td>0.50</td>\n",
              "      <td>0.00</td>\n",
              "      <td>0.0</td>\n",
              "      <td>0.00</td>\n",
              "      <td>0.0</td>\n",
              "      <td>0.0</td>\n",
              "      <td>normal.</td>\n",
              "    </tr>\n",
              "    <tr>\n",
              "      <th>3</th>\n",
              "      <td>0</td>\n",
              "      <td>tcp</td>\n",
              "      <td>http</td>\n",
              "      <td>SF</td>\n",
              "      <td>233</td>\n",
              "      <td>2032</td>\n",
              "      <td>0</td>\n",
              "      <td>0</td>\n",
              "      <td>0</td>\n",
              "      <td>0</td>\n",
              "      <td>0</td>\n",
              "      <td>1</td>\n",
              "      <td>0</td>\n",
              "      <td>0</td>\n",
              "      <td>0</td>\n",
              "      <td>0</td>\n",
              "      <td>0</td>\n",
              "      <td>0</td>\n",
              "      <td>0</td>\n",
              "      <td>0</td>\n",
              "      <td>0</td>\n",
              "      <td>0</td>\n",
              "      <td>2</td>\n",
              "      <td>2</td>\n",
              "      <td>0.0</td>\n",
              "      <td>0.0</td>\n",
              "      <td>0.0</td>\n",
              "      <td>0.0</td>\n",
              "      <td>1.0</td>\n",
              "      <td>0.0</td>\n",
              "      <td>0.00</td>\n",
              "      <td>3</td>\n",
              "      <td>3</td>\n",
              "      <td>1.0</td>\n",
              "      <td>0.0</td>\n",
              "      <td>0.33</td>\n",
              "      <td>0.00</td>\n",
              "      <td>0.0</td>\n",
              "      <td>0.00</td>\n",
              "      <td>0.0</td>\n",
              "      <td>0.0</td>\n",
              "      <td>normal.</td>\n",
              "    </tr>\n",
              "    <tr>\n",
              "      <th>4</th>\n",
              "      <td>0</td>\n",
              "      <td>tcp</td>\n",
              "      <td>http</td>\n",
              "      <td>SF</td>\n",
              "      <td>239</td>\n",
              "      <td>486</td>\n",
              "      <td>0</td>\n",
              "      <td>0</td>\n",
              "      <td>0</td>\n",
              "      <td>0</td>\n",
              "      <td>0</td>\n",
              "      <td>1</td>\n",
              "      <td>0</td>\n",
              "      <td>0</td>\n",
              "      <td>0</td>\n",
              "      <td>0</td>\n",
              "      <td>0</td>\n",
              "      <td>0</td>\n",
              "      <td>0</td>\n",
              "      <td>0</td>\n",
              "      <td>0</td>\n",
              "      <td>0</td>\n",
              "      <td>3</td>\n",
              "      <td>3</td>\n",
              "      <td>0.0</td>\n",
              "      <td>0.0</td>\n",
              "      <td>0.0</td>\n",
              "      <td>0.0</td>\n",
              "      <td>1.0</td>\n",
              "      <td>0.0</td>\n",
              "      <td>0.00</td>\n",
              "      <td>4</td>\n",
              "      <td>4</td>\n",
              "      <td>1.0</td>\n",
              "      <td>0.0</td>\n",
              "      <td>0.25</td>\n",
              "      <td>0.00</td>\n",
              "      <td>0.0</td>\n",
              "      <td>0.00</td>\n",
              "      <td>0.0</td>\n",
              "      <td>0.0</td>\n",
              "      <td>normal.</td>\n",
              "    </tr>\n",
              "    <tr>\n",
              "      <th>...</th>\n",
              "      <td>...</td>\n",
              "      <td>...</td>\n",
              "      <td>...</td>\n",
              "      <td>...</td>\n",
              "      <td>...</td>\n",
              "      <td>...</td>\n",
              "      <td>...</td>\n",
              "      <td>...</td>\n",
              "      <td>...</td>\n",
              "      <td>...</td>\n",
              "      <td>...</td>\n",
              "      <td>...</td>\n",
              "      <td>...</td>\n",
              "      <td>...</td>\n",
              "      <td>...</td>\n",
              "      <td>...</td>\n",
              "      <td>...</td>\n",
              "      <td>...</td>\n",
              "      <td>...</td>\n",
              "      <td>...</td>\n",
              "      <td>...</td>\n",
              "      <td>...</td>\n",
              "      <td>...</td>\n",
              "      <td>...</td>\n",
              "      <td>...</td>\n",
              "      <td>...</td>\n",
              "      <td>...</td>\n",
              "      <td>...</td>\n",
              "      <td>...</td>\n",
              "      <td>...</td>\n",
              "      <td>...</td>\n",
              "      <td>...</td>\n",
              "      <td>...</td>\n",
              "      <td>...</td>\n",
              "      <td>...</td>\n",
              "      <td>...</td>\n",
              "      <td>...</td>\n",
              "      <td>...</td>\n",
              "      <td>...</td>\n",
              "      <td>...</td>\n",
              "      <td>...</td>\n",
              "      <td>...</td>\n",
              "    </tr>\n",
              "    <tr>\n",
              "      <th>4898426</th>\n",
              "      <td>0</td>\n",
              "      <td>tcp</td>\n",
              "      <td>http</td>\n",
              "      <td>SF</td>\n",
              "      <td>212</td>\n",
              "      <td>2288</td>\n",
              "      <td>0</td>\n",
              "      <td>0</td>\n",
              "      <td>0</td>\n",
              "      <td>0</td>\n",
              "      <td>0</td>\n",
              "      <td>1</td>\n",
              "      <td>0</td>\n",
              "      <td>0</td>\n",
              "      <td>0</td>\n",
              "      <td>0</td>\n",
              "      <td>0</td>\n",
              "      <td>0</td>\n",
              "      <td>0</td>\n",
              "      <td>0</td>\n",
              "      <td>0</td>\n",
              "      <td>0</td>\n",
              "      <td>3</td>\n",
              "      <td>32</td>\n",
              "      <td>0.0</td>\n",
              "      <td>0.0</td>\n",
              "      <td>0.0</td>\n",
              "      <td>0.0</td>\n",
              "      <td>1.0</td>\n",
              "      <td>0.0</td>\n",
              "      <td>0.16</td>\n",
              "      <td>3</td>\n",
              "      <td>255</td>\n",
              "      <td>1.0</td>\n",
              "      <td>0.0</td>\n",
              "      <td>0.33</td>\n",
              "      <td>0.05</td>\n",
              "      <td>0.0</td>\n",
              "      <td>0.01</td>\n",
              "      <td>0.0</td>\n",
              "      <td>0.0</td>\n",
              "      <td>normal.</td>\n",
              "    </tr>\n",
              "    <tr>\n",
              "      <th>4898427</th>\n",
              "      <td>0</td>\n",
              "      <td>tcp</td>\n",
              "      <td>http</td>\n",
              "      <td>SF</td>\n",
              "      <td>219</td>\n",
              "      <td>236</td>\n",
              "      <td>0</td>\n",
              "      <td>0</td>\n",
              "      <td>0</td>\n",
              "      <td>0</td>\n",
              "      <td>0</td>\n",
              "      <td>1</td>\n",
              "      <td>0</td>\n",
              "      <td>0</td>\n",
              "      <td>0</td>\n",
              "      <td>0</td>\n",
              "      <td>0</td>\n",
              "      <td>0</td>\n",
              "      <td>0</td>\n",
              "      <td>0</td>\n",
              "      <td>0</td>\n",
              "      <td>0</td>\n",
              "      <td>4</td>\n",
              "      <td>33</td>\n",
              "      <td>0.0</td>\n",
              "      <td>0.0</td>\n",
              "      <td>0.0</td>\n",
              "      <td>0.0</td>\n",
              "      <td>1.0</td>\n",
              "      <td>0.0</td>\n",
              "      <td>0.15</td>\n",
              "      <td>4</td>\n",
              "      <td>255</td>\n",
              "      <td>1.0</td>\n",
              "      <td>0.0</td>\n",
              "      <td>0.25</td>\n",
              "      <td>0.05</td>\n",
              "      <td>0.0</td>\n",
              "      <td>0.01</td>\n",
              "      <td>0.0</td>\n",
              "      <td>0.0</td>\n",
              "      <td>normal.</td>\n",
              "    </tr>\n",
              "    <tr>\n",
              "      <th>4898428</th>\n",
              "      <td>0</td>\n",
              "      <td>tcp</td>\n",
              "      <td>http</td>\n",
              "      <td>SF</td>\n",
              "      <td>218</td>\n",
              "      <td>3610</td>\n",
              "      <td>0</td>\n",
              "      <td>0</td>\n",
              "      <td>0</td>\n",
              "      <td>0</td>\n",
              "      <td>0</td>\n",
              "      <td>1</td>\n",
              "      <td>0</td>\n",
              "      <td>0</td>\n",
              "      <td>0</td>\n",
              "      <td>0</td>\n",
              "      <td>0</td>\n",
              "      <td>0</td>\n",
              "      <td>0</td>\n",
              "      <td>0</td>\n",
              "      <td>0</td>\n",
              "      <td>0</td>\n",
              "      <td>5</td>\n",
              "      <td>34</td>\n",
              "      <td>0.0</td>\n",
              "      <td>0.0</td>\n",
              "      <td>0.0</td>\n",
              "      <td>0.0</td>\n",
              "      <td>1.0</td>\n",
              "      <td>0.0</td>\n",
              "      <td>0.15</td>\n",
              "      <td>5</td>\n",
              "      <td>255</td>\n",
              "      <td>1.0</td>\n",
              "      <td>0.0</td>\n",
              "      <td>0.20</td>\n",
              "      <td>0.05</td>\n",
              "      <td>0.0</td>\n",
              "      <td>0.01</td>\n",
              "      <td>0.0</td>\n",
              "      <td>0.0</td>\n",
              "      <td>normal.</td>\n",
              "    </tr>\n",
              "    <tr>\n",
              "      <th>4898429</th>\n",
              "      <td>0</td>\n",
              "      <td>tcp</td>\n",
              "      <td>http</td>\n",
              "      <td>SF</td>\n",
              "      <td>219</td>\n",
              "      <td>1234</td>\n",
              "      <td>0</td>\n",
              "      <td>0</td>\n",
              "      <td>0</td>\n",
              "      <td>0</td>\n",
              "      <td>0</td>\n",
              "      <td>1</td>\n",
              "      <td>0</td>\n",
              "      <td>0</td>\n",
              "      <td>0</td>\n",
              "      <td>0</td>\n",
              "      <td>0</td>\n",
              "      <td>0</td>\n",
              "      <td>0</td>\n",
              "      <td>0</td>\n",
              "      <td>0</td>\n",
              "      <td>0</td>\n",
              "      <td>6</td>\n",
              "      <td>35</td>\n",
              "      <td>0.0</td>\n",
              "      <td>0.0</td>\n",
              "      <td>0.0</td>\n",
              "      <td>0.0</td>\n",
              "      <td>1.0</td>\n",
              "      <td>0.0</td>\n",
              "      <td>0.14</td>\n",
              "      <td>6</td>\n",
              "      <td>255</td>\n",
              "      <td>1.0</td>\n",
              "      <td>0.0</td>\n",
              "      <td>0.17</td>\n",
              "      <td>0.05</td>\n",
              "      <td>0.0</td>\n",
              "      <td>0.01</td>\n",
              "      <td>0.0</td>\n",
              "      <td>0.0</td>\n",
              "      <td>normal.</td>\n",
              "    </tr>\n",
              "    <tr>\n",
              "      <th>4898430</th>\n",
              "      <td>0</td>\n",
              "      <td>tcp</td>\n",
              "      <td>http</td>\n",
              "      <td>SF</td>\n",
              "      <td>219</td>\n",
              "      <td>1098</td>\n",
              "      <td>0</td>\n",
              "      <td>0</td>\n",
              "      <td>0</td>\n",
              "      <td>0</td>\n",
              "      <td>0</td>\n",
              "      <td>1</td>\n",
              "      <td>0</td>\n",
              "      <td>0</td>\n",
              "      <td>0</td>\n",
              "      <td>0</td>\n",
              "      <td>0</td>\n",
              "      <td>0</td>\n",
              "      <td>0</td>\n",
              "      <td>0</td>\n",
              "      <td>0</td>\n",
              "      <td>0</td>\n",
              "      <td>1</td>\n",
              "      <td>1</td>\n",
              "      <td>0.0</td>\n",
              "      <td>0.0</td>\n",
              "      <td>0.0</td>\n",
              "      <td>0.0</td>\n",
              "      <td>1.0</td>\n",
              "      <td>0.0</td>\n",
              "      <td>0.00</td>\n",
              "      <td>7</td>\n",
              "      <td>255</td>\n",
              "      <td>1.0</td>\n",
              "      <td>0.0</td>\n",
              "      <td>0.14</td>\n",
              "      <td>0.05</td>\n",
              "      <td>0.0</td>\n",
              "      <td>0.01</td>\n",
              "      <td>0.0</td>\n",
              "      <td>0.0</td>\n",
              "      <td>normal.</td>\n",
              "    </tr>\n",
              "  </tbody>\n",
              "</table>\n",
              "<p>4898431 rows × 42 columns</p>\n",
              "</div>"
            ],
            "text/plain": [
              "         duration protocol_type  ... dst_host_srv_rerror_rate    label\n",
              "0               0           tcp  ...                      0.0  normal.\n",
              "1               0           tcp  ...                      0.0  normal.\n",
              "2               0           tcp  ...                      0.0  normal.\n",
              "3               0           tcp  ...                      0.0  normal.\n",
              "4               0           tcp  ...                      0.0  normal.\n",
              "...           ...           ...  ...                      ...      ...\n",
              "4898426         0           tcp  ...                      0.0  normal.\n",
              "4898427         0           tcp  ...                      0.0  normal.\n",
              "4898428         0           tcp  ...                      0.0  normal.\n",
              "4898429         0           tcp  ...                      0.0  normal.\n",
              "4898430         0           tcp  ...                      0.0  normal.\n",
              "\n",
              "[4898431 rows x 42 columns]"
            ]
          },
          "metadata": {},
          "execution_count": 19
        }
      ]
    },
    {
      "cell_type": "markdown",
      "metadata": {
        "id": "0BrKbzN3tuTs"
      },
      "source": [
        "## Train-test split "
      ]
    },
    {
      "cell_type": "code",
      "metadata": {
        "id": "L4dcRYCpttNr"
      },
      "source": [
        "# split dataset (with applied transforms) + labels \n",
        "# into train/test with 75% ratio\n",
        "\n",
        "X_train, X_test, Y_train, Y_test = train_test_split(\n",
        "    numerics_cat_data,\n",
        "    transormed_labels,\n",
        "    test_size = 0.25,\n",
        "    random_state = 42)"
      ],
      "execution_count": null,
      "outputs": []
    },
    {
      "cell_type": "code",
      "metadata": {
        "colab": {
          "base_uri": "https://localhost:8080/"
        },
        "id": "B4Eo1PnQtyAF",
        "outputId": "da898005-d6a3-431e-f07d-4c5f3046b591"
      },
      "source": [
        "print(X_train.shape)\n",
        "print(X_test.shape)\n",
        "print(Y_train.shape)\n",
        "print(Y_test.shape)"
      ],
      "execution_count": null,
      "outputs": [
        {
          "output_type": "stream",
          "name": "stdout",
          "text": [
            "(3673823, 123)\n",
            "(1224608, 123)\n",
            "(3673823,)\n",
            "(1224608,)\n"
          ]
        }
      ]
    },
    {
      "cell_type": "markdown",
      "metadata": {
        "id": "AXPdXnfpwjtX"
      },
      "source": [
        "## RandomForest with full dataset"
      ]
    },
    {
      "cell_type": "code",
      "metadata": {
        "id": "c5A2E0q7weK8"
      },
      "source": [
        "from sklearn.ensemble import RandomForestClassifier\n",
        "from sklearn.datasets import make_classification"
      ],
      "execution_count": null,
      "outputs": []
    },
    {
      "cell_type": "code",
      "metadata": {
        "colab": {
          "base_uri": "https://localhost:8080/"
        },
        "id": "2Jxzs3BdweK-",
        "outputId": "24d07d7b-00c3-404a-a10a-ea99e0f2e472"
      },
      "source": [
        "%%time\n",
        "model = RandomForestClassifier(n_estimators=300) \n",
        "model.fit(X_train, Y_train) "
      ],
      "execution_count": null,
      "outputs": [
        {
          "output_type": "stream",
          "name": "stdout",
          "text": [
            "CPU times: user 3 µs, sys: 0 ns, total: 3 µs\n",
            "Wall time: 8.11 µs\n"
          ]
        }
      ]
    },
    {
      "cell_type": "code",
      "metadata": {
        "id": "irecE5ONweK_"
      },
      "source": [
        "from sklearn import tree\n",
        "from os import system\n",
        "\n",
        "estimator = model.estimators_[0] \n",
        "feature_names = [i for i in x_train.columns] \n",
        "\n",
        "tree.export_graphviz(estimator, out_file='tree.dot', \n",
        "                feature_names = feature_names, \n",
        "                rounded = True, \n",
        "                filled = True) \n",
        " \n",
        "#system.call(['dot', '-Tpng', 'tree.dot', '-o', 'tree.png', '-Gdpi=600']) \n",
        " \n",
        "#Image(filename = 'tree.png') \n"
      ],
      "execution_count": null,
      "outputs": []
    },
    {
      "cell_type": "code",
      "metadata": {
        "id": "hYnR2tcuweLA"
      },
      "source": [
        "!dot -Tpng tree.dot -o tree.png"
      ],
      "execution_count": null,
      "outputs": []
    },
    {
      "cell_type": "code",
      "metadata": {
        "colab": {
          "base_uri": "https://localhost:8080/"
        },
        "id": "jWfP1Qh1weLB",
        "outputId": "995335e7-8ed3-4b9a-fa07-c717e7ce372d"
      },
      "source": [
        "y_predict = model.predict(X_test)"
      ],
      "execution_count": null,
      "outputs": [
        {
          "output_type": "stream",
          "name": "stderr",
          "text": [
            "/usr/local/lib/python3.7/dist-packages/sklearn/base.py:446: UserWarning: X does not have valid feature names, but RandomForestClassifier was fitted with feature names\n",
            "  \"X does not have valid feature names, but\"\n"
          ]
        }
      ]
    },
    {
      "cell_type": "code",
      "metadata": {
        "colab": {
          "base_uri": "https://localhost:8080/"
        },
        "id": "PK6iXTYKweLD",
        "outputId": "92c4d67c-d59e-4fb8-ba51-4eb12aea18a9"
      },
      "source": [
        "y_predict"
      ],
      "execution_count": null,
      "outputs": [
        {
          "output_type": "execute_result",
          "data": {
            "text/plain": [
              "array([ 5,  5,  5, ...,  5, 11, 11])"
            ]
          },
          "metadata": {},
          "execution_count": 116
        }
      ]
    },
    {
      "cell_type": "code",
      "metadata": {
        "id": "Q-mlFxmmweLD"
      },
      "source": [
        "import seaborn as sns"
      ],
      "execution_count": null,
      "outputs": []
    },
    {
      "cell_type": "code",
      "metadata": {
        "colab": {
          "base_uri": "https://localhost:8080/",
          "height": 336
        },
        "id": "FW0thvNWweLE",
        "outputId": "2ac90733-2ded-4550-aafb-dfd841f2c185"
      },
      "source": [
        "sns.countplot(y_predict)"
      ],
      "execution_count": null,
      "outputs": [
        {
          "output_type": "stream",
          "name": "stderr",
          "text": [
            "/usr/local/lib/python3.7/dist-packages/seaborn/_decorators.py:43: FutureWarning: Pass the following variable as a keyword arg: x. From version 0.12, the only valid positional argument will be `data`, and passing other arguments without an explicit keyword will result in an error or misinterpretation.\n",
            "  FutureWarning\n"
          ]
        },
        {
          "output_type": "execute_result",
          "data": {
            "text/plain": [
              "<matplotlib.axes._subplots.AxesSubplot at 0x7fc944affc10>"
            ]
          },
          "metadata": {},
          "execution_count": 121
        },
        {
          "output_type": "display_data",
          "data": {
            "image/png": "[encoded data removed]",
            "text/plain": [
              "<Figure size 432x288 with 1 Axes>"
            ]
          },
          "metadata": {
            "needs_background": "light"
          }
        }
      ]
    },
    {
      "cell_type": "code",
      "metadata": {
        "id": "XBbt7PfQweLG"
      },
      "source": [
        "from sklearn.metrics import confusion_matrix\n",
        "import matplotlib.pyplot as plt\n",
        "from sklearn.metrics import plot_confusion_matrix\n",
        "import seaborn as sn"
      ],
      "execution_count": null,
      "outputs": []
    },
    {
      "cell_type": "code",
      "metadata": {
        "colab": {
          "base_uri": "https://localhost:8080/"
        },
        "id": "qeaAQQ9sweLH",
        "outputId": "5fb47535-26d1-4ba2-967c-0034d8fb283f"
      },
      "source": [
        "print(matr)"
      ],
      "execution_count": null,
      "outputs": [
        {
          "output_type": "stream",
          "name": "stdout",
          "text": [
            "[[    0     0     0     0     0     0     0     0     0     0     0     0\n",
            "      0     0     0]\n",
            " [    0     0     0     0     0     0     0     0     0     0     0     0\n",
            "      0     0     0]\n",
            " [    0     1     0     0     0     0     0     0     0     0     0     0\n",
            "      0     0     0]\n",
            " [  149 70651     0     0     0     0     0     0     0     0     0     0\n",
            "      0     0     0]\n",
            " [    0     5     0     0     0     0     0     0     0     0     0     0\n",
            "      0     0     0]\n",
            " [    0 26709     0     0     0     0     0     0     0     0     0     0\n",
            "      0     0     0]\n",
            " [    0    21     0     0     0     0     0     0     0     0     0     0\n",
            "      0     0     0]\n",
            " [23599   734     0     0     0     0     0     0     0     0     0     0\n",
            "      0     0     0]\n",
            " [    0    45     0     0     0     0     0     0     0     0     0     0\n",
            "      0     0     0]\n",
            " [    0   285     0     0     0     0     0     0     0     0     0     0\n",
            "      0     0     0]\n",
            " [   14     0     0     0     0     0     0     0     0     0     0     0\n",
            "      0     0     0]\n",
            " [  500   377     0     0     0     0     0     0     0     0     0     0\n",
            "      0     0     0]\n",
            " [    0   240     0     0     0     0     0     0     0     0     0     0\n",
            "      0     0     0]\n",
            " [    5   166     0     0     0     0     0     0     0     0     0     0\n",
            "      0     0     0]\n",
            " [    0     5     0     0     0     0     0     0     0     0     0     0\n",
            "      0     0     0]]\n"
          ]
        }
      ]
    },
    {
      "cell_type": "code",
      "metadata": {
        "colab": {
          "base_uri": "https://localhost:8080/",
          "height": 284
        },
        "id": "o6XysMeXweLH",
        "outputId": "fc972035-6934-44d2-e82d-61eff269ee05"
      },
      "source": [
        "matr = confusion_matrix(y_predict, y_test)\n",
        "sn.heatmap(matr, annot=True)"
      ],
      "execution_count": null,
      "outputs": [
        {
          "output_type": "execute_result",
          "data": {
            "text/plain": [
              "<matplotlib.axes._subplots.AxesSubplot at 0x7fc945e37510>"
            ]
          },
          "metadata": {},
          "execution_count": 117
        },
        {
          "output_type": "display_data",
          "data": {
            "image/png": "[encoded data removed]",
            "text/plain": [
              "<Figure size 432x288 with 2 Axes>"
            ]
          },
          "metadata": {
            "needs_background": "light"
          }
        }
      ]
    },
    {
      "cell_type": "code",
      "metadata": {
        "id": "Xy283DkCweLI"
      },
      "source": [
        "from sklearn.metrics import roc_curve, roc_auc_score"
      ],
      "execution_count": null,
      "outputs": []
    },
    {
      "cell_type": "code",
      "metadata": {
        "colab": {
          "base_uri": "https://localhost:8080/",
          "height": 282
        },
        "id": "uPRA3PKbweLJ",
        "outputId": "cb0b2950-0b39-4abe-ed90-a62334322a3c"
      },
      "source": [
        "roc_auc_score(y_test, y_predict)\n",
        "fpr, tpr, thr = roc_curve(y_test, y_predict)\n",
        "plt.plot(fpr, tpr)"
      ],
      "execution_count": null,
      "outputs": [
        {
          "output_type": "execute_result",
          "data": {
            "text/plain": [
              "[<matplotlib.lines.Line2D at 0x7fc944b2b250>]"
            ]
          },
          "metadata": {},
          "execution_count": 118
        },
        {
          "output_type": "display_data",
          "data": {
            "image/png": "[encoded data removed]",
            "text/plain": [
              "<Figure size 432x288 with 1 Axes>"
            ]
          },
          "metadata": {
            "needs_background": "light"
          }
        }
      ]
    },
    {
      "cell_type": "code",
      "metadata": {
        "colab": {
          "base_uri": "https://localhost:8080/"
        },
        "id": "6OzT09HxweLJ",
        "outputId": "cb6d805a-5c0c-441d-b569-a2aab4768bc1"
      },
      "source": [
        "m = 10\n",
        "temp = 0\n",
        "for i in range(fpr.size):\n",
        "    if (fpr[i] ** 2 + (tpr[i] - 1) ** 2 < m):\n",
        "        m = fpr[i] ** 2 + (tpr[i] - 1) ** 2\n",
        "        temp = i\n",
        "print(\"OPTIMAL POINTS: \",fpr[temp],tpr[temp],thr[temp])"
      ],
      "execution_count": null,
      "outputs": [
        {
          "output_type": "stream",
          "name": "stdout",
          "text": [
            "OPTIMAL POINTS:  0.0 0.7144973246405143 14\n"
          ]
        }
      ]
    },
    {
      "cell_type": "code",
      "metadata": {
        "colab": {
          "base_uri": "https://localhost:8080/"
        },
        "id": "tNsuj_w-weLK",
        "outputId": "ca76d0dd-aef0-44fc-d179-d71286d5c8f5"
      },
      "source": [
        "y_predict"
      ],
      "execution_count": null,
      "outputs": [
        {
          "output_type": "execute_result",
          "data": {
            "text/plain": [
              "array([18, 18, 18, ..., 18, 11, 11])"
            ]
          },
          "metadata": {},
          "execution_count": 71
        }
      ]
    },
    {
      "cell_type": "code",
      "metadata": {
        "colab": {
          "base_uri": "https://localhost:8080/"
        },
        "id": "DOm40c1eweLL",
        "outputId": "9cb0da07-c3f6-4787-f647-4c338ac3cc6a"
      },
      "source": [
        "print(set(y_predict))"
      ],
      "execution_count": null,
      "outputs": [
        {
          "output_type": "stream",
          "name": "stdout",
          "text": [
            "{0, 5, 9, 11, 14, 15, 17, 18, 20}\n"
          ]
        }
      ]
    },
    {
      "cell_type": "code",
      "metadata": {
        "colab": {
          "base_uri": "https://localhost:8080/"
        },
        "id": "NbrVY3cPweLL",
        "outputId": "67d65866-6826-4745-e82a-2cc9a6661df3"
      },
      "source": [
        "y_test"
      ],
      "execution_count": null,
      "outputs": [
        {
          "output_type": "execute_result",
          "data": {
            "text/plain": [
              "array([1., 1., 1., ..., 1., 0., 0.], dtype=float32)"
            ]
          },
          "metadata": {},
          "execution_count": 72
        }
      ]
    }
  ]
}